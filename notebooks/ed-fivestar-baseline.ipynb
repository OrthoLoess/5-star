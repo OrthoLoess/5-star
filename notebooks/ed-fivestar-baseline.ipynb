{
 "cells": [
  {
   "cell_type": "markdown",
   "metadata": {},
   "source": [
    "# Imports"
   ]
  },
  {
   "cell_type": "code",
   "execution_count": 337,
   "metadata": {},
   "outputs": [
    {
     "name": "stdout",
     "output_type": "stream",
     "text": [
      "The autoreload extension is already loaded. To reload it, use:\n",
      "  %reload_ext autoreload\n"
     ]
    }
   ],
   "source": [
    "import pandas as pd\n",
    "import numpy as np\n",
    "import datetime\n",
    "import json\n",
    "import matplotlib.pyplot as plt\n",
    "import seaborn as sns\n",
    "\n",
    "pd.set_option('display.max_columns', 500)\n",
    "pd.set_option('display.max_rows', 500)\n",
    "%load_ext autoreload\n",
    "%autoreload 2"
   ]
  },
  {
   "cell_type": "code",
   "execution_count": 581,
   "metadata": {},
   "outputs": [],
   "source": [
    "from sklearn.model_selection import train_test_split, GridSearchCV, RandomizedSearchCV\n",
    "from sklearn.preprocessing import StandardScaler, FunctionTransformer\n",
    "from sklearn.impute import SimpleImputer\n",
    "from sklearn.linear_model import LinearRegression, Lasso, Ridge, RidgeCV, ElasticNet\n",
    "from sklearn import datasets, linear_model\n",
    "import statsmodels.api as sm\n",
    "from scipy import stats\n",
    "from sklearn.cluster import KMeans\n",
    "from sklearn.decomposition import PCA\n",
    "from sklearn.metrics import r2_score\n",
    "from sklearn.inspection import permutation_importance\n",
    "from sklearn.pipeline import Pipeline, make_pipeline\n",
    "from sklearn.compose import ColumnTransformer"
   ]
  },
  {
   "cell_type": "code",
   "execution_count": 2,
   "metadata": {},
   "outputs": [],
   "source": [
    "from fivestar.data import get_data\n",
    "listings = get_data()"
   ]
  },
  {
   "cell_type": "code",
   "execution_count": 3,
   "metadata": {},
   "outputs": [],
   "source": [
    "listings.reset_index(drop=True, inplace=True)"
   ]
  },
  {
   "cell_type": "markdown",
   "metadata": {},
   "source": [
    "# Functions"
   ]
  },
  {
   "cell_type": "markdown",
   "metadata": {
    "heading_collapsed": true
   },
   "source": [
    "## amenitiy functions"
   ]
  },
  {
   "cell_type": "code",
   "execution_count": 4,
   "metadata": {
    "hidden": true
   },
   "outputs": [],
   "source": [
    "def decode_amenities(df):\n",
    "    data = df   \n",
    "    def str_to_list(strn):\n",
    "        row_items = strn[1:-1].split(',')\n",
    "        for key,item in enumerate(row_items):\n",
    "            row_items[key] = item.strip('\"').casefold()\n",
    "        return row_items    \n",
    "    return data[['amenities']].applymap(str_to_list)\n",
    "\n",
    "def count_amenities(df):\n",
    "    data = df\n",
    "    amenities = decode_amenities(data)\n",
    "    data['amenities_count'] = amenities.applymap(lambda x: len(x))\n",
    "    return data[['amenities_count']]\n",
    "\n",
    "def has_amenity(df, name, alias=None):\n",
    "    data = df\n",
    "    if not alias:\n",
    "        alias = name\n",
    "    amenities = decode_amenities(data)\n",
    "    col_name = f'has_{alias}'\n",
    "    amenities[col_name] = amenities[['amenities']].applymap(lambda x: 1 if name.casefold() in x else 0)\n",
    "    return amenities[[col_name]]\n",
    "\n",
    "def count_amenity(df, name):\n",
    "    data = has_amenity(df, name)\n",
    "    return int(data.sum())\n",
    "\n",
    "def count_filterables(df, filterables):\n",
    "    data = decode_amenities(df)\n",
    "    def apply_count(amenities):\n",
    "        count = 0\n",
    "        for item in filterables:\n",
    "            if isinstance(item, list):\n",
    "                for x in item:\n",
    "                    if x.casefold() in amenities:\n",
    "                        count += 1\n",
    "                        break\n",
    "            else:\n",
    "                if item.casefold() in amenities:\n",
    "                    count += 1\n",
    "        return count\n",
    "    data['fitered_amenities_count'] = data.applymap(apply_count)\n",
    "    return data[['fitered_amenities_count']]\n",
    "\n",
    "def encode_filterables(df, filterables):\n",
    "    data = decode_amenities(df)\n",
    "    for item in filterables:\n",
    "        if isinstance(item, list):\n",
    "            data[''.join([i for i in item[0] if i.isalpha()])] = 0\n",
    "        else:\n",
    "            data[''.join([i for i in item if i.isalpha()])] = 0\n",
    "    encoding = data.drop(columns='amenities').copy()\n",
    "    for index,column in enumerate(encoding.columns):\n",
    "        if isinstance(filterables[index], list):\n",
    "            for item in filterables[index]:\n",
    "                data[column] =  data[['amenities',column]].apply(\n",
    "                    lambda x: 1 if item.casefold() in x['amenities'] else 1 if x[column] == 1 else 0,\n",
    "                    axis=1)\n",
    "        else:\n",
    "            data[column] =  data[['amenities']].apply(lambda x: 1 if filterables[index].casefold() in x['amenities'] else 0, axis=1)\n",
    "    return data.drop(columns='amenities')"
   ]
  },
  {
   "cell_type": "markdown",
   "metadata": {
    "heading_collapsed": true
   },
   "source": [
    "## property/roomtype and cancelation policy"
   ]
  },
  {
   "cell_type": "code",
   "execution_count": 5,
   "metadata": {
    "hidden": true
   },
   "outputs": [],
   "source": [
    "def recode_cancellation(data):\n",
    "    \n",
    "    def recode_cancel(n):\n",
    "        if n in ('strict_14_with_grace_period','super_strict_30', 'super_strict_60', 'strict'):\n",
    "            recode = 'strict'\n",
    "        elif n in ('moderate','flexible'):\n",
    "            recode = n\n",
    "        else:   \n",
    "            recode = 'Other'       \n",
    "        return recode\n",
    "    \n",
    "    data['cancellation_policy'] = data['cancellation_policy'].map(recode_cancel)\n",
    "    return data[['cancellation_policy']]\n",
    "\n",
    "def recode_property_room_type(data):\n",
    "    \n",
    "    def recode_prop(n):\n",
    "        if n in ('Apartment','House'):\n",
    "            recode = n\n",
    "        else:\n",
    "            recode = 'Other'       \n",
    "        return recode\n",
    "    \n",
    "    def recode_room(n):\n",
    "        if n == 'Entire home/apt':\n",
    "            recode = 'Entire'\n",
    "        else:\n",
    "            recode = 'Other'       \n",
    "        return recode\n",
    "    \n",
    "    data['property_type'] = data['property_type'].map(recode_prop)\n",
    "    data['room_type'] = data['room_type'].map(recode_room)\n",
    "    return data[['property_type','room_type']]"
   ]
  },
  {
   "cell_type": "code",
   "execution_count": 6,
   "metadata": {
    "hidden": true
   },
   "outputs": [],
   "source": [
    "def host_london_flag(data):\n",
    "    data['host_london_flag'] = data['host_location'].str.contains('london', case=False, regex=True)\n",
    "    return data[['host_london_flag']]\n"
   ]
  },
  {
   "cell_type": "markdown",
   "metadata": {
    "heading_collapsed": true
   },
   "source": [
    "## price columns"
   ]
  },
  {
   "cell_type": "code",
   "execution_count": 7,
   "metadata": {
    "hidden": true
   },
   "outputs": [],
   "source": [
    "def price_tonumerical(df, price_columns):\n",
    "    '''This function takes as input a dataframe and a list of price column names and converts the columnns to\n",
    "    floats'''\n",
    "    for column in price_columns:\n",
    "        df[[column]] = df[[column]].applymap(str_to_price)\n",
    "    return df[price_columns]\n",
    "def str_to_price(strn):\n",
    "    '''The function converts a price entry from string to float and removes the $ character'''\n",
    "    if type(strn)== str:\n",
    "        return float(strn.strip('$').replace(',',''))\n",
    "    return strn\n",
    "\n",
    "def calc_price_columns(data, cleaning_ratio=True, deposit_ratio=True):\n",
    "    def col_tonumerical(df, column):\n",
    "        '''This function takes as input a dataframe and a column name and converts the columnn to\n",
    "        floats'''\n",
    "        df[[column]] = df[[column]].applymap(str_to_price)\n",
    "        return df\n",
    "    def calculate_cleaning_ratio(df):\n",
    "        '''This function calculates the ratio of cleaning fee to the nightly price'''\n",
    "        col_tonumerical(df, 'cleaning_fee')\n",
    "        tmp = round(df['cleaning_fee']/df['price'],2)\n",
    "        df['cleaning_ratio'] = tmp.map(lambda x: 0 if np.isinf(x) else x)\n",
    "        return df\n",
    "    def calculate_deposit_ratio(df):\n",
    "        '''This function calculates the ratio of security deposit fee to the nightly price'''\n",
    "        col_tonumerical(df, 'security_deposit')\n",
    "        tmp = round(df['security_deposit']/df['price'],2)\n",
    "        df['deposit_ratio'] = tmp.map(lambda x: 0 if np.isinf(x) else x)\n",
    "        return df\n",
    "    col_list = []\n",
    "    col_tonumerical(data, 'price')\n",
    "    if cleaning_ratio:\n",
    "        data = calculate_cleaning_ratio(data)\n",
    "        col_list.append('cleaning_ratio')\n",
    "    if deposit_ratio:\n",
    "        data = calculate_deposit_ratio(data)\n",
    "        col_list.append('deposit_ratio')\n",
    "    return data[col_list]\n",
    "price_columns=['price', 'security_deposit', 'cleaning_fee', 'extra_people']"
   ]
  },
  {
   "cell_type": "markdown",
   "metadata": {
    "heading_collapsed": true
   },
   "source": [
    "## Response rate"
   ]
  },
  {
   "cell_type": "code",
   "execution_count": 8,
   "metadata": {
    "hidden": true
   },
   "outputs": [],
   "source": [
    "def response_rate(df):\n",
    "    '''This function takes as input a dataframe and a list of price column names and converts the columnns to\n",
    "    floats'''\n",
    "    def str_to_time(strn):\n",
    "        '''The function converts a price entry from string to float and removes the $ character'''\n",
    "        if type(strn)== str:\n",
    "            return float(strn.strip('%'))\n",
    "        return strn\n",
    "    for column in ['host_response_rate']:\n",
    "        df[[column]] = df[[column]].applymap(str_to_time)\n",
    "    return df[['host_response_rate']]"
   ]
  },
  {
   "cell_type": "markdown",
   "metadata": {
    "heading_collapsed": true
   },
   "source": [
    "## Categoricals"
   ]
  },
  {
   "cell_type": "code",
   "execution_count": 397,
   "metadata": {
    "hidden": true
   },
   "outputs": [],
   "source": [
    "def categoricals_convert(df, categorical_columns):\n",
    "    '''This function takes as input a dataframe and a list of categorical (t/f) column names and converts the columnns to\n",
    "    0/1'''\n",
    "    \n",
    "    for column in categorical_columns:\n",
    "        listings[[column]]=listings[[column]].applymap(lambda x: 1 if x =='t' else (0 if (x == 'f') or np.isnan(x) else x))\n",
    "    return df[categorical_columns]\n",
    "categorical_columns=['instant_bookable', 'host_identity_verified', 'is_location_exact']"
   ]
  },
  {
   "cell_type": "code",
   "execution_count": 567,
   "metadata": {
    "hidden": true
   },
   "outputs": [
    {
     "data": {
      "text/plain": [
       "is_location_exact\n",
       "1                    25130\n",
       "0                    13681\n",
       "dtype: int64"
      ]
     },
     "execution_count": 567,
     "metadata": {},
     "output_type": "execute_result"
    }
   ],
   "source": [
    "X_train[['is_location_exact']].value_counts()"
   ]
  },
  {
   "cell_type": "markdown",
   "metadata": {
    "heading_collapsed": true
   },
   "source": [
    "## Mean house prices"
   ]
  },
  {
   "cell_type": "code",
   "execution_count": 10,
   "metadata": {
    "hidden": true
   },
   "outputs": [],
   "source": [
    "def house_prices(data):\n",
    "    house_price_dict = {k: v for k, v in zip(boroughs, prices)}\n",
    "    data['mean_house_prices']= data['neighbourhood_cleansed'].map(house_price_dict)\n",
    "    return data[['mean_house_prices']]\n",
    "\n",
    "prices = [950760, 301518,667593,357779,578705,502623,1099876,399645,\n",
    "         578110,463806,462820,614955,972231,683987,527206,387535,\n",
    "         452272,507876,778290,2092485,573938,616126,475142,638519,\n",
    "         409477,452437,819044,641210,402121,554009,459922,818443,1718124]\n",
    "\n",
    "boroughs = ['City of London', 'Barking and Dagenham', 'Barnet', 'Bexley','Brent', 'Bromley', 'Camden', \n",
    "            'Croydon', 'Ealing', 'Enfield', 'Greenwich', 'Hackney', 'Hammersmith and Fulham', 'Haringey', 'Harrow',\n",
    "            'Havering', 'Hillingdon', 'Hounslow', 'Islington', 'Kensington and Chelsea', 'Kingston upon Thames',\n",
    "            'Lambeth', 'Lewisham', 'Merton', 'Newham', 'Redbridge', 'Richmond upon Thames', 'Southwark', \n",
    "            'Sutton', 'Tower Hamlets', 'Waltham Forest', 'Wandsworth', 'Westminster']"
   ]
  },
  {
   "cell_type": "code",
   "execution_count": 534,
   "metadata": {
    "hidden": true
   },
   "outputs": [],
   "source": [
    "def price_to_mean_ratio(df):\n",
    "    data = df[['price']].join(house_prices(df))\n",
    "    data['price'] = price_tonumerical(listings, ['price'])\n",
    "    data['price_ratio'] = (data['price'] / (data['mean_house_prices'] / 1e5)**2)\n",
    "    median = data['price_ratio'].median()\n",
    "    data['price_ratio'] = data['price_ratio'].map(lambda x: x if x > 0 else median)\n",
    "#     scaler = StandardScaler()\n",
    "#     data['price_ratio'] = scaler.fit_transform(data[['price_ratio']])\n",
    "    data['price_ratio'] = np.log(data['price_ratio'])\n",
    "    return data[['price_ratio']]\n"
   ]
  },
  {
   "cell_type": "markdown",
   "metadata": {
    "heading_collapsed": true
   },
   "source": [
    "## Room/bed number ratios"
   ]
  },
  {
   "cell_type": "code",
   "execution_count": 11,
   "metadata": {
    "hidden": true
   },
   "outputs": [],
   "source": [
    "def get_room_ratios(df):\n",
    "    data = df\n",
    "    data['accommodates_to_rooms_ratio'] = data['accommodates'] / data['bedrooms'].map(lambda x: 1 if x == 0 else x)\n",
    "#     data['accommodates_to_rooms_ratio'] = data[['accommodates_to_rooms_ratio']]\n",
    "    return data[['accommodates_to_rooms_ratio']]"
   ]
  },
  {
   "cell_type": "markdown",
   "metadata": {
    "heading_collapsed": true
   },
   "source": [
    "## Availablity"
   ]
  },
  {
   "cell_type": "code",
   "execution_count": 12,
   "metadata": {
    "hidden": true
   },
   "outputs": [],
   "source": [
    "def availability(df):\n",
    "    data=df['availability_365']\n",
    "    data[data=='f']='NaN'\n",
    "    out = pd.DataFrame(data.astype(float))\n",
    "    return out"
   ]
  },
  {
   "cell_type": "markdown",
   "metadata": {},
   "source": [
    "## Cleanliness"
   ]
  },
  {
   "cell_type": "code",
   "execution_count": 653,
   "metadata": {},
   "outputs": [],
   "source": [
    "def cleanliness_delta(df):\n",
    "    data = df\n",
    "    data[['cleanliness_delta']] = listings['review_scores_cleanliness']\\\n",
    "                                - listings[['review_scores_checkin',\n",
    "                                            'review_scores_accuracy',\n",
    "                                            'review_scores_cleanliness',\n",
    "                                            'review_scores_communication',\n",
    "                                            'review_scores_location',\n",
    "                                            'review_scores_value'\n",
    "                                           ]].mean(axis=1)\n",
    "    return data[['cleanliness_delta']].applymap(lambda x: 0.0 if np.isnan(x) else x)\n",
    "\n",
    "def score_delta(df, score_column):\n",
    "    data = df\n",
    "    col_name = score_column[14:] + '_score_delta'\n",
    "    data[[col_name]] = listings[score_column]\\\n",
    "                                - listings[['review_scores_checkin',\n",
    "                                            'review_scores_accuracy',\n",
    "                                            'review_scores_cleanliness',\n",
    "                                            'review_scores_communication',\n",
    "                                            'review_scores_location',\n",
    "                                            'review_scores_value'\n",
    "                                           ]].mean(axis=1)\n",
    "    return data[[col_name]].applymap(lambda x: 0.0 if np.isnan(x) else x)"
   ]
  },
  {
   "cell_type": "markdown",
   "metadata": {
    "heading_collapsed": true
   },
   "source": [
    "# First df of chosen features"
   ]
  },
  {
   "cell_type": "code",
   "execution_count": 66,
   "metadata": {
    "hidden": true
   },
   "outputs": [],
   "source": [
    "categorical_columns=['instant_bookable', 'host_identity_verified', 'is_location_exact']\n",
    "\n",
    "features = [['Free parking on premises', 'free street parking', 'paid parking on premises' ,'paid parking off premises'],\n",
    "            'Dryer','Wifi','Breakfast',\n",
    "            'Indoor fireplace','Hangers','Iron','Hair dryer',['Dedicated workspace','laptop friendly workspace'],\n",
    "            ['TV', 'cable tv'],\n",
    "            ['Smoke alarm','Smoke detector'],['Carbon monoxide alarm','carbon monoxide detector']]\n",
    "\n",
    "data = listings[['review_scores_rating']].copy()\\\n",
    "            .join(categoricals_convert(listings, categorical_columns))\\\n",
    "            .join(house_prices(listings))\\\n",
    "            .join(count_amenities(listings))\\\n",
    "            .join(encode_filterables(listings, features))\\\n",
    "            .join(listings[['host_listings_count']])\\\n",
    "            .join(recode_property_room_type(listings))\\\n",
    "            .join(recode_cancellation(listings))\\\n",
    "            .join(response_rate(listings))\\\n",
    "            .join(price_tonumerical(listings, ['price']))\\\n",
    "            .join(get_room_ratios(listings))\\\n",
    "            .join(calc_price_columns(listings))\n",
    "\n"
   ]
  },
  {
   "cell_type": "code",
   "execution_count": 139,
   "metadata": {
    "hidden": true
   },
   "outputs": [],
   "source": []
  },
  {
   "cell_type": "code",
   "execution_count": 140,
   "metadata": {
    "hidden": true
   },
   "outputs": [
    {
     "data": {
      "text/html": [
       "<div>\n",
       "<style scoped>\n",
       "    .dataframe tbody tr th:only-of-type {\n",
       "        vertical-align: middle;\n",
       "    }\n",
       "\n",
       "    .dataframe tbody tr th {\n",
       "        vertical-align: top;\n",
       "    }\n",
       "\n",
       "    .dataframe thead th {\n",
       "        text-align: right;\n",
       "    }\n",
       "</style>\n",
       "<table border=\"1\" class=\"dataframe\">\n",
       "  <thead>\n",
       "    <tr style=\"text-align: right;\">\n",
       "      <th></th>\n",
       "      <th>review_scores_rating</th>\n",
       "      <th>instant_bookable</th>\n",
       "      <th>host_identity_verified</th>\n",
       "      <th>is_location_exact</th>\n",
       "      <th>mean_house_prices</th>\n",
       "      <th>amenities_count</th>\n",
       "      <th>Freeparkingonpremises</th>\n",
       "      <th>Dryer</th>\n",
       "      <th>Wifi</th>\n",
       "      <th>Breakfast</th>\n",
       "      <th>Indoorfireplace</th>\n",
       "      <th>TV</th>\n",
       "      <th>Smokealarm</th>\n",
       "      <th>host_listings_count</th>\n",
       "      <th>cancellation_policy</th>\n",
       "      <th>host_response_rate</th>\n",
       "      <th>accommodates_to_rooms_ratio</th>\n",
       "    </tr>\n",
       "  </thead>\n",
       "  <tbody>\n",
       "    <tr>\n",
       "      <th>0</th>\n",
       "      <td>92.0</td>\n",
       "      <td>1</td>\n",
       "      <td>1.0</td>\n",
       "      <td>1</td>\n",
       "      <td>616126</td>\n",
       "      <td>22</td>\n",
       "      <td>1</td>\n",
       "      <td>0</td>\n",
       "      <td>1</td>\n",
       "      <td>0</td>\n",
       "      <td>0</td>\n",
       "      <td>1</td>\n",
       "      <td>1</td>\n",
       "      <td>3.0</td>\n",
       "      <td>strict</td>\n",
       "      <td>100.0</td>\n",
       "      <td>4.0</td>\n",
       "    </tr>\n",
       "    <tr>\n",
       "      <th>1</th>\n",
       "      <td>97.0</td>\n",
       "      <td>0</td>\n",
       "      <td>1.0</td>\n",
       "      <td>1</td>\n",
       "      <td>778290</td>\n",
       "      <td>45</td>\n",
       "      <td>1</td>\n",
       "      <td>1</td>\n",
       "      <td>1</td>\n",
       "      <td>0</td>\n",
       "      <td>0</td>\n",
       "      <td>1</td>\n",
       "      <td>1</td>\n",
       "      <td>4.0</td>\n",
       "      <td>moderate</td>\n",
       "      <td>70.0</td>\n",
       "      <td>2.0</td>\n",
       "    </tr>\n",
       "    <tr>\n",
       "      <th>2</th>\n",
       "      <td>96.0</td>\n",
       "      <td>1</td>\n",
       "      <td>1.0</td>\n",
       "      <td>1</td>\n",
       "      <td>2092485</td>\n",
       "      <td>30</td>\n",
       "      <td>0</td>\n",
       "      <td>1</td>\n",
       "      <td>1</td>\n",
       "      <td>0</td>\n",
       "      <td>0</td>\n",
       "      <td>1</td>\n",
       "      <td>1</td>\n",
       "      <td>1.0</td>\n",
       "      <td>strict</td>\n",
       "      <td>100.0</td>\n",
       "      <td>2.0</td>\n",
       "    </tr>\n",
       "    <tr>\n",
       "      <th>3</th>\n",
       "      <td>94.0</td>\n",
       "      <td>1</td>\n",
       "      <td>1.0</td>\n",
       "      <td>1</td>\n",
       "      <td>1718124</td>\n",
       "      <td>30</td>\n",
       "      <td>1</td>\n",
       "      <td>1</td>\n",
       "      <td>1</td>\n",
       "      <td>0</td>\n",
       "      <td>0</td>\n",
       "      <td>1</td>\n",
       "      <td>1</td>\n",
       "      <td>18.0</td>\n",
       "      <td>strict</td>\n",
       "      <td>100.0</td>\n",
       "      <td>2.0</td>\n",
       "    </tr>\n",
       "    <tr>\n",
       "      <th>4</th>\n",
       "      <td>93.0</td>\n",
       "      <td>1</td>\n",
       "      <td>0.0</td>\n",
       "      <td>1</td>\n",
       "      <td>818443</td>\n",
       "      <td>24</td>\n",
       "      <td>1</td>\n",
       "      <td>0</td>\n",
       "      <td>1</td>\n",
       "      <td>0</td>\n",
       "      <td>0</td>\n",
       "      <td>1</td>\n",
       "      <td>1</td>\n",
       "      <td>1.0</td>\n",
       "      <td>moderate</td>\n",
       "      <td>100.0</td>\n",
       "      <td>2.0</td>\n",
       "    </tr>\n",
       "  </tbody>\n",
       "</table>\n",
       "</div>"
      ],
      "text/plain": [
       "   review_scores_rating  instant_bookable  host_identity_verified  \\\n",
       "0                  92.0                 1                     1.0   \n",
       "1                  97.0                 0                     1.0   \n",
       "2                  96.0                 1                     1.0   \n",
       "3                  94.0                 1                     1.0   \n",
       "4                  93.0                 1                     0.0   \n",
       "\n",
       "   is_location_exact  mean_house_prices  amenities_count  \\\n",
       "0                  1             616126               22   \n",
       "1                  1             778290               45   \n",
       "2                  1            2092485               30   \n",
       "3                  1            1718124               30   \n",
       "4                  1             818443               24   \n",
       "\n",
       "   Freeparkingonpremises  Dryer  Wifi  Breakfast  Indoorfireplace  TV  \\\n",
       "0                      1      0     1          0                0   1   \n",
       "1                      1      1     1          0                0   1   \n",
       "2                      0      1     1          0                0   1   \n",
       "3                      1      1     1          0                0   1   \n",
       "4                      1      0     1          0                0   1   \n",
       "\n",
       "   Smokealarm  host_listings_count cancellation_policy  host_response_rate  \\\n",
       "0           1                  3.0              strict               100.0   \n",
       "1           1                  4.0            moderate                70.0   \n",
       "2           1                  1.0              strict               100.0   \n",
       "3           1                 18.0              strict               100.0   \n",
       "4           1                  1.0            moderate               100.0   \n",
       "\n",
       "   accommodates_to_rooms_ratio  \n",
       "0                          4.0  \n",
       "1                          2.0  \n",
       "2                          2.0  \n",
       "3                          2.0  \n",
       "4                          2.0  "
      ]
     },
     "execution_count": 140,
     "metadata": {},
     "output_type": "execute_result"
    }
   ],
   "source": [
    "data.head()"
   ]
  },
  {
   "cell_type": "markdown",
   "metadata": {
    "heading_collapsed": true
   },
   "source": [
    "# Scaler to look at correlations more carefully"
   ]
  },
  {
   "cell_type": "code",
   "execution_count": 141,
   "metadata": {
    "hidden": true
   },
   "outputs": [],
   "source": [
    "from sklearn.preprocessing import StandardScaler\n",
    "\n",
    "# data = data.dropna()\n",
    "\n",
    "X = data.drop(columns=['review_scores_rating']).copy()\n",
    "y = data['review_scores_rating'].copy()\n",
    "\n",
    "X_d = pd.get_dummies(X)\n",
    "\n",
    "to_drop = ['cancellation_policy_moderate','cancellation_policy_flexible']\n",
    "X_d.drop(columns=to_drop, inplace=True)\n",
    "\n",
    "scaler = StandardScaler()\n",
    "X_s = pd.DataFrame(scaler.fit_transform(X_d), columns=X_d.columns)"
   ]
  },
  {
   "cell_type": "code",
   "execution_count": 142,
   "metadata": {
    "hidden": true
   },
   "outputs": [],
   "source": [
    "Y = pd.DataFrame(y)"
   ]
  },
  {
   "cell_type": "code",
   "execution_count": 143,
   "metadata": {
    "hidden": true
   },
   "outputs": [],
   "source": [
    "temp2 = listings[['review_scores_rating']].join(X_s).corr()#['review_scores_rating']\n",
    "path = '../data/correlations2.csv'\n",
    "temp2.to_csv(path)"
   ]
  },
  {
   "cell_type": "code",
   "execution_count": 144,
   "metadata": {
    "hidden": true
   },
   "outputs": [
    {
     "data": {
      "text/plain": [
       "(51749, 16)"
      ]
     },
     "execution_count": 144,
     "metadata": {},
     "output_type": "execute_result"
    }
   ],
   "source": [
    "X_s.shape"
   ]
  },
  {
   "cell_type": "code",
   "execution_count": 145,
   "metadata": {
    "hidden": true
   },
   "outputs": [],
   "source": [
    "path = '../data/correlations.csv'\n",
    "# temp.to_csv(path)"
   ]
  },
  {
   "cell_type": "code",
   "execution_count": 146,
   "metadata": {
    "hidden": true
   },
   "outputs": [
    {
     "data": {
      "text/plain": [
       "room_type\n",
       "Other        51749\n",
       "dtype: int64"
      ]
     },
     "execution_count": 146,
     "metadata": {},
     "output_type": "execute_result"
    }
   ],
   "source": [
    "listings[['room_type']].value_counts()"
   ]
  },
  {
   "cell_type": "code",
   "execution_count": 147,
   "metadata": {
    "hidden": true
   },
   "outputs": [
    {
     "data": {
      "text/plain": [
       "property_type\n",
       "Apartment        35550\n",
       "House             9764\n",
       "Other             6435\n",
       "dtype: int64"
      ]
     },
     "execution_count": 147,
     "metadata": {},
     "output_type": "execute_result"
    }
   ],
   "source": [
    "listings[['property_type']].value_counts()"
   ]
  },
  {
   "cell_type": "markdown",
   "metadata": {
    "heading_collapsed": true
   },
   "source": [
    "# First linear model"
   ]
  },
  {
   "cell_type": "code",
   "execution_count": 354,
   "metadata": {
    "hidden": true
   },
   "outputs": [],
   "source": [
    "features = [['Free parking on premises', 'free street parking', 'paid parking on premises' ,'paid parking off premises'],\n",
    "            'Dryer','Wifi','Breakfast',\n",
    "            'Indoor fireplace',\n",
    "            ['TV', 'cable tv'],\n",
    "            ['Smoke alarm','Smoke detector']]\n",
    "\n",
    "data = listings[['review_scores_rating']].copy()\\\n",
    "            .join(categoricals_convert(listings, categorical_columns))\\\n",
    "            .join(house_prices(listings))\\\n",
    "            .join(count_amenities(listings))\\\n",
    "            .join(encode_filterables(listings, features))\\\n",
    "            .join(listings[['host_listings_count','review_scores_cleanliness']])\\\n",
    "            .join(recode_cancellation(listings))\\\n",
    "            .join(response_rate(listings))\\\n",
    "            .join(get_room_ratios(listings))"
   ]
  },
  {
   "cell_type": "code",
   "execution_count": 166,
   "metadata": {
    "hidden": true
   },
   "outputs": [],
   "source": [
    "X = data.drop(columns=['review_scores_rating']).copy()\n",
    "y = data['review_scores_rating'].copy()\n",
    "\n",
    "X_d = pd.get_dummies(X)\n",
    "to_drop = ['cancellation_policy_moderate','cancellation_policy_flexible']\n",
    "X_d.drop(columns=to_drop, inplace=True)\n",
    "\n",
    "X_train, X_test, y_train, y_test = train_test_split(X_d, y, random_state=42)"
   ]
  },
  {
   "cell_type": "code",
   "execution_count": 167,
   "metadata": {
    "hidden": true
   },
   "outputs": [],
   "source": [
    "scaler = StandardScaler()\n",
    "imputer = SimpleImputer(strategy='mean')\n",
    "\n",
    "X_train_i = imputer.fit_transform(X_train)\n",
    "X_test_i = imputer.transform(X_test)\n",
    "\n",
    "X_train_s = scaler.fit_transform(X_train_i)\n",
    "X_test_s = scaler.transform(X_test_i)"
   ]
  },
  {
   "cell_type": "code",
   "execution_count": 168,
   "metadata": {
    "hidden": true
   },
   "outputs": [],
   "source": [
    "def match_coeffs(model, X_train):\n",
    "    coefs = pd.DataFrame.from_dict(dict(\n",
    "        column = X_train.columns,\n",
    "        coef = model.coef_\n",
    "        ))\n",
    "    return coefs\n",
    "#     coefs = {}\n",
    "#     for col, coeff in zip(X_train.columns, model.coef_):\n",
    "#         coefs[col] = coeff"
   ]
  },
  {
   "cell_type": "code",
   "execution_count": 169,
   "metadata": {
    "hidden": true
   },
   "outputs": [
    {
     "data": {
      "text/plain": [
       "Ridge(alpha=2)"
      ]
     },
     "execution_count": 169,
     "metadata": {},
     "output_type": "execute_result"
    }
   ],
   "source": [
    "model = LinearRegression()\n",
    "lasso = Lasso(alpha=0.5)\n",
    "ridge = Ridge(alpha=2)\n",
    "\n",
    "model.fit(X_train_s, y_train)\n",
    "lasso.fit(X_train_s, y_train)\n",
    "ridge.fit(X_train_s, y_train)"
   ]
  },
  {
   "cell_type": "code",
   "execution_count": 170,
   "metadata": {
    "hidden": true
   },
   "outputs": [
    {
     "data": {
      "text/plain": [
       "(0.5635089845874328, 0.5386654688636857, 0.5635090627230263)"
      ]
     },
     "execution_count": 170,
     "metadata": {},
     "output_type": "execute_result"
    }
   ],
   "source": [
    "model.score(X_test_s, y_test), lasso.score(X_test_s, y_test), ridge.score(X_test_s, y_test)"
   ]
  },
  {
   "cell_type": "markdown",
   "metadata": {
    "heading_collapsed": true,
    "hidden": true
   },
   "source": [
    "## coefficients"
   ]
  },
  {
   "cell_type": "code",
   "execution_count": 172,
   "metadata": {
    "hidden": true,
    "scrolled": true
   },
   "outputs": [
    {
     "data": {
      "text/plain": [
       "array([-0.22337712,  0.        ,  0.        , -0.09599342,  0.        ,\n",
       "        0.        ,  0.        ,  0.        ,  0.        ,  0.        ,\n",
       "        0.        ,  0.        , -0.        ,  4.88923861,  0.        ,\n",
       "       -0.1172272 , -0.        ])"
      ]
     },
     "execution_count": 172,
     "metadata": {},
     "output_type": "execute_result"
    }
   ],
   "source": [
    "lasso.coef_"
   ]
  },
  {
   "cell_type": "code",
   "execution_count": 173,
   "metadata": {
    "hidden": true
   },
   "outputs": [
    {
     "data": {
      "text/plain": [
       "array([-0.54650172,  0.32452752,  0.14778484, -0.43876708,  0.17047935,\n",
       "        0.13662435,  0.18511807,  0.21184846,  0.21427411,  0.17797246,\n",
       "        0.04351501,  0.06258744, -0.30047247,  5.12476829,  0.12251611,\n",
       "       -0.46542011, -0.34885797])"
      ]
     },
     "execution_count": 173,
     "metadata": {},
     "output_type": "execute_result"
    }
   ],
   "source": [
    "ridge.coef_"
   ]
  },
  {
   "cell_type": "code",
   "execution_count": 174,
   "metadata": {
    "hidden": true
   },
   "outputs": [
    {
     "data": {
      "text/plain": [
       "(numpy.ndarray, numpy.ndarray)"
      ]
     },
     "execution_count": 174,
     "metadata": {},
     "output_type": "execute_result"
    }
   ],
   "source": [
    "type(X_train_i), type(X_train_s)"
   ]
  },
  {
   "cell_type": "code",
   "execution_count": 175,
   "metadata": {
    "hidden": true
   },
   "outputs": [
    {
     "data": {
      "text/html": [
       "<div>\n",
       "<style scoped>\n",
       "    .dataframe tbody tr th:only-of-type {\n",
       "        vertical-align: middle;\n",
       "    }\n",
       "\n",
       "    .dataframe tbody tr th {\n",
       "        vertical-align: top;\n",
       "    }\n",
       "\n",
       "    .dataframe thead th {\n",
       "        text-align: right;\n",
       "    }\n",
       "</style>\n",
       "<table border=\"1\" class=\"dataframe\">\n",
       "  <thead>\n",
       "    <tr style=\"text-align: right;\">\n",
       "      <th></th>\n",
       "      <th>column</th>\n",
       "      <th>coef</th>\n",
       "    </tr>\n",
       "  </thead>\n",
       "  <tbody>\n",
       "    <tr>\n",
       "      <th>13</th>\n",
       "      <td>review_scores_cleanliness</td>\n",
       "      <td>5.125043</td>\n",
       "    </tr>\n",
       "    <tr>\n",
       "      <th>1</th>\n",
       "      <td>host_identity_verified</td>\n",
       "      <td>0.324527</td>\n",
       "    </tr>\n",
       "    <tr>\n",
       "      <th>8</th>\n",
       "      <td>Breakfast</td>\n",
       "      <td>0.214265</td>\n",
       "    </tr>\n",
       "    <tr>\n",
       "      <th>7</th>\n",
       "      <td>Wifi</td>\n",
       "      <td>0.211849</td>\n",
       "    </tr>\n",
       "    <tr>\n",
       "      <th>6</th>\n",
       "      <td>Dryer</td>\n",
       "      <td>0.185120</td>\n",
       "    </tr>\n",
       "    <tr>\n",
       "      <th>9</th>\n",
       "      <td>Indoorfireplace</td>\n",
       "      <td>0.177977</td>\n",
       "    </tr>\n",
       "    <tr>\n",
       "      <th>4</th>\n",
       "      <td>amenities_count</td>\n",
       "      <td>0.170459</td>\n",
       "    </tr>\n",
       "    <tr>\n",
       "      <th>2</th>\n",
       "      <td>is_location_exact</td>\n",
       "      <td>0.147783</td>\n",
       "    </tr>\n",
       "    <tr>\n",
       "      <th>5</th>\n",
       "      <td>Freeparkingonpremises</td>\n",
       "      <td>0.136607</td>\n",
       "    </tr>\n",
       "    <tr>\n",
       "      <th>14</th>\n",
       "      <td>host_response_rate</td>\n",
       "      <td>0.122504</td>\n",
       "    </tr>\n",
       "    <tr>\n",
       "      <th>11</th>\n",
       "      <td>Smokealarm</td>\n",
       "      <td>0.062571</td>\n",
       "    </tr>\n",
       "    <tr>\n",
       "      <th>10</th>\n",
       "      <td>TV</td>\n",
       "      <td>0.043506</td>\n",
       "    </tr>\n",
       "    <tr>\n",
       "      <th>12</th>\n",
       "      <td>host_listings_count</td>\n",
       "      <td>-0.300480</td>\n",
       "    </tr>\n",
       "    <tr>\n",
       "      <th>16</th>\n",
       "      <td>cancellation_policy_strict</td>\n",
       "      <td>-0.348864</td>\n",
       "    </tr>\n",
       "    <tr>\n",
       "      <th>3</th>\n",
       "      <td>mean_house_prices</td>\n",
       "      <td>-0.438778</td>\n",
       "    </tr>\n",
       "    <tr>\n",
       "      <th>15</th>\n",
       "      <td>accommodates_to_rooms_ratio</td>\n",
       "      <td>-0.465410</td>\n",
       "    </tr>\n",
       "    <tr>\n",
       "      <th>0</th>\n",
       "      <td>instant_bookable</td>\n",
       "      <td>-0.546494</td>\n",
       "    </tr>\n",
       "  </tbody>\n",
       "</table>\n",
       "</div>"
      ],
      "text/plain": [
       "                         column      coef\n",
       "13    review_scores_cleanliness  5.125043\n",
       "1        host_identity_verified  0.324527\n",
       "8                     Breakfast  0.214265\n",
       "7                          Wifi  0.211849\n",
       "6                         Dryer  0.185120\n",
       "9               Indoorfireplace  0.177977\n",
       "4               amenities_count  0.170459\n",
       "2             is_location_exact  0.147783\n",
       "5         Freeparkingonpremises  0.136607\n",
       "14           host_response_rate  0.122504\n",
       "11                   Smokealarm  0.062571\n",
       "10                           TV  0.043506\n",
       "12          host_listings_count -0.300480\n",
       "16   cancellation_policy_strict -0.348864\n",
       "3             mean_house_prices -0.438778\n",
       "15  accommodates_to_rooms_ratio -0.465410\n",
       "0              instant_bookable -0.546494"
      ]
     },
     "execution_count": 175,
     "metadata": {},
     "output_type": "execute_result"
    }
   ],
   "source": [
    "match_coeffs(model, X_train).sort_values('coef', ascending=False)"
   ]
  },
  {
   "cell_type": "code",
   "execution_count": 176,
   "metadata": {
    "hidden": true
   },
   "outputs": [
    {
     "data": {
      "text/html": [
       "<div>\n",
       "<style scoped>\n",
       "    .dataframe tbody tr th:only-of-type {\n",
       "        vertical-align: middle;\n",
       "    }\n",
       "\n",
       "    .dataframe tbody tr th {\n",
       "        vertical-align: top;\n",
       "    }\n",
       "\n",
       "    .dataframe thead th {\n",
       "        text-align: right;\n",
       "    }\n",
       "</style>\n",
       "<table border=\"1\" class=\"dataframe\">\n",
       "  <thead>\n",
       "    <tr style=\"text-align: right;\">\n",
       "      <th></th>\n",
       "      <th>column</th>\n",
       "      <th>coef</th>\n",
       "    </tr>\n",
       "  </thead>\n",
       "  <tbody>\n",
       "    <tr>\n",
       "      <th>13</th>\n",
       "      <td>review_scores_cleanliness</td>\n",
       "      <td>4.889239</td>\n",
       "    </tr>\n",
       "    <tr>\n",
       "      <th>8</th>\n",
       "      <td>Breakfast</td>\n",
       "      <td>0.000000</td>\n",
       "    </tr>\n",
       "    <tr>\n",
       "      <th>1</th>\n",
       "      <td>host_identity_verified</td>\n",
       "      <td>0.000000</td>\n",
       "    </tr>\n",
       "    <tr>\n",
       "      <th>14</th>\n",
       "      <td>host_response_rate</td>\n",
       "      <td>0.000000</td>\n",
       "    </tr>\n",
       "    <tr>\n",
       "      <th>12</th>\n",
       "      <td>host_listings_count</td>\n",
       "      <td>-0.000000</td>\n",
       "    </tr>\n",
       "    <tr>\n",
       "      <th>11</th>\n",
       "      <td>Smokealarm</td>\n",
       "      <td>0.000000</td>\n",
       "    </tr>\n",
       "    <tr>\n",
       "      <th>10</th>\n",
       "      <td>TV</td>\n",
       "      <td>0.000000</td>\n",
       "    </tr>\n",
       "    <tr>\n",
       "      <th>9</th>\n",
       "      <td>Indoorfireplace</td>\n",
       "      <td>0.000000</td>\n",
       "    </tr>\n",
       "    <tr>\n",
       "      <th>16</th>\n",
       "      <td>cancellation_policy_strict</td>\n",
       "      <td>-0.000000</td>\n",
       "    </tr>\n",
       "    <tr>\n",
       "      <th>7</th>\n",
       "      <td>Wifi</td>\n",
       "      <td>0.000000</td>\n",
       "    </tr>\n",
       "    <tr>\n",
       "      <th>6</th>\n",
       "      <td>Dryer</td>\n",
       "      <td>0.000000</td>\n",
       "    </tr>\n",
       "    <tr>\n",
       "      <th>5</th>\n",
       "      <td>Freeparkingonpremises</td>\n",
       "      <td>0.000000</td>\n",
       "    </tr>\n",
       "    <tr>\n",
       "      <th>4</th>\n",
       "      <td>amenities_count</td>\n",
       "      <td>0.000000</td>\n",
       "    </tr>\n",
       "    <tr>\n",
       "      <th>2</th>\n",
       "      <td>is_location_exact</td>\n",
       "      <td>0.000000</td>\n",
       "    </tr>\n",
       "    <tr>\n",
       "      <th>3</th>\n",
       "      <td>mean_house_prices</td>\n",
       "      <td>-0.095993</td>\n",
       "    </tr>\n",
       "    <tr>\n",
       "      <th>15</th>\n",
       "      <td>accommodates_to_rooms_ratio</td>\n",
       "      <td>-0.117227</td>\n",
       "    </tr>\n",
       "    <tr>\n",
       "      <th>0</th>\n",
       "      <td>instant_bookable</td>\n",
       "      <td>-0.223377</td>\n",
       "    </tr>\n",
       "  </tbody>\n",
       "</table>\n",
       "</div>"
      ],
      "text/plain": [
       "                         column      coef\n",
       "13    review_scores_cleanliness  4.889239\n",
       "8                     Breakfast  0.000000\n",
       "1        host_identity_verified  0.000000\n",
       "14           host_response_rate  0.000000\n",
       "12          host_listings_count -0.000000\n",
       "11                   Smokealarm  0.000000\n",
       "10                           TV  0.000000\n",
       "9               Indoorfireplace  0.000000\n",
       "16   cancellation_policy_strict -0.000000\n",
       "7                          Wifi  0.000000\n",
       "6                         Dryer  0.000000\n",
       "5         Freeparkingonpremises  0.000000\n",
       "4               amenities_count  0.000000\n",
       "2             is_location_exact  0.000000\n",
       "3             mean_house_prices -0.095993\n",
       "15  accommodates_to_rooms_ratio -0.117227\n",
       "0              instant_bookable -0.223377"
      ]
     },
     "execution_count": 176,
     "metadata": {},
     "output_type": "execute_result"
    }
   ],
   "source": [
    "match_coeffs(lasso, X_train).sort_values('coef', ascending=False)"
   ]
  },
  {
   "cell_type": "code",
   "execution_count": 177,
   "metadata": {
    "hidden": true
   },
   "outputs": [
    {
     "data": {
      "text/html": [
       "<div>\n",
       "<style scoped>\n",
       "    .dataframe tbody tr th:only-of-type {\n",
       "        vertical-align: middle;\n",
       "    }\n",
       "\n",
       "    .dataframe tbody tr th {\n",
       "        vertical-align: top;\n",
       "    }\n",
       "\n",
       "    .dataframe thead th {\n",
       "        text-align: right;\n",
       "    }\n",
       "</style>\n",
       "<table border=\"1\" class=\"dataframe\">\n",
       "  <thead>\n",
       "    <tr style=\"text-align: right;\">\n",
       "      <th></th>\n",
       "      <th>column</th>\n",
       "      <th>coef</th>\n",
       "    </tr>\n",
       "  </thead>\n",
       "  <tbody>\n",
       "    <tr>\n",
       "      <th>13</th>\n",
       "      <td>review_scores_cleanliness</td>\n",
       "      <td>5.124768</td>\n",
       "    </tr>\n",
       "    <tr>\n",
       "      <th>1</th>\n",
       "      <td>host_identity_verified</td>\n",
       "      <td>0.324528</td>\n",
       "    </tr>\n",
       "    <tr>\n",
       "      <th>8</th>\n",
       "      <td>Breakfast</td>\n",
       "      <td>0.214274</td>\n",
       "    </tr>\n",
       "    <tr>\n",
       "      <th>7</th>\n",
       "      <td>Wifi</td>\n",
       "      <td>0.211848</td>\n",
       "    </tr>\n",
       "    <tr>\n",
       "      <th>6</th>\n",
       "      <td>Dryer</td>\n",
       "      <td>0.185118</td>\n",
       "    </tr>\n",
       "    <tr>\n",
       "      <th>9</th>\n",
       "      <td>Indoorfireplace</td>\n",
       "      <td>0.177972</td>\n",
       "    </tr>\n",
       "    <tr>\n",
       "      <th>4</th>\n",
       "      <td>amenities_count</td>\n",
       "      <td>0.170479</td>\n",
       "    </tr>\n",
       "    <tr>\n",
       "      <th>2</th>\n",
       "      <td>is_location_exact</td>\n",
       "      <td>0.147785</td>\n",
       "    </tr>\n",
       "    <tr>\n",
       "      <th>5</th>\n",
       "      <td>Freeparkingonpremises</td>\n",
       "      <td>0.136624</td>\n",
       "    </tr>\n",
       "    <tr>\n",
       "      <th>14</th>\n",
       "      <td>host_response_rate</td>\n",
       "      <td>0.122516</td>\n",
       "    </tr>\n",
       "    <tr>\n",
       "      <th>11</th>\n",
       "      <td>Smokealarm</td>\n",
       "      <td>0.062587</td>\n",
       "    </tr>\n",
       "    <tr>\n",
       "      <th>10</th>\n",
       "      <td>TV</td>\n",
       "      <td>0.043515</td>\n",
       "    </tr>\n",
       "    <tr>\n",
       "      <th>12</th>\n",
       "      <td>host_listings_count</td>\n",
       "      <td>-0.300472</td>\n",
       "    </tr>\n",
       "    <tr>\n",
       "      <th>16</th>\n",
       "      <td>cancellation_policy_strict</td>\n",
       "      <td>-0.348858</td>\n",
       "    </tr>\n",
       "    <tr>\n",
       "      <th>3</th>\n",
       "      <td>mean_house_prices</td>\n",
       "      <td>-0.438767</td>\n",
       "    </tr>\n",
       "    <tr>\n",
       "      <th>15</th>\n",
       "      <td>accommodates_to_rooms_ratio</td>\n",
       "      <td>-0.465420</td>\n",
       "    </tr>\n",
       "    <tr>\n",
       "      <th>0</th>\n",
       "      <td>instant_bookable</td>\n",
       "      <td>-0.546502</td>\n",
       "    </tr>\n",
       "  </tbody>\n",
       "</table>\n",
       "</div>"
      ],
      "text/plain": [
       "                         column      coef\n",
       "13    review_scores_cleanliness  5.124768\n",
       "1        host_identity_verified  0.324528\n",
       "8                     Breakfast  0.214274\n",
       "7                          Wifi  0.211848\n",
       "6                         Dryer  0.185118\n",
       "9               Indoorfireplace  0.177972\n",
       "4               amenities_count  0.170479\n",
       "2             is_location_exact  0.147785\n",
       "5         Freeparkingonpremises  0.136624\n",
       "14           host_response_rate  0.122516\n",
       "11                   Smokealarm  0.062587\n",
       "10                           TV  0.043515\n",
       "12          host_listings_count -0.300472\n",
       "16   cancellation_policy_strict -0.348858\n",
       "3             mean_house_prices -0.438767\n",
       "15  accommodates_to_rooms_ratio -0.465420\n",
       "0              instant_bookable -0.546502"
      ]
     },
     "execution_count": 177,
     "metadata": {},
     "output_type": "execute_result"
    }
   ],
   "source": [
    "match_coeffs(ridge, X_train).sort_values('coef', ascending=False)"
   ]
  },
  {
   "cell_type": "code",
   "execution_count": 178,
   "metadata": {
    "hidden": true
   },
   "outputs": [],
   "source": [
    "y_pred = model.predict(X_test_s)"
   ]
  },
  {
   "cell_type": "code",
   "execution_count": 179,
   "metadata": {
    "hidden": true
   },
   "outputs": [
    {
     "data": {
      "text/plain": [
       "0.5635089845874328"
      ]
     },
     "execution_count": 179,
     "metadata": {},
     "output_type": "execute_result"
    }
   ],
   "source": [
    "r2_score(y_test, y_pred, sample_weight=None, multioutput='uniform_average')"
   ]
  },
  {
   "cell_type": "code",
   "execution_count": 180,
   "metadata": {
    "hidden": true
   },
   "outputs": [],
   "source": [
    "permutation_score = permutation_importance(model, X_train_s, y_train, n_repeats=100)\n",
    "# np.vstack((X_train.columns, permutation_score.importances_mean)).T\n",
    "\n",
    "perm_scores = pd.DataFrame.from_dict(dict(column=X_train.columns, score=permutation_score.importances_mean))"
   ]
  },
  {
   "cell_type": "code",
   "execution_count": 181,
   "metadata": {
    "hidden": true
   },
   "outputs": [
    {
     "data": {
      "text/html": [
       "<div>\n",
       "<style scoped>\n",
       "    .dataframe tbody tr th:only-of-type {\n",
       "        vertical-align: middle;\n",
       "    }\n",
       "\n",
       "    .dataframe tbody tr th {\n",
       "        vertical-align: top;\n",
       "    }\n",
       "\n",
       "    .dataframe thead th {\n",
       "        text-align: right;\n",
       "    }\n",
       "</style>\n",
       "<table border=\"1\" class=\"dataframe\">\n",
       "  <thead>\n",
       "    <tr style=\"text-align: right;\">\n",
       "      <th></th>\n",
       "      <th>column</th>\n",
       "      <th>score</th>\n",
       "    </tr>\n",
       "  </thead>\n",
       "  <tbody>\n",
       "    <tr>\n",
       "      <th>13</th>\n",
       "      <td>review_scores_cleanliness</td>\n",
       "      <td>0.954854</td>\n",
       "    </tr>\n",
       "    <tr>\n",
       "      <th>0</th>\n",
       "      <td>instant_bookable</td>\n",
       "      <td>0.010796</td>\n",
       "    </tr>\n",
       "    <tr>\n",
       "      <th>15</th>\n",
       "      <td>accommodates_to_rooms_ratio</td>\n",
       "      <td>0.007904</td>\n",
       "    </tr>\n",
       "    <tr>\n",
       "      <th>3</th>\n",
       "      <td>mean_house_prices</td>\n",
       "      <td>0.006959</td>\n",
       "    </tr>\n",
       "    <tr>\n",
       "      <th>16</th>\n",
       "      <td>cancellation_policy_strict</td>\n",
       "      <td>0.004502</td>\n",
       "    </tr>\n",
       "    <tr>\n",
       "      <th>1</th>\n",
       "      <td>host_identity_verified</td>\n",
       "      <td>0.003842</td>\n",
       "    </tr>\n",
       "    <tr>\n",
       "      <th>12</th>\n",
       "      <td>host_listings_count</td>\n",
       "      <td>0.003296</td>\n",
       "    </tr>\n",
       "    <tr>\n",
       "      <th>8</th>\n",
       "      <td>Breakfast</td>\n",
       "      <td>0.001689</td>\n",
       "    </tr>\n",
       "    <tr>\n",
       "      <th>7</th>\n",
       "      <td>Wifi</td>\n",
       "      <td>0.001619</td>\n",
       "    </tr>\n",
       "    <tr>\n",
       "      <th>6</th>\n",
       "      <td>Dryer</td>\n",
       "      <td>0.001226</td>\n",
       "    </tr>\n",
       "    <tr>\n",
       "      <th>9</th>\n",
       "      <td>Indoorfireplace</td>\n",
       "      <td>0.001159</td>\n",
       "    </tr>\n",
       "    <tr>\n",
       "      <th>4</th>\n",
       "      <td>amenities_count</td>\n",
       "      <td>0.001040</td>\n",
       "    </tr>\n",
       "    <tr>\n",
       "      <th>2</th>\n",
       "      <td>is_location_exact</td>\n",
       "      <td>0.000783</td>\n",
       "    </tr>\n",
       "    <tr>\n",
       "      <th>5</th>\n",
       "      <td>Freeparkingonpremises</td>\n",
       "      <td>0.000693</td>\n",
       "    </tr>\n",
       "    <tr>\n",
       "      <th>14</th>\n",
       "      <td>host_response_rate</td>\n",
       "      <td>0.000558</td>\n",
       "    </tr>\n",
       "    <tr>\n",
       "      <th>11</th>\n",
       "      <td>Smokealarm</td>\n",
       "      <td>0.000134</td>\n",
       "    </tr>\n",
       "    <tr>\n",
       "      <th>10</th>\n",
       "      <td>TV</td>\n",
       "      <td>0.000067</td>\n",
       "    </tr>\n",
       "  </tbody>\n",
       "</table>\n",
       "</div>"
      ],
      "text/plain": [
       "                         column     score\n",
       "13    review_scores_cleanliness  0.954854\n",
       "0              instant_bookable  0.010796\n",
       "15  accommodates_to_rooms_ratio  0.007904\n",
       "3             mean_house_prices  0.006959\n",
       "16   cancellation_policy_strict  0.004502\n",
       "1        host_identity_verified  0.003842\n",
       "12          host_listings_count  0.003296\n",
       "8                     Breakfast  0.001689\n",
       "7                          Wifi  0.001619\n",
       "6                         Dryer  0.001226\n",
       "9               Indoorfireplace  0.001159\n",
       "4               amenities_count  0.001040\n",
       "2             is_location_exact  0.000783\n",
       "5         Freeparkingonpremises  0.000693\n",
       "14           host_response_rate  0.000558\n",
       "11                   Smokealarm  0.000134\n",
       "10                           TV  0.000067"
      ]
     },
     "execution_count": 181,
     "metadata": {},
     "output_type": "execute_result"
    }
   ],
   "source": [
    "perm_scores.sort_values('score', ascending=False)"
   ]
  },
  {
   "cell_type": "code",
   "execution_count": null,
   "metadata": {
    "hidden": true
   },
   "outputs": [],
   "source": []
  },
  {
   "cell_type": "markdown",
   "metadata": {
    "heading_collapsed": true,
    "hidden": true
   },
   "source": [
    "## p-values"
   ]
  },
  {
   "cell_type": "code",
   "execution_count": 171,
   "metadata": {
    "hidden": true
   },
   "outputs": [
    {
     "name": "stdout",
     "output_type": "stream",
     "text": [
      "                             OLS Regression Results                             \n",
      "================================================================================\n",
      "Dep. Variable:     review_scores_rating   R-squared:                       0.568\n",
      "Model:                              OLS   Adj. R-squared:                  0.568\n",
      "Method:                   Least Squares   F-statistic:                     2998.\n",
      "Date:                  Thu, 26 Nov 2020   Prob (F-statistic):               0.00\n",
      "Time:                          15:30:06   Log-Likelihood:            -1.1659e+05\n",
      "No. Observations:                 38811   AIC:                         2.332e+05\n",
      "Df Residuals:                     38793   BIC:                         2.334e+05\n",
      "Df Model:                            17                                         \n",
      "Covariance Type:              nonrobust                                         \n",
      "==============================================================================\n",
      "                 coef    std err          t      P>|t|      [0.025      0.975]\n",
      "------------------------------------------------------------------------------\n",
      "const         92.9604      0.025   3752.363      0.000      92.912      93.009\n",
      "x1            -0.5465      0.026    -21.380      0.000      -0.597      -0.496\n",
      "x2             0.3245      0.025     12.903      0.000       0.275       0.374\n",
      "x3             0.1478      0.025      5.939      0.000       0.099       0.197\n",
      "x4            -0.4388      0.026    -16.843      0.000      -0.490      -0.388\n",
      "x5             0.1705      0.031      5.527      0.000       0.110       0.231\n",
      "x6             0.1366      0.028      4.908      0.000       0.082       0.191\n",
      "x7             0.1851      0.026      7.062      0.000       0.134       0.236\n",
      "x8             0.2118      0.025      8.435      0.000       0.163       0.261\n",
      "x9             0.2143      0.025      8.499      0.000       0.165       0.264\n",
      "x10            0.1780      0.025      7.049      0.000       0.128       0.227\n",
      "x11            0.0435      0.026      1.644      0.100      -0.008       0.095\n",
      "x12            0.0626      0.026      2.398      0.017       0.011       0.114\n",
      "x13           -0.3005      0.025    -11.899      0.000      -0.350      -0.251\n",
      "x14            5.1250      0.026    198.769      0.000       5.075       5.176\n",
      "x15            0.1225      0.025      4.868      0.000       0.073       0.172\n",
      "x16           -0.4654      0.026    -18.084      0.000      -0.516      -0.415\n",
      "x17           -0.3489      0.026    -13.652      0.000      -0.399      -0.299\n",
      "==============================================================================\n",
      "Omnibus:                    10871.547   Durbin-Watson:                   2.001\n",
      "Prob(Omnibus):                  0.000   Jarque-Bera (JB):            64068.163\n",
      "Skew:                          -1.219   Prob(JB):                         0.00\n",
      "Kurtosis:                       8.803   Cond. No.                         2.10\n",
      "==============================================================================\n",
      "\n",
      "Notes:\n",
      "[1] Standard Errors assume that the covariance matrix of the errors is correctly specified.\n"
     ]
    }
   ],
   "source": [
    "X2 = sm.add_constant(X_train_s)\n",
    "est = sm.OLS(y_train, X2)\n",
    "est2 = est.fit()\n",
    "print(est2.summary())"
   ]
  },
  {
   "cell_type": "code",
   "execution_count": null,
   "metadata": {
    "hidden": true
   },
   "outputs": [],
   "source": []
  },
  {
   "cell_type": "markdown",
   "metadata": {
    "heading_collapsed": true
   },
   "source": [
    "# Clustering"
   ]
  },
  {
   "cell_type": "code",
   "execution_count": 233,
   "metadata": {
    "hidden": true
   },
   "outputs": [
    {
     "data": {
      "text/plain": [
       "<matplotlib.collections.PathCollection at 0x1357e3090>"
      ]
     },
     "execution_count": 233,
     "metadata": {},
     "output_type": "execute_result"
    },
    {
     "data": {
      "image/png": "[encoded data removed]",
      "text/plain": [
       "<Figure size 720x576 with 1 Axes>"
      ]
     },
     "metadata": {
      "needs_background": "light"
     },
     "output_type": "display_data"
    }
   ],
   "source": [
    "plt.figure(figsize=(10, 8))\n",
    "\n",
    "pca = PCA(n_components=2)\n",
    "X_p = pca.fit_transform(X_train_s)\n",
    "\n",
    "km = KMeans(n_clusters=6, random_state=42)\n",
    "y_pred = km.fit_predict(X_p)\n",
    "plt.scatter(X_p[:,0], X_p[:,1], c=y_pred, label='cluster')\n",
    "# plt.legend([X_p[:,0], X_p[:,1]], [0,1])"
   ]
  },
  {
   "cell_type": "code",
   "execution_count": 234,
   "metadata": {
    "hidden": true
   },
   "outputs": [
    {
     "name": "stderr",
     "output_type": "stream",
     "text": [
      "/Users/ed/.pyenv/versions/3.7.7/envs/5-star/lib/python3.7/site-packages/ipykernel_launcher.py:1: SettingWithCopyWarning: \n",
      "A value is trying to be set on a copy of a slice from a DataFrame.\n",
      "Try using .loc[row_indexer,col_indexer] = value instead\n",
      "\n",
      "See the caveats in the documentation: https://pandas.pydata.org/pandas-docs/stable/user_guide/indexing.html#returning-a-view-versus-a-copy\n",
      "  \"\"\"Entry point for launching an IPython kernel.\n"
     ]
    }
   ],
   "source": [
    "X_train['cluster'] = y_pred"
   ]
  },
  {
   "cell_type": "code",
   "execution_count": 235,
   "metadata": {
    "hidden": true
   },
   "outputs": [],
   "source": [
    "temp = X_train[['cluster']].join(y_train)"
   ]
  },
  {
   "cell_type": "code",
   "execution_count": 236,
   "metadata": {
    "hidden": true
   },
   "outputs": [
    {
     "data": {
      "text/html": [
       "<div>\n",
       "<style scoped>\n",
       "    .dataframe tbody tr th:only-of-type {\n",
       "        vertical-align: middle;\n",
       "    }\n",
       "\n",
       "    .dataframe tbody tr th {\n",
       "        vertical-align: top;\n",
       "    }\n",
       "\n",
       "    .dataframe thead th {\n",
       "        text-align: right;\n",
       "    }\n",
       "</style>\n",
       "<table border=\"1\" class=\"dataframe\">\n",
       "  <thead>\n",
       "    <tr style=\"text-align: right;\">\n",
       "      <th></th>\n",
       "      <th>review_scores_rating</th>\n",
       "    </tr>\n",
       "    <tr>\n",
       "      <th>cluster</th>\n",
       "      <th></th>\n",
       "    </tr>\n",
       "  </thead>\n",
       "  <tbody>\n",
       "    <tr>\n",
       "      <th>2</th>\n",
       "      <td>96.576050</td>\n",
       "    </tr>\n",
       "    <tr>\n",
       "      <th>1</th>\n",
       "      <td>95.694167</td>\n",
       "    </tr>\n",
       "    <tr>\n",
       "      <th>5</th>\n",
       "      <td>93.593176</td>\n",
       "    </tr>\n",
       "    <tr>\n",
       "      <th>3</th>\n",
       "      <td>92.758996</td>\n",
       "    </tr>\n",
       "    <tr>\n",
       "      <th>4</th>\n",
       "      <td>88.508219</td>\n",
       "    </tr>\n",
       "    <tr>\n",
       "      <th>0</th>\n",
       "      <td>87.083391</td>\n",
       "    </tr>\n",
       "  </tbody>\n",
       "</table>\n",
       "</div>"
      ],
      "text/plain": [
       "         review_scores_rating\n",
       "cluster                      \n",
       "2                   96.576050\n",
       "1                   95.694167\n",
       "5                   93.593176\n",
       "3                   92.758996\n",
       "4                   88.508219\n",
       "0                   87.083391"
      ]
     },
     "execution_count": 236,
     "metadata": {},
     "output_type": "execute_result"
    }
   ],
   "source": [
    "temp.groupby('cluster').mean().sort_values('review_scores_rating', ascending=False)"
   ]
  },
  {
   "cell_type": "code",
   "execution_count": 237,
   "metadata": {
    "hidden": true
   },
   "outputs": [
    {
     "data": {
      "text/plain": [
       "[<matplotlib.lines.Line2D at 0x13524e050>]"
      ]
     },
     "execution_count": 237,
     "metadata": {},
     "output_type": "execute_result"
    },
    {
     "data": {
      "image/png": "[encoded data removed]",
      "text/plain": [
       "<Figure size 432x288 with 1 Axes>"
      ]
     },
     "metadata": {
      "needs_background": "light"
     },
     "output_type": "display_data"
    }
   ],
   "source": [
    "plt.plot(temp.groupby('cluster').mean().sort_values('review_scores_rating', ascending=False).reset_index(drop=True))"
   ]
  },
  {
   "cell_type": "code",
   "execution_count": 238,
   "metadata": {
    "hidden": true
   },
   "outputs": [
    {
     "ename": "ValueError",
     "evalue": "dictionary update sequence element #0 has length 17; 2 is required",
     "output_type": "error",
     "traceback": [
      "\u001b[0;31m---------------------------------------------------------------------------\u001b[0m",
      "\u001b[0;31mValueError\u001b[0m                                Traceback (most recent call last)",
      "\u001b[0;32m<ipython-input-238-96af154e289d>\u001b[0m in \u001b[0;36m<module>\u001b[0;34m\u001b[0m\n\u001b[0;32m----> 1\u001b[0;31m \u001b[0mpd\u001b[0m\u001b[0;34m.\u001b[0m\u001b[0mDataFrame\u001b[0m\u001b[0;34m.\u001b[0m\u001b[0mfrom_dict\u001b[0m\u001b[0;34m(\u001b[0m\u001b[0mdict\u001b[0m\u001b[0;34m(\u001b[0m\u001b[0mpca\u001b[0m\u001b[0;34m.\u001b[0m\u001b[0mcomponents_\u001b[0m\u001b[0;34m)\u001b[0m\u001b[0;34m)\u001b[0m\u001b[0;34m\u001b[0m\u001b[0;34m\u001b[0m\u001b[0m\n\u001b[0m",
      "\u001b[0;31mValueError\u001b[0m: dictionary update sequence element #0 has length 17; 2 is required"
     ]
    }
   ],
   "source": [
    "pd.DataFrame.from_dict(dict(pca.components_))"
   ]
  },
  {
   "cell_type": "code",
   "execution_count": null,
   "metadata": {
    "hidden": true
   },
   "outputs": [],
   "source": []
  },
  {
   "cell_type": "code",
   "execution_count": 232,
   "metadata": {
    "hidden": true
   },
   "outputs": [
    {
     "name": "stderr",
     "output_type": "stream",
     "text": [
      "/Users/ed/.pyenv/versions/3.7.7/envs/5-star/lib/python3.7/site-packages/seaborn/distributions.py:2551: FutureWarning: `distplot` is a deprecated function and will be removed in a future version. Please adapt your code to use either `displot` (a figure-level function with similar flexibility) or `histplot` (an axes-level function for histograms).\n",
      "  warnings.warn(msg, FutureWarning)\n"
     ]
    },
    {
     "data": {
      "text/plain": [
       "<AxesSubplot:ylabel='Density'>"
      ]
     },
     "execution_count": 232,
     "metadata": {},
     "output_type": "execute_result"
    },
    {
     "data": {
      "image/png": "[encoded data removed]",
      "text/plain": [
       "<Figure size 432x288 with 1 Axes>"
      ]
     },
     "metadata": {
      "needs_background": "light"
     },
     "output_type": "display_data"
    }
   ],
   "source": [
    "sns.distplot(listings[['review_scores_cleanliness']])"
   ]
  },
  {
   "cell_type": "code",
   "execution_count": null,
   "metadata": {
    "hidden": true
   },
   "outputs": [],
   "source": []
  },
  {
   "cell_type": "code",
   "execution_count": 292,
   "metadata": {
    "hidden": true
   },
   "outputs": [
    {
     "data": {
      "text/plain": [
       "HDBSCAN(leaf_size=50, min_cluster_size=35)"
      ]
     },
     "execution_count": 292,
     "metadata": {},
     "output_type": "execute_result"
    }
   ],
   "source": [
    "import hdbscan\n",
    "\n",
    "clusterer = hdbscan.HDBSCAN(algorithm='best', alpha=1.0, approx_min_span_tree=True,\n",
    "    gen_min_span_tree=False, leaf_size=50, \n",
    "    metric='euclidean', min_cluster_size=35, min_samples=None, p=None)\n",
    "\n",
    "clusterer.fit(X_p)"
   ]
  },
  {
   "cell_type": "code",
   "execution_count": 293,
   "metadata": {
    "hidden": true
   },
   "outputs": [
    {
     "data": {
      "text/plain": [
       "3"
      ]
     },
     "execution_count": 293,
     "metadata": {},
     "output_type": "execute_result"
    }
   ],
   "source": [
    "clusterer.labels_.max()"
   ]
  },
  {
   "cell_type": "code",
   "execution_count": 294,
   "metadata": {
    "hidden": true
   },
   "outputs": [
    {
     "data": {
      "text/plain": [
       "<matplotlib.collections.PathCollection at 0x135b3b190>"
      ]
     },
     "execution_count": 294,
     "metadata": {},
     "output_type": "execute_result"
    },
    {
     "data": {
      "image/png": "[encoded data removed]",
      "text/plain": [
       "<Figure size 432x288 with 1 Axes>"
      ]
     },
     "metadata": {
      "needs_background": "light"
     },
     "output_type": "display_data"
    }
   ],
   "source": [
    "plt.scatter(X_p[:,0], X_p[:,1], c=clusterer.labels_, label='cluster')"
   ]
  },
  {
   "cell_type": "code",
   "execution_count": null,
   "metadata": {
    "hidden": true
   },
   "outputs": [],
   "source": []
  },
  {
   "cell_type": "markdown",
   "metadata": {},
   "source": [
    "# Extra Feature exploration/engineering"
   ]
  },
  {
   "cell_type": "markdown",
   "metadata": {
    "heading_collapsed": true
   },
   "source": [
    "## Cleanliness feature - delta from other review scores"
   ]
  },
  {
   "cell_type": "code",
   "execution_count": 501,
   "metadata": {
    "hidden": true,
    "scrolled": false
   },
   "outputs": [
    {
     "data": {
      "text/plain": [
       "<AxesSubplot:ylabel='Count'>"
      ]
     },
     "execution_count": 501,
     "metadata": {},
     "output_type": "execute_result"
    },
    {
     "data": {
      "image/png": "[encoded data removed]",
      "text/plain": [
       "<Figure size 432x288 with 1 Axes>"
      ]
     },
     "metadata": {
      "needs_background": "light"
     },
     "output_type": "display_data"
    }
   ],
   "source": [
    "sns.histplot(pd.DataFrame(listings['review_scores_cleanliness'] - listings[['review_scores_checkin','review_scores_accuracy','review_scores_checkin','review_scores_location','review_scores_value']].mean(axis=1)))"
   ]
  },
  {
   "cell_type": "code",
   "execution_count": 327,
   "metadata": {
    "code_folding": [
     2
    ],
    "hidden": true
   },
   "outputs": [],
   "source": []
  },
  {
   "cell_type": "code",
   "execution_count": 660,
   "metadata": {
    "hidden": true
   },
   "outputs": [
    {
     "data": {
      "text/plain": [
       "<AxesSubplot:>"
      ]
     },
     "execution_count": 660,
     "metadata": {},
     "output_type": "execute_result"
    },
    {
     "data": {
      "image/png": "[encoded data removed]",
      "text/plain": [
       "<Figure size 792x648 with 2 Axes>"
      ]
     },
     "metadata": {},
     "output_type": "display_data"
    }
   ],
   "source": [
    "temp = listings[['review_scores_rating']].copy()\n",
    "sns.set_theme(style=\"white\")\n",
    "\n",
    "\n",
    "corr = temp.join(score_delta(listings, 'review_scores_cleanliness'))\\\n",
    "                                      .join(score_delta(listings, 'review_scores_accuracy'))\\\n",
    "                                      .join(score_delta(listings, 'review_scores_checkin'))\\\n",
    "                                      .join(score_delta(listings, 'review_scores_communication'))\\\n",
    "                                      .join(score_delta(listings, 'review_scores_location'))\\\n",
    "                                      .join(score_delta(listings, 'review_scores_value'))\\\n",
    "                                      .corr()\n",
    "mask = np.triu(np.ones_like(corr, dtype=bool))\n",
    "f, ax = plt.subplots(figsize=(11, 9))\n",
    "cmap = sns.diverging_palette(230, 20, as_cmap=True)\n",
    "\n",
    "sns.heatmap(corr, mask=mask, cmap=cmap, vmax=.3, center=0,\n",
    "            square=True, linewidths=.5, cbar_kws={\"shrink\": .5})"
   ]
  },
  {
   "cell_type": "markdown",
   "metadata": {
    "heading_collapsed": true
   },
   "source": [
    "## price / housing prices ratio"
   ]
  },
  {
   "cell_type": "code",
   "execution_count": 535,
   "metadata": {
    "hidden": true
   },
   "outputs": [
    {
     "data": {
      "text/html": [
       "<div>\n",
       "<style scoped>\n",
       "    .dataframe tbody tr th:only-of-type {\n",
       "        vertical-align: middle;\n",
       "    }\n",
       "\n",
       "    .dataframe tbody tr th {\n",
       "        vertical-align: top;\n",
       "    }\n",
       "\n",
       "    .dataframe thead th {\n",
       "        text-align: right;\n",
       "    }\n",
       "</style>\n",
       "<table border=\"1\" class=\"dataframe\">\n",
       "  <thead>\n",
       "    <tr style=\"text-align: right;\">\n",
       "      <th></th>\n",
       "      <th>review_scores_rating</th>\n",
       "      <th>price</th>\n",
       "      <th>mean_house_prices</th>\n",
       "      <th>price_ratio</th>\n",
       "    </tr>\n",
       "  </thead>\n",
       "  <tbody>\n",
       "    <tr>\n",
       "      <th>review_scores_rating</th>\n",
       "      <td>1.000000</td>\n",
       "      <td>-0.022731</td>\n",
       "      <td>-0.118783</td>\n",
       "      <td>0.104180</td>\n",
       "    </tr>\n",
       "    <tr>\n",
       "      <th>price</th>\n",
       "      <td>-0.022731</td>\n",
       "      <td>1.000000</td>\n",
       "      <td>0.233238</td>\n",
       "      <td>0.265713</td>\n",
       "    </tr>\n",
       "    <tr>\n",
       "      <th>mean_house_prices</th>\n",
       "      <td>-0.118783</td>\n",
       "      <td>0.233238</td>\n",
       "      <td>1.000000</td>\n",
       "      <td>-0.696086</td>\n",
       "    </tr>\n",
       "    <tr>\n",
       "      <th>price_ratio</th>\n",
       "      <td>0.104180</td>\n",
       "      <td>0.265713</td>\n",
       "      <td>-0.696086</td>\n",
       "      <td>1.000000</td>\n",
       "    </tr>\n",
       "  </tbody>\n",
       "</table>\n",
       "</div>"
      ],
      "text/plain": [
       "                      review_scores_rating     price  mean_house_prices  \\\n",
       "review_scores_rating              1.000000 -0.022731          -0.118783   \n",
       "price                            -0.022731  1.000000           0.233238   \n",
       "mean_house_prices                -0.118783  0.233238           1.000000   \n",
       "price_ratio                       0.104180  0.265713          -0.696086   \n",
       "\n",
       "                      price_ratio  \n",
       "review_scores_rating     0.104180  \n",
       "price                    0.265713  \n",
       "mean_house_prices       -0.696086  \n",
       "price_ratio              1.000000  "
      ]
     },
     "execution_count": 535,
     "metadata": {},
     "output_type": "execute_result"
    },
    {
     "data": {
      "image/png": "[encoded data removed]",
      "text/plain": [
       "<Figure size 432x288 with 1 Axes>"
      ]
     },
     "metadata": {
      "needs_background": "light"
     },
     "output_type": "display_data"
    }
   ],
   "source": [
    "    \n",
    "listings[['price']].describe()\n",
    "temp = price_tonumerical(listings, ['price'])\n",
    "temp[temp['price'] == 0.0].count()\n",
    "temp = price_to_mean_ratio(listings)\n",
    "# temp = temp[temp['price_ratio'] > 0]\n",
    "sns.histplot(temp,kde=True)\n",
    "listings[['review_scores_rating','price']].join(house_prices(listings)).join(price_to_mean_ratio(listings)).corr()"
   ]
  },
  {
   "cell_type": "markdown",
   "metadata": {},
   "source": [
    "# Linear model iteration"
   ]
  },
  {
   "cell_type": "markdown",
   "metadata": {
    "heading_collapsed": true
   },
   "source": [
    "## Basic linear model with 2 new features"
   ]
  },
  {
   "cell_type": "code",
   "execution_count": 662,
   "metadata": {
    "hidden": true
   },
   "outputs": [],
   "source": [
    "listings = get_data()\n",
    "listings.reset_index(drop=True, inplace=True)"
   ]
  },
  {
   "cell_type": "code",
   "execution_count": 663,
   "metadata": {
    "hidden": true
   },
   "outputs": [],
   "source": [
    "amenities = [['Free parking on premises', 'free street parking', \n",
    "              'paid parking on premises' ,'paid parking off premises'],\n",
    "            'Dryer','Wifi','Breakfast',\n",
    "            'Indoor fireplace',\n",
    "            ['TV', 'cable tv'],\n",
    "            ['Smoke alarm','Smoke detector']]\n",
    "\n",
    "categorical_columns=['instant_bookable', 'host_identity_verified', 'is_location_exact']\n",
    "\n",
    "data = listings[['review_scores_rating']].copy()\\\n",
    "            .join(categoricals_convert(listings, categorical_columns))\\\n",
    "            .join(price_to_mean_ratio(listings))\\\n",
    "            .join(count_amenities(listings))\\\n",
    "            .join(encode_filterables(listings, features))\\\n",
    "            .join(listings[['host_listings_count']])\\\n",
    "            .join(recode_cancellation(listings))\\\n",
    "            .join(response_rate(listings))\\\n",
    "            .join(get_room_ratios(listings))\\\n",
    "            .join(cleanliness_delta(listings))\\\n",
    "            .join(recode_property_room_type(listings))"
   ]
  },
  {
   "cell_type": "code",
   "execution_count": 664,
   "metadata": {
    "hidden": true
   },
   "outputs": [],
   "source": [
    "X = data.drop(columns=['review_scores_rating']).copy()\n",
    "y = data['review_scores_rating'].copy()\n",
    "\n",
    "X_d = pd.get_dummies(X)\n",
    "to_drop = ['cancellation_policy_moderate','cancellation_policy_flexible','room_type_Other',\n",
    "           'property_type_Apartment','property_type_House','property_type_Other']\n",
    "X_d.drop(columns=to_drop, inplace=True)\n",
    "\n",
    "X_train, X_test, y_train, y_test = train_test_split(X_d, y, random_state=42)"
   ]
  },
  {
   "cell_type": "code",
   "execution_count": 665,
   "metadata": {
    "hidden": true
   },
   "outputs": [],
   "source": [
    "scaler = StandardScaler()\n",
    "imputer = SimpleImputer(strategy='median')\n",
    "# Impute: 'host_response_rate': median 'host_listings_count': 1 'accommodates_to_rooms_ratio': mean\n",
    "\n",
    "X_train_i = imputer.fit_transform(X_train)\n",
    "X_test_i = imputer.transform(X_test)\n",
    "\n",
    "X_train_s = scaler.fit_transform(X_train_i)\n",
    "X_test_s = scaler.transform(X_test_i)"
   ]
  },
  {
   "cell_type": "code",
   "execution_count": 666,
   "metadata": {
    "hidden": true
   },
   "outputs": [
    {
     "data": {
      "text/plain": [
       "(0.18259168416141636, 0.19674988048016884)"
      ]
     },
     "execution_count": 666,
     "metadata": {},
     "output_type": "execute_result"
    }
   ],
   "source": [
    "model = LinearRegression()\n",
    "model.fit(X_train_s, y_train)\n",
    "model.score(X_test_s, y_test), model.score(X_train_s, y_train)"
   ]
  },
  {
   "cell_type": "code",
   "execution_count": 667,
   "metadata": {
    "hidden": true
   },
   "outputs": [
    {
     "name": "stdout",
     "output_type": "stream",
     "text": [
      "<class 'pandas.core.frame.DataFrame'>\n",
      "Int64Index: 38811 entries, 11225 to 15795\n",
      "Data columns (total 18 columns):\n",
      " #   Column                       Non-Null Count  Dtype  \n",
      "---  ------                       --------------  -----  \n",
      " 0   instant_bookable             38811 non-null  int64  \n",
      " 1   host_identity_verified       38811 non-null  int64  \n",
      " 2   is_location_exact            38811 non-null  int64  \n",
      " 3   price_ratio                  38811 non-null  float64\n",
      " 4   amenities_count              38811 non-null  int64  \n",
      " 5   Freeparkingonpremises        38811 non-null  int64  \n",
      " 6   Dryer                        38811 non-null  int64  \n",
      " 7   Wifi                         38811 non-null  int64  \n",
      " 8   Breakfast                    38811 non-null  int64  \n",
      " 9   Indoorfireplace              38811 non-null  int64  \n",
      " 10  TV                           38811 non-null  int64  \n",
      " 11  Smokealarm                   38811 non-null  int64  \n",
      " 12  host_listings_count          38733 non-null  float64\n",
      " 13  host_response_rate           30277 non-null  float64\n",
      " 14  accommodates_to_rooms_ratio  38792 non-null  float64\n",
      " 15  cleanliness_delta            38811 non-null  float64\n",
      " 16  cancellation_policy_strict   38811 non-null  uint8  \n",
      " 17  room_type_Entire             38811 non-null  uint8  \n",
      "dtypes: float64(5), int64(11), uint8(2)\n",
      "memory usage: 5.1 MB\n"
     ]
    }
   ],
   "source": [
    "X_train.info()"
   ]
  },
  {
   "cell_type": "code",
   "execution_count": 668,
   "metadata": {
    "hidden": true
   },
   "outputs": [
    {
     "data": {
      "text/html": [
       "<div>\n",
       "<style scoped>\n",
       "    .dataframe tbody tr th:only-of-type {\n",
       "        vertical-align: middle;\n",
       "    }\n",
       "\n",
       "    .dataframe tbody tr th {\n",
       "        vertical-align: top;\n",
       "    }\n",
       "\n",
       "    .dataframe thead th {\n",
       "        text-align: right;\n",
       "    }\n",
       "</style>\n",
       "<table border=\"1\" class=\"dataframe\">\n",
       "  <thead>\n",
       "    <tr style=\"text-align: right;\">\n",
       "      <th></th>\n",
       "      <th>column</th>\n",
       "      <th>coef</th>\n",
       "    </tr>\n",
       "  </thead>\n",
       "  <tbody>\n",
       "    <tr>\n",
       "      <th>0</th>\n",
       "      <td>instant_bookable</td>\n",
       "      <td>-1.025367</td>\n",
       "    </tr>\n",
       "    <tr>\n",
       "      <th>14</th>\n",
       "      <td>accommodates_to_rooms_ratio</td>\n",
       "      <td>-0.887745</td>\n",
       "    </tr>\n",
       "    <tr>\n",
       "      <th>16</th>\n",
       "      <td>cancellation_policy_strict</td>\n",
       "      <td>-0.510433</td>\n",
       "    </tr>\n",
       "    <tr>\n",
       "      <th>12</th>\n",
       "      <td>host_listings_count</td>\n",
       "      <td>-0.461569</td>\n",
       "    </tr>\n",
       "    <tr>\n",
       "      <th>17</th>\n",
       "      <td>room_type_Entire</td>\n",
       "      <td>-0.425501</td>\n",
       "    </tr>\n",
       "    <tr>\n",
       "      <th>10</th>\n",
       "      <td>TV</td>\n",
       "      <td>0.168881</td>\n",
       "    </tr>\n",
       "    <tr>\n",
       "      <th>9</th>\n",
       "      <td>Indoorfireplace</td>\n",
       "      <td>0.185292</td>\n",
       "    </tr>\n",
       "    <tr>\n",
       "      <th>6</th>\n",
       "      <td>Dryer</td>\n",
       "      <td>0.247198</td>\n",
       "    </tr>\n",
       "    <tr>\n",
       "      <th>11</th>\n",
       "      <td>Smokealarm</td>\n",
       "      <td>0.272929</td>\n",
       "    </tr>\n",
       "    <tr>\n",
       "      <th>2</th>\n",
       "      <td>is_location_exact</td>\n",
       "      <td>0.288300</td>\n",
       "    </tr>\n",
       "    <tr>\n",
       "      <th>7</th>\n",
       "      <td>Wifi</td>\n",
       "      <td>0.342932</td>\n",
       "    </tr>\n",
       "    <tr>\n",
       "      <th>5</th>\n",
       "      <td>Freeparkingonpremises</td>\n",
       "      <td>0.354564</td>\n",
       "    </tr>\n",
       "    <tr>\n",
       "      <th>8</th>\n",
       "      <td>Breakfast</td>\n",
       "      <td>0.427031</td>\n",
       "    </tr>\n",
       "    <tr>\n",
       "      <th>13</th>\n",
       "      <td>host_response_rate</td>\n",
       "      <td>0.492099</td>\n",
       "    </tr>\n",
       "    <tr>\n",
       "      <th>4</th>\n",
       "      <td>amenities_count</td>\n",
       "      <td>0.519648</td>\n",
       "    </tr>\n",
       "    <tr>\n",
       "      <th>1</th>\n",
       "      <td>host_identity_verified</td>\n",
       "      <td>0.554908</td>\n",
       "    </tr>\n",
       "    <tr>\n",
       "      <th>3</th>\n",
       "      <td>price_ratio</td>\n",
       "      <td>0.574838</td>\n",
       "    </tr>\n",
       "    <tr>\n",
       "      <th>15</th>\n",
       "      <td>cleanliness_delta</td>\n",
       "      <td>1.935237</td>\n",
       "    </tr>\n",
       "  </tbody>\n",
       "</table>\n",
       "</div>"
      ],
      "text/plain": [
       "                         column      coef\n",
       "0              instant_bookable -1.025367\n",
       "14  accommodates_to_rooms_ratio -0.887745\n",
       "16   cancellation_policy_strict -0.510433\n",
       "12          host_listings_count -0.461569\n",
       "17             room_type_Entire -0.425501\n",
       "10                           TV  0.168881\n",
       "9               Indoorfireplace  0.185292\n",
       "6                         Dryer  0.247198\n",
       "11                   Smokealarm  0.272929\n",
       "2             is_location_exact  0.288300\n",
       "7                          Wifi  0.342932\n",
       "5         Freeparkingonpremises  0.354564\n",
       "8                     Breakfast  0.427031\n",
       "13           host_response_rate  0.492099\n",
       "4               amenities_count  0.519648\n",
       "1        host_identity_verified  0.554908\n",
       "3                   price_ratio  0.574838\n",
       "15            cleanliness_delta  1.935237"
      ]
     },
     "execution_count": 668,
     "metadata": {},
     "output_type": "execute_result"
    }
   ],
   "source": [
    "match_coeffs(model, X_train).sort_values('coef')"
   ]
  },
  {
   "cell_type": "code",
   "execution_count": 551,
   "metadata": {
    "hidden": true
   },
   "outputs": [
    {
     "name": "stdout",
     "output_type": "stream",
     "text": [
      "                             OLS Regression Results                             \n",
      "================================================================================\n",
      "Dep. Variable:     review_scores_rating   R-squared:                       0.199\n",
      "Model:                              OLS   Adj. R-squared:                  0.198\n",
      "Method:                   Least Squares   F-statistic:                     534.0\n",
      "Date:                  Fri, 27 Nov 2020   Prob (F-statistic):               0.00\n",
      "Time:                          14:14:46   Log-Likelihood:            -1.2857e+05\n",
      "No. Observations:                 38811   AIC:                         2.572e+05\n",
      "Df Residuals:                     38792   BIC:                         2.573e+05\n",
      "Df Model:                            18                                         \n",
      "Covariance Type:              nonrobust                                         \n",
      "==============================================================================\n",
      "                 coef    std err          t      P>|t|      [0.025      0.975]\n",
      "------------------------------------------------------------------------------\n",
      "const         92.9604      0.034   2755.652      0.000      92.894      93.027\n",
      "x1            -1.0189      0.035    -29.296      0.000      -1.087      -0.951\n",
      "x2             0.5526      0.034     16.148      0.000       0.486       0.620\n",
      "x3             0.2922      0.034      8.619      0.000       0.226       0.359\n",
      "x4             0.5704      0.036     15.719      0.000       0.499       0.642\n",
      "x5             0.5188      0.042     12.381      0.000       0.437       0.601\n",
      "x6             0.3568      0.038      9.455      0.000       0.283       0.431\n",
      "x7             0.2503      0.036      7.026      0.000       0.180       0.320\n",
      "x8             0.3430      0.034     10.006      0.000       0.276       0.410\n",
      "x9             0.4264      0.035     12.294      0.000       0.358       0.494\n",
      "x10            0.1887      0.034      5.486      0.000       0.121       0.256\n",
      "x11            0.1734      0.037      4.633      0.000       0.100       0.247\n",
      "x12            0.2726      0.036      7.674      0.000       0.203       0.342\n",
      "x13           -0.4652      0.034    -13.508      0.000      -0.533      -0.398\n",
      "x14            0.4813      0.034     14.146      0.000       0.415       0.548\n",
      "x15           -0.8867      0.036    -24.371      0.000      -0.958      -0.815\n",
      "x16            1.9619      0.034     57.326      0.000       1.895       2.029\n",
      "x17           -0.5111      0.035    -14.670      0.000      -0.579      -0.443\n",
      "x18           -0.4314      0.041    -10.566      0.000      -0.511      -0.351\n",
      "==============================================================================\n",
      "Omnibus:                    17649.223   Durbin-Watson:                   1.996\n",
      "Prob(Omnibus):                  0.000   Jarque-Bera (JB):           141535.279\n",
      "Skew:                          -2.016   Prob(JB):                         0.00\n",
      "Kurtosis:                      11.442   Cond. No.                         2.21\n",
      "==============================================================================\n",
      "\n",
      "Notes:\n",
      "[1] Standard Errors assume that the covariance matrix of the errors is correctly specified.\n"
     ]
    }
   ],
   "source": [
    "X2 = sm.add_constant(X_train_s)\n",
    "est = sm.OLS(y_train, X2)\n",
    "est2 = est.fit()\n",
    "print(est2.summary())"
   ]
  },
  {
   "cell_type": "code",
   "execution_count": 553,
   "metadata": {
    "collapsed": true,
    "hidden": true
   },
   "outputs": [
    {
     "data": {
      "text/plain": [
       "['instant_bookable',\n",
       " 'host_identity_verified',\n",
       " 'is_location_exact',\n",
       " 'price_ratio',\n",
       " 'amenities_count',\n",
       " 'Freeparkingonpremises',\n",
       " 'Dryer',\n",
       " 'Wifi',\n",
       " 'Breakfast',\n",
       " 'Indoorfireplace',\n",
       " 'TV',\n",
       " 'Smokealarm',\n",
       " 'host_listings_count',\n",
       " 'host_response_rate',\n",
       " 'accommodates_to_rooms_ratio',\n",
       " 'cleanliness_delta',\n",
       " 'cancellation_policy_strict',\n",
       " 'room_type_Entire']"
      ]
     },
     "execution_count": 553,
     "metadata": {},
     "output_type": "execute_result"
    }
   ],
   "source": [
    "X_train.columns.tolist()"
   ]
  },
  {
   "cell_type": "markdown",
   "metadata": {},
   "source": [
    "## Hyperparameters"
   ]
  },
  {
   "cell_type": "markdown",
   "metadata": {},
   "source": [
    "### setup"
   ]
  },
  {
   "cell_type": "code",
   "execution_count": 703,
   "metadata": {},
   "outputs": [],
   "source": [
    "listings = get_data()\n",
    "listings.reset_index(drop=True, inplace=True)\n",
    "\n",
    "amenities = [['Free parking on premises', 'free street parking', \n",
    "              'paid parking on premises' ,'paid parking off premises'],\n",
    "            'Dryer','Wifi','Breakfast',\n",
    "            'Indoor fireplace',\n",
    "            ['TV', 'cable tv'],\n",
    "            ['Smoke alarm','Smoke detector']]\n",
    "\n",
    "categorical_columns=['instant_bookable', 'host_identity_verified', 'is_location_exact']\n",
    "\n",
    "data = listings[['review_scores_rating']].copy()\\\n",
    "            .join(categoricals_convert(listings, categorical_columns))\\\n",
    "            .join(price_to_mean_ratio(listings))\\\n",
    "            .join(count_amenities(listings))\\\n",
    "            .join(encode_filterables(listings, amenities))\\\n",
    "            .join(listings[['host_listings_count']])\\\n",
    "            .join(recode_cancellation(listings))\\\n",
    "            .join(response_rate(listings))\\\n",
    "            .join(get_room_ratios(listings))\\\n",
    "            .join(cleanliness_delta(listings))\\\n",
    "            .join(recode_property_room_type(listings))\n",
    "\n",
    "X = data.drop(columns=['review_scores_rating']).copy()\n",
    "y = data['review_scores_rating'].copy()\n",
    "\n",
    "X_d = pd.get_dummies(X)\n",
    "to_drop = ['cancellation_policy_moderate','cancellation_policy_flexible','room_type_Other',\n",
    "           'property_type_Apartment','property_type_House','property_type_Other']\n",
    "X_d.drop(columns=to_drop, inplace=True)\n",
    "\n",
    "X_train, X_test, y_train, y_test = train_test_split(X_d, y, random_state=42)"
   ]
  },
  {
   "cell_type": "code",
   "execution_count": 704,
   "metadata": {},
   "outputs": [],
   "source": [
    "to_impute = ['host_response_rate','accommodates_to_rooms_ratio']\n",
    "to_scale = []\n",
    "# scaler = ColumnTransformer([('imputer', StandardScaler(), to_scale)], remainder='passthrough')\n",
    "scaler = StandardScaler()\n",
    "imputer = SimpleImputer(strategy='median')\n",
    "# imputer = ColumnTransformer([\n",
    "#     ('imputer', SimpleImputer(strategy='median'), to_impute),\n",
    "#     ('constant', SimpleImputer(strategy='constant', fill_value=1), ['host_listings_count']),\n",
    "#     ], remainder='passthrough')\n",
    "# Impute: 'host_response_rate': median 'host_listings_count': 1 'accommodates_to_rooms_ratio': mean\n",
    "\n",
    "X_train_i = imputer.fit_transform(X_train)\n",
    "X_test_i = imputer.transform(X_test)\n",
    "\n",
    "X_train_s = scaler.fit_transform(X_train_i)\n",
    "X_test_s = scaler.transform(X_test_i)"
   ]
  },
  {
   "cell_type": "markdown",
   "metadata": {},
   "source": [
    "### Ridge"
   ]
  },
  {
   "cell_type": "code",
   "execution_count": 705,
   "metadata": {},
   "outputs": [
    {
     "data": {
      "text/plain": [
       "(0.18259198751182726, 0.1967498804015806)"
      ]
     },
     "execution_count": 705,
     "metadata": {},
     "output_type": "execute_result"
    }
   ],
   "source": [
    "model = Ridge()\n",
    "model.fit(X_train_s, y_train)\n",
    "model.score(X_test_s, y_test), model.score(X_train_s, y_train)"
   ]
  },
  {
   "cell_type": "code",
   "execution_count": 706,
   "metadata": {},
   "outputs": [],
   "source": [
    "params = dict(\n",
    "    alpha = stats.loguniform(1,1000),\n",
    "    )\n",
    "\n",
    "ridge_grid = RandomizedSearchCV(Ridge(), param_distributions=params, n_jobs=-1, n_iter=1000)\n",
    "history = ridge_grid.fit(X_train_s, y_train)"
   ]
  },
  {
   "cell_type": "code",
   "execution_count": 707,
   "metadata": {},
   "outputs": [
    {
     "data": {
      "text/plain": [
       "0.18266100624214843"
      ]
     },
     "execution_count": 707,
     "metadata": {},
     "output_type": "execute_result"
    }
   ],
   "source": [
    "ridge_grid.score(X_test_s, y_test)"
   ]
  },
  {
   "cell_type": "code",
   "execution_count": 708,
   "metadata": {},
   "outputs": [
    {
     "data": {
      "text/plain": [
       "(0.19542855653386845, {'alpha': 245.50435194240978})"
      ]
     },
     "execution_count": 708,
     "metadata": {},
     "output_type": "execute_result"
    }
   ],
   "source": [
    "ridge_grid.best_score_, ridge_grid.best_params_"
   ]
  },
  {
   "cell_type": "code",
   "execution_count": 709,
   "metadata": {},
   "outputs": [
    {
     "data": {
      "text/plain": [
       "0.9507614213197969"
      ]
     },
     "execution_count": 709,
     "metadata": {},
     "output_type": "execute_result"
    }
   ],
   "source": [
    "0.1873/0.1970"
   ]
  },
  {
   "cell_type": "markdown",
   "metadata": {},
   "source": [
    "#### coefs\n",
    "Best so far is Ridge reggression with alpha = 243.19667039655616"
   ]
  },
  {
   "cell_type": "code",
   "execution_count": 710,
   "metadata": {},
   "outputs": [],
   "source": [
    "ridge_model = ridge_grid.best_estimator_"
   ]
  },
  {
   "cell_type": "code",
   "execution_count": 711,
   "metadata": {},
   "outputs": [
    {
     "data": {
      "text/html": [
       "<div>\n",
       "<style scoped>\n",
       "    .dataframe tbody tr th:only-of-type {\n",
       "        vertical-align: middle;\n",
       "    }\n",
       "\n",
       "    .dataframe tbody tr th {\n",
       "        vertical-align: top;\n",
       "    }\n",
       "\n",
       "    .dataframe thead th {\n",
       "        text-align: right;\n",
       "    }\n",
       "</style>\n",
       "<table border=\"1\" class=\"dataframe\">\n",
       "  <thead>\n",
       "    <tr style=\"text-align: right;\">\n",
       "      <th></th>\n",
       "      <th>column</th>\n",
       "      <th>coef</th>\n",
       "    </tr>\n",
       "  </thead>\n",
       "  <tbody>\n",
       "    <tr>\n",
       "      <th>15</th>\n",
       "      <td>cleanliness_delta</td>\n",
       "      <td>1.923882</td>\n",
       "    </tr>\n",
       "    <tr>\n",
       "      <th>3</th>\n",
       "      <td>price_ratio</td>\n",
       "      <td>0.571376</td>\n",
       "    </tr>\n",
       "    <tr>\n",
       "      <th>1</th>\n",
       "      <td>host_identity_verified</td>\n",
       "      <td>0.552635</td>\n",
       "    </tr>\n",
       "    <tr>\n",
       "      <th>4</th>\n",
       "      <td>amenities_count</td>\n",
       "      <td>0.517618</td>\n",
       "    </tr>\n",
       "    <tr>\n",
       "      <th>13</th>\n",
       "      <td>host_response_rate</td>\n",
       "      <td>0.489294</td>\n",
       "    </tr>\n",
       "    <tr>\n",
       "      <th>8</th>\n",
       "      <td>Breakfast</td>\n",
       "      <td>0.426015</td>\n",
       "    </tr>\n",
       "    <tr>\n",
       "      <th>5</th>\n",
       "      <td>Freeparkingonpremises</td>\n",
       "      <td>0.355324</td>\n",
       "    </tr>\n",
       "    <tr>\n",
       "      <th>7</th>\n",
       "      <td>Wifi</td>\n",
       "      <td>0.341622</td>\n",
       "    </tr>\n",
       "    <tr>\n",
       "      <th>2</th>\n",
       "      <td>is_location_exact</td>\n",
       "      <td>0.286965</td>\n",
       "    </tr>\n",
       "    <tr>\n",
       "      <th>11</th>\n",
       "      <td>Smokealarm</td>\n",
       "      <td>0.273097</td>\n",
       "    </tr>\n",
       "    <tr>\n",
       "      <th>6</th>\n",
       "      <td>Dryer</td>\n",
       "      <td>0.246582</td>\n",
       "    </tr>\n",
       "    <tr>\n",
       "      <th>9</th>\n",
       "      <td>Indoorfireplace</td>\n",
       "      <td>0.185273</td>\n",
       "    </tr>\n",
       "    <tr>\n",
       "      <th>10</th>\n",
       "      <td>TV</td>\n",
       "      <td>0.168314</td>\n",
       "    </tr>\n",
       "    <tr>\n",
       "      <th>17</th>\n",
       "      <td>room_type_Entire</td>\n",
       "      <td>-0.422313</td>\n",
       "    </tr>\n",
       "    <tr>\n",
       "      <th>12</th>\n",
       "      <td>host_listings_count</td>\n",
       "      <td>-0.459188</td>\n",
       "    </tr>\n",
       "    <tr>\n",
       "      <th>16</th>\n",
       "      <td>cancellation_policy_strict</td>\n",
       "      <td>-0.508096</td>\n",
       "    </tr>\n",
       "    <tr>\n",
       "      <th>14</th>\n",
       "      <td>accommodates_to_rooms_ratio</td>\n",
       "      <td>-0.883932</td>\n",
       "    </tr>\n",
       "    <tr>\n",
       "      <th>0</th>\n",
       "      <td>instant_bookable</td>\n",
       "      <td>-1.020369</td>\n",
       "    </tr>\n",
       "  </tbody>\n",
       "</table>\n",
       "</div>"
      ],
      "text/plain": [
       "                         column      coef\n",
       "15            cleanliness_delta  1.923882\n",
       "3                   price_ratio  0.571376\n",
       "1        host_identity_verified  0.552635\n",
       "4               amenities_count  0.517618\n",
       "13           host_response_rate  0.489294\n",
       "8                     Breakfast  0.426015\n",
       "5         Freeparkingonpremises  0.355324\n",
       "7                          Wifi  0.341622\n",
       "2             is_location_exact  0.286965\n",
       "11                   Smokealarm  0.273097\n",
       "6                         Dryer  0.246582\n",
       "9               Indoorfireplace  0.185273\n",
       "10                           TV  0.168314\n",
       "17             room_type_Entire -0.422313\n",
       "12          host_listings_count -0.459188\n",
       "16   cancellation_policy_strict -0.508096\n",
       "14  accommodates_to_rooms_ratio -0.883932\n",
       "0              instant_bookable -1.020369"
      ]
     },
     "execution_count": 711,
     "metadata": {},
     "output_type": "execute_result"
    }
   ],
   "source": [
    "match_coeffs(ridge_model, X_train).sort_values('coef', ascending=False)"
   ]
  },
  {
   "cell_type": "code",
   "execution_count": 713,
   "metadata": {},
   "outputs": [
    {
     "data": {
      "text/html": [
       "<div>\n",
       "<style scoped>\n",
       "    .dataframe tbody tr th:only-of-type {\n",
       "        vertical-align: middle;\n",
       "    }\n",
       "\n",
       "    .dataframe tbody tr th {\n",
       "        vertical-align: top;\n",
       "    }\n",
       "\n",
       "    .dataframe thead th {\n",
       "        text-align: right;\n",
       "    }\n",
       "</style>\n",
       "<table border=\"1\" class=\"dataframe\">\n",
       "  <thead>\n",
       "    <tr style=\"text-align: right;\">\n",
       "      <th></th>\n",
       "      <th>column</th>\n",
       "      <th>score</th>\n",
       "    </tr>\n",
       "  </thead>\n",
       "  <tbody>\n",
       "    <tr>\n",
       "      <th>15</th>\n",
       "      <td>cleanliness_delta</td>\n",
       "      <td>0.135179</td>\n",
       "    </tr>\n",
       "    <tr>\n",
       "      <th>0</th>\n",
       "      <td>instant_bookable</td>\n",
       "      <td>0.037979</td>\n",
       "    </tr>\n",
       "    <tr>\n",
       "      <th>14</th>\n",
       "      <td>accommodates_to_rooms_ratio</td>\n",
       "      <td>0.028662</td>\n",
       "    </tr>\n",
       "    <tr>\n",
       "      <th>3</th>\n",
       "      <td>price_ratio</td>\n",
       "      <td>0.011873</td>\n",
       "    </tr>\n",
       "    <tr>\n",
       "      <th>1</th>\n",
       "      <td>host_identity_verified</td>\n",
       "      <td>0.011167</td>\n",
       "    </tr>\n",
       "    <tr>\n",
       "      <th>4</th>\n",
       "      <td>amenities_count</td>\n",
       "      <td>0.009769</td>\n",
       "    </tr>\n",
       "    <tr>\n",
       "      <th>16</th>\n",
       "      <td>cancellation_policy_strict</td>\n",
       "      <td>0.009445</td>\n",
       "    </tr>\n",
       "    <tr>\n",
       "      <th>13</th>\n",
       "      <td>host_response_rate</td>\n",
       "      <td>0.008760</td>\n",
       "    </tr>\n",
       "    <tr>\n",
       "      <th>12</th>\n",
       "      <td>host_listings_count</td>\n",
       "      <td>0.007702</td>\n",
       "    </tr>\n",
       "    <tr>\n",
       "      <th>8</th>\n",
       "      <td>Breakfast</td>\n",
       "      <td>0.006626</td>\n",
       "    </tr>\n",
       "    <tr>\n",
       "      <th>17</th>\n",
       "      <td>room_type_Entire</td>\n",
       "      <td>0.006507</td>\n",
       "    </tr>\n",
       "    <tr>\n",
       "      <th>5</th>\n",
       "      <td>Freeparkingonpremises</td>\n",
       "      <td>0.004558</td>\n",
       "    </tr>\n",
       "    <tr>\n",
       "      <th>7</th>\n",
       "      <td>Wifi</td>\n",
       "      <td>0.004256</td>\n",
       "    </tr>\n",
       "    <tr>\n",
       "      <th>2</th>\n",
       "      <td>is_location_exact</td>\n",
       "      <td>0.002992</td>\n",
       "    </tr>\n",
       "    <tr>\n",
       "      <th>11</th>\n",
       "      <td>Smokealarm</td>\n",
       "      <td>0.002717</td>\n",
       "    </tr>\n",
       "    <tr>\n",
       "      <th>6</th>\n",
       "      <td>Dryer</td>\n",
       "      <td>0.002270</td>\n",
       "    </tr>\n",
       "    <tr>\n",
       "      <th>9</th>\n",
       "      <td>Indoorfireplace</td>\n",
       "      <td>0.001293</td>\n",
       "    </tr>\n",
       "    <tr>\n",
       "      <th>10</th>\n",
       "      <td>TV</td>\n",
       "      <td>0.001061</td>\n",
       "    </tr>\n",
       "  </tbody>\n",
       "</table>\n",
       "</div>"
      ],
      "text/plain": [
       "                         column     score\n",
       "15            cleanliness_delta  0.135179\n",
       "0              instant_bookable  0.037979\n",
       "14  accommodates_to_rooms_ratio  0.028662\n",
       "3                   price_ratio  0.011873\n",
       "1        host_identity_verified  0.011167\n",
       "4               amenities_count  0.009769\n",
       "16   cancellation_policy_strict  0.009445\n",
       "13           host_response_rate  0.008760\n",
       "12          host_listings_count  0.007702\n",
       "8                     Breakfast  0.006626\n",
       "17             room_type_Entire  0.006507\n",
       "5         Freeparkingonpremises  0.004558\n",
       "7                          Wifi  0.004256\n",
       "2             is_location_exact  0.002992\n",
       "11                   Smokealarm  0.002717\n",
       "6                         Dryer  0.002270\n",
       "9               Indoorfireplace  0.001293\n",
       "10                           TV  0.001061"
      ]
     },
     "execution_count": 713,
     "metadata": {},
     "output_type": "execute_result"
    }
   ],
   "source": [
    "permutation_score = permutation_importance(ridge_model, X_train_s, y_train, n_repeats=100)\n",
    "perm_scores = pd.DataFrame.from_dict(dict(column=X_train.columns, score=permutation_score.importances_mean))\n",
    "perm_scores.sort_values('score', ascending=False)"
   ]
  },
  {
   "cell_type": "markdown",
   "metadata": {
    "heading_collapsed": true
   },
   "source": [
    "### Elastic Net"
   ]
  },
  {
   "cell_type": "code",
   "execution_count": 615,
   "metadata": {
    "hidden": true
   },
   "outputs": [],
   "source": [
    "params = dict(\n",
    "    alpha = stats.loguniform(0.1,500),\n",
    "    l1_ratio = stats.uniform(0,1)\n",
    "    )\n",
    "\n",
    "grid = RandomizedSearchCV(ElasticNet(), param_distributions=params, n_jobs=-1, n_iter=1000)\n",
    "history = grid.fit(X_train_s, y_train)"
   ]
  },
  {
   "cell_type": "code",
   "execution_count": 616,
   "metadata": {
    "hidden": true
   },
   "outputs": [
    {
     "data": {
      "text/plain": [
       "(0.19623769060106136,\n",
       " {'alpha': 0.10548108041305748, 'l1_ratio': 0.1354324405908336})"
      ]
     },
     "execution_count": 616,
     "metadata": {},
     "output_type": "execute_result"
    }
   ],
   "source": [
    "grid.best_score_, grid.best_params_"
   ]
  },
  {
   "cell_type": "code",
   "execution_count": 617,
   "metadata": {
    "hidden": true
   },
   "outputs": [
    {
     "data": {
      "text/plain": [
       "0.18699868282699905"
      ]
     },
     "execution_count": 617,
     "metadata": {},
     "output_type": "execute_result"
    }
   ],
   "source": [
    "grid.score(X_test_s, y_test)"
   ]
  },
  {
   "cell_type": "code",
   "execution_count": 618,
   "metadata": {
    "hidden": true,
    "scrolled": false
   },
   "outputs": [
    {
     "data": {
      "text/html": [
       "<div>\n",
       "<style scoped>\n",
       "    .dataframe tbody tr th:only-of-type {\n",
       "        vertical-align: middle;\n",
       "    }\n",
       "\n",
       "    .dataframe tbody tr th {\n",
       "        vertical-align: top;\n",
       "    }\n",
       "\n",
       "    .dataframe thead th {\n",
       "        text-align: right;\n",
       "    }\n",
       "</style>\n",
       "<table border=\"1\" class=\"dataframe\">\n",
       "  <thead>\n",
       "    <tr style=\"text-align: right;\">\n",
       "      <th></th>\n",
       "      <th>column</th>\n",
       "      <th>coef</th>\n",
       "    </tr>\n",
       "  </thead>\n",
       "  <tbody>\n",
       "    <tr>\n",
       "      <th>0</th>\n",
       "      <td>instant_bookable</td>\n",
       "      <td>-0.943183</td>\n",
       "    </tr>\n",
       "    <tr>\n",
       "      <th>1</th>\n",
       "      <td>host_identity_verified</td>\n",
       "      <td>0.512456</td>\n",
       "    </tr>\n",
       "    <tr>\n",
       "      <th>2</th>\n",
       "      <td>is_location_exact</td>\n",
       "      <td>0.262745</td>\n",
       "    </tr>\n",
       "    <tr>\n",
       "      <th>3</th>\n",
       "      <td>price_ratio</td>\n",
       "      <td>0.512090</td>\n",
       "    </tr>\n",
       "    <tr>\n",
       "      <th>4</th>\n",
       "      <td>amenities_count</td>\n",
       "      <td>0.491522</td>\n",
       "    </tr>\n",
       "    <tr>\n",
       "      <th>5</th>\n",
       "      <td>Freeparkingonpremises</td>\n",
       "      <td>0.360169</td>\n",
       "    </tr>\n",
       "    <tr>\n",
       "      <th>6</th>\n",
       "      <td>Dryer</td>\n",
       "      <td>0.230261</td>\n",
       "    </tr>\n",
       "    <tr>\n",
       "      <th>7</th>\n",
       "      <td>Wifi</td>\n",
       "      <td>0.315977</td>\n",
       "    </tr>\n",
       "    <tr>\n",
       "      <th>8</th>\n",
       "      <td>Breakfast</td>\n",
       "      <td>0.405305</td>\n",
       "    </tr>\n",
       "    <tr>\n",
       "      <th>9</th>\n",
       "      <td>Indoorfireplace</td>\n",
       "      <td>0.178378</td>\n",
       "    </tr>\n",
       "    <tr>\n",
       "      <th>10</th>\n",
       "      <td>TV</td>\n",
       "      <td>0.151609</td>\n",
       "    </tr>\n",
       "    <tr>\n",
       "      <th>11</th>\n",
       "      <td>Smokealarm</td>\n",
       "      <td>0.266144</td>\n",
       "    </tr>\n",
       "    <tr>\n",
       "      <th>12</th>\n",
       "      <td>host_listings_count</td>\n",
       "      <td>-0.423104</td>\n",
       "    </tr>\n",
       "    <tr>\n",
       "      <th>13</th>\n",
       "      <td>host_response_rate</td>\n",
       "      <td>0.433153</td>\n",
       "    </tr>\n",
       "    <tr>\n",
       "      <th>14</th>\n",
       "      <td>accommodates_to_rooms_ratio</td>\n",
       "      <td>-0.826958</td>\n",
       "    </tr>\n",
       "    <tr>\n",
       "      <th>15</th>\n",
       "      <td>cleanliness_delta</td>\n",
       "      <td>1.798699</td>\n",
       "    </tr>\n",
       "    <tr>\n",
       "      <th>16</th>\n",
       "      <td>cancellation_policy_strict</td>\n",
       "      <td>-0.469959</td>\n",
       "    </tr>\n",
       "    <tr>\n",
       "      <th>17</th>\n",
       "      <td>room_type_Entire</td>\n",
       "      <td>-0.370653</td>\n",
       "    </tr>\n",
       "  </tbody>\n",
       "</table>\n",
       "</div>"
      ],
      "text/plain": [
       "                         column      coef\n",
       "0              instant_bookable -0.943183\n",
       "1        host_identity_verified  0.512456\n",
       "2             is_location_exact  0.262745\n",
       "3                   price_ratio  0.512090\n",
       "4               amenities_count  0.491522\n",
       "5         Freeparkingonpremises  0.360169\n",
       "6                         Dryer  0.230261\n",
       "7                          Wifi  0.315977\n",
       "8                     Breakfast  0.405305\n",
       "9               Indoorfireplace  0.178378\n",
       "10                           TV  0.151609\n",
       "11                   Smokealarm  0.266144\n",
       "12          host_listings_count -0.423104\n",
       "13           host_response_rate  0.433153\n",
       "14  accommodates_to_rooms_ratio -0.826958\n",
       "15            cleanliness_delta  1.798699\n",
       "16   cancellation_policy_strict -0.469959\n",
       "17             room_type_Entire -0.370653"
      ]
     },
     "execution_count": 618,
     "metadata": {},
     "output_type": "execute_result"
    }
   ],
   "source": [
    "match_coeffs(grid.best_estimator_, X_train)"
   ]
  },
  {
   "cell_type": "markdown",
   "metadata": {
    "heading_collapsed": true
   },
   "source": [
    "### Lasso"
   ]
  },
  {
   "cell_type": "code",
   "execution_count": 632,
   "metadata": {
    "hidden": true
   },
   "outputs": [],
   "source": [
    "params = dict(\n",
    "    alpha = [0.3] #stats.loguniform(0.001,10),\n",
    "#     l1_ratio = stats.uniform(0,1)\n",
    "    )\n",
    "\n",
    "grid = RandomizedSearchCV(Lasso(), param_distributions=params, n_jobs=-1, n_iter=1)\n",
    "history = grid.fit(X_train_s, y_train)"
   ]
  },
  {
   "cell_type": "code",
   "execution_count": 633,
   "metadata": {
    "hidden": true
   },
   "outputs": [
    {
     "data": {
      "text/plain": [
       "(0.1777564507853949, {'alpha': 0.3})"
      ]
     },
     "execution_count": 633,
     "metadata": {},
     "output_type": "execute_result"
    }
   ],
   "source": [
    "grid.best_score_, grid.best_params_"
   ]
  },
  {
   "cell_type": "code",
   "execution_count": 634,
   "metadata": {
    "hidden": true
   },
   "outputs": [
    {
     "data": {
      "text/plain": [
       "0.1713905378065912"
      ]
     },
     "execution_count": 634,
     "metadata": {},
     "output_type": "execute_result"
    }
   ],
   "source": [
    "grid.score(X_test_s, y_test)"
   ]
  },
  {
   "cell_type": "code",
   "execution_count": 635,
   "metadata": {
    "hidden": true
   },
   "outputs": [
    {
     "data": {
      "text/html": [
       "<div>\n",
       "<style scoped>\n",
       "    .dataframe tbody tr th:only-of-type {\n",
       "        vertical-align: middle;\n",
       "    }\n",
       "\n",
       "    .dataframe tbody tr th {\n",
       "        vertical-align: top;\n",
       "    }\n",
       "\n",
       "    .dataframe thead th {\n",
       "        text-align: right;\n",
       "    }\n",
       "</style>\n",
       "<table border=\"1\" class=\"dataframe\">\n",
       "  <thead>\n",
       "    <tr style=\"text-align: right;\">\n",
       "      <th></th>\n",
       "      <th>column</th>\n",
       "      <th>coef</th>\n",
       "    </tr>\n",
       "  </thead>\n",
       "  <tbody>\n",
       "    <tr>\n",
       "      <th>0</th>\n",
       "      <td>instant_bookable</td>\n",
       "      <td>-0.806748</td>\n",
       "    </tr>\n",
       "    <tr>\n",
       "      <th>1</th>\n",
       "      <td>host_identity_verified</td>\n",
       "      <td>0.342720</td>\n",
       "    </tr>\n",
       "    <tr>\n",
       "      <th>2</th>\n",
       "      <td>is_location_exact</td>\n",
       "      <td>0.045082</td>\n",
       "    </tr>\n",
       "    <tr>\n",
       "      <th>3</th>\n",
       "      <td>price_ratio</td>\n",
       "      <td>0.240665</td>\n",
       "    </tr>\n",
       "    <tr>\n",
       "      <th>4</th>\n",
       "      <td>amenities_count</td>\n",
       "      <td>0.479359</td>\n",
       "    </tr>\n",
       "    <tr>\n",
       "      <th>5</th>\n",
       "      <td>Freeparkingonpremises</td>\n",
       "      <td>0.293889</td>\n",
       "    </tr>\n",
       "    <tr>\n",
       "      <th>6</th>\n",
       "      <td>Dryer</td>\n",
       "      <td>0.000000</td>\n",
       "    </tr>\n",
       "    <tr>\n",
       "      <th>7</th>\n",
       "      <td>Wifi</td>\n",
       "      <td>0.133238</td>\n",
       "    </tr>\n",
       "    <tr>\n",
       "      <th>8</th>\n",
       "      <td>Breakfast</td>\n",
       "      <td>0.291657</td>\n",
       "    </tr>\n",
       "    <tr>\n",
       "      <th>9</th>\n",
       "      <td>Indoorfireplace</td>\n",
       "      <td>0.000000</td>\n",
       "    </tr>\n",
       "    <tr>\n",
       "      <th>10</th>\n",
       "      <td>TV</td>\n",
       "      <td>0.000000</td>\n",
       "    </tr>\n",
       "    <tr>\n",
       "      <th>11</th>\n",
       "      <td>Smokealarm</td>\n",
       "      <td>0.109847</td>\n",
       "    </tr>\n",
       "    <tr>\n",
       "      <th>12</th>\n",
       "      <td>host_listings_count</td>\n",
       "      <td>-0.245518</td>\n",
       "    </tr>\n",
       "    <tr>\n",
       "      <th>13</th>\n",
       "      <td>host_response_rate</td>\n",
       "      <td>0.202883</td>\n",
       "    </tr>\n",
       "    <tr>\n",
       "      <th>14</th>\n",
       "      <td>accommodates_to_rooms_ratio</td>\n",
       "      <td>-0.736035</td>\n",
       "    </tr>\n",
       "    <tr>\n",
       "      <th>15</th>\n",
       "      <td>cleanliness_delta</td>\n",
       "      <td>1.742049</td>\n",
       "    </tr>\n",
       "    <tr>\n",
       "      <th>16</th>\n",
       "      <td>cancellation_policy_strict</td>\n",
       "      <td>-0.303810</td>\n",
       "    </tr>\n",
       "    <tr>\n",
       "      <th>17</th>\n",
       "      <td>room_type_Entire</td>\n",
       "      <td>-0.012873</td>\n",
       "    </tr>\n",
       "  </tbody>\n",
       "</table>\n",
       "</div>"
      ],
      "text/plain": [
       "                         column      coef\n",
       "0              instant_bookable -0.806748\n",
       "1        host_identity_verified  0.342720\n",
       "2             is_location_exact  0.045082\n",
       "3                   price_ratio  0.240665\n",
       "4               amenities_count  0.479359\n",
       "5         Freeparkingonpremises  0.293889\n",
       "6                         Dryer  0.000000\n",
       "7                          Wifi  0.133238\n",
       "8                     Breakfast  0.291657\n",
       "9               Indoorfireplace  0.000000\n",
       "10                           TV  0.000000\n",
       "11                   Smokealarm  0.109847\n",
       "12          host_listings_count -0.245518\n",
       "13           host_response_rate  0.202883\n",
       "14  accommodates_to_rooms_ratio -0.736035\n",
       "15            cleanliness_delta  1.742049\n",
       "16   cancellation_policy_strict -0.303810\n",
       "17             room_type_Entire -0.012873"
      ]
     },
     "execution_count": 635,
     "metadata": {},
     "output_type": "execute_result"
    }
   ],
   "source": [
    "match_coeffs(grid.best_estimator_, X_train)"
   ]
  },
  {
   "cell_type": "code",
   "execution_count": null,
   "metadata": {
    "hidden": true
   },
   "outputs": [],
   "source": []
  },
  {
   "cell_type": "markdown",
   "metadata": {},
   "source": [
    "## Cut lowest features"
   ]
  },
  {
   "cell_type": "markdown",
   "metadata": {
    "heading_collapsed": true
   },
   "source": [
    "### Setup"
   ]
  },
  {
   "cell_type": "code",
   "execution_count": 692,
   "metadata": {
    "hidden": true
   },
   "outputs": [],
   "source": [
    "listings = get_data()\n",
    "listings.reset_index(drop=True, inplace=True)\n",
    "\n",
    "amenities = [['Free parking on premises', 'free street parking', \n",
    "              'paid parking on premises' ,'paid parking off premises'],\n",
    "#              'Dryer',\n",
    "             'Wifi','Breakfast',\n",
    "#             'Indoor fireplace',\n",
    "#             ['TV', 'cable tv'],\n",
    "#             ['Smoke alarm','Smoke detector']]\n",
    "            ]\n",
    "\n",
    "categorical_columns=['instant_bookable', 'host_identity_verified', 'is_location_exact']\n",
    "\n",
    "data = listings[['review_scores_rating']].copy()\\\n",
    "            .join(categoricals_convert(listings, categorical_columns))\\\n",
    "            .join(price_to_mean_ratio(listings))\\\n",
    "            .join(count_amenities(listings))\\\n",
    "            .join(encode_filterables(listings, amenities))\\\n",
    "            .join(listings[['host_listings_count']])\\\n",
    "            .join(recode_cancellation(listings))\\\n",
    "            .join(response_rate(listings))\\\n",
    "            .join(get_room_ratios(listings))\\\n",
    "            .join(cleanliness_delta(listings))\\\n",
    "            .join(recode_property_room_type(listings))\n",
    "\n",
    "X = data.drop(columns=['review_scores_rating']).copy()\n",
    "y = data['review_scores_rating'].copy()\n",
    "\n",
    "X_d = pd.get_dummies(X)\n",
    "to_drop = ['cancellation_policy_moderate','cancellation_policy_flexible','room_type_Other',\n",
    "           'property_type_Apartment','property_type_House','property_type_Other']\n",
    "X_d.drop(columns=to_drop, inplace=True)\n",
    "\n",
    "X_train, X_test, y_train, y_test = train_test_split(X_d, y, random_state=42)"
   ]
  },
  {
   "cell_type": "code",
   "execution_count": 693,
   "metadata": {
    "hidden": true
   },
   "outputs": [],
   "source": [
    "to_impute = ['host_response_rate','accommodates_to_rooms_ratio']\n",
    "to_scale = []\n",
    "# scaler = ColumnTransformer([('imputer', StandardScaler(), to_scale)], remainder='passthrough')\n",
    "scaler = StandardScaler()\n",
    "imputer = SimpleImputer(strategy='median')\n",
    "# imputer = ColumnTransformer([\n",
    "#     ('imputer', SimpleImputer(strategy='median'), to_impute),\n",
    "#     ('constant', SimpleImputer(strategy='constant', fill_value=1), ['host_listings_count']),\n",
    "#     ], remainder='passthrough')\n",
    "# Impute: 'host_response_rate': median 'host_listings_count': 1 'accommodates_to_rooms_ratio': mean\n",
    "\n",
    "X_train_i = imputer.fit_transform(X_train)\n",
    "X_test_i = imputer.transform(X_test)\n",
    "\n",
    "X_train_s = scaler.fit_transform(X_train_i)\n",
    "X_test_s = scaler.transform(X_test_i)"
   ]
  },
  {
   "cell_type": "markdown",
   "metadata": {},
   "source": [
    "### Ridge model"
   ]
  },
  {
   "cell_type": "code",
   "execution_count": 694,
   "metadata": {},
   "outputs": [
    {
     "data": {
      "text/plain": [
       "(0.17897549674129343, 0.19332629399434265)"
      ]
     },
     "execution_count": 694,
     "metadata": {},
     "output_type": "execute_result"
    }
   ],
   "source": [
    "model2 = Ridge(alpha=50)\n",
    "model2.fit(X_train_s, y_train)\n",
    "model2.score(X_test_s, y_test), model2.score(X_train_s, y_train)"
   ]
  },
  {
   "cell_type": "code",
   "execution_count": 696,
   "metadata": {},
   "outputs": [
    {
     "data": {
      "text/plain": [
       "0.1790222885077094"
      ]
     },
     "execution_count": 696,
     "metadata": {},
     "output_type": "execute_result"
    }
   ],
   "source": [
    "params = dict(\n",
    "    alpha = stats.loguniform(1,1000),\n",
    "    )\n",
    "\n",
    "ridge_grid2 = RandomizedSearchCV(Ridge(), param_distributions=params, n_jobs=-1, n_iter=1000)\n",
    "history2 = ridge_grid2.fit(X_train_s, y_train)\n",
    "ridge_grid2.score(X_test_s, y_test)"
   ]
  },
  {
   "cell_type": "code",
   "execution_count": 697,
   "metadata": {},
   "outputs": [
    {
     "data": {
      "text/plain": [
       "(0.19213459397123758, {'alpha': 213.31262934055124})"
      ]
     },
     "execution_count": 697,
     "metadata": {},
     "output_type": "execute_result"
    }
   ],
   "source": [
    "ridge_grid2.best_score_, ridge_grid2.best_params_"
   ]
  },
  {
   "cell_type": "code",
   "execution_count": null,
   "metadata": {},
   "outputs": [],
   "source": []
  },
  {
   "cell_type": "code",
   "execution_count": 688,
   "metadata": {},
   "outputs": [
    {
     "data": {
      "text/html": [
       "<div>\n",
       "<style scoped>\n",
       "    .dataframe tbody tr th:only-of-type {\n",
       "        vertical-align: middle;\n",
       "    }\n",
       "\n",
       "    .dataframe tbody tr th {\n",
       "        vertical-align: top;\n",
       "    }\n",
       "\n",
       "    .dataframe thead th {\n",
       "        text-align: right;\n",
       "    }\n",
       "</style>\n",
       "<table border=\"1\" class=\"dataframe\">\n",
       "  <thead>\n",
       "    <tr style=\"text-align: right;\">\n",
       "      <th></th>\n",
       "      <th>column</th>\n",
       "      <th>coef</th>\n",
       "    </tr>\n",
       "  </thead>\n",
       "  <tbody>\n",
       "    <tr>\n",
       "      <th>0</th>\n",
       "      <td>instant_bookable</td>\n",
       "      <td>-1.039968</td>\n",
       "    </tr>\n",
       "    <tr>\n",
       "      <th>10</th>\n",
       "      <td>accommodates_to_rooms_ratio</td>\n",
       "      <td>-0.899409</td>\n",
       "    </tr>\n",
       "    <tr>\n",
       "      <th>12</th>\n",
       "      <td>cancellation_policy_strict</td>\n",
       "      <td>-0.522933</td>\n",
       "    </tr>\n",
       "    <tr>\n",
       "      <th>8</th>\n",
       "      <td>host_listings_count</td>\n",
       "      <td>-0.469388</td>\n",
       "    </tr>\n",
       "    <tr>\n",
       "      <th>13</th>\n",
       "      <td>room_type_Entire</td>\n",
       "      <td>-0.333703</td>\n",
       "    </tr>\n",
       "    <tr>\n",
       "      <th>2</th>\n",
       "      <td>is_location_exact</td>\n",
       "      <td>0.305936</td>\n",
       "    </tr>\n",
       "    <tr>\n",
       "      <th>5</th>\n",
       "      <td>Freeparkingonpremises</td>\n",
       "      <td>0.341552</td>\n",
       "    </tr>\n",
       "    <tr>\n",
       "      <th>6</th>\n",
       "      <td>Wifi</td>\n",
       "      <td>0.367711</td>\n",
       "    </tr>\n",
       "    <tr>\n",
       "      <th>7</th>\n",
       "      <td>Breakfast</td>\n",
       "      <td>0.445746</td>\n",
       "    </tr>\n",
       "    <tr>\n",
       "      <th>9</th>\n",
       "      <td>host_response_rate</td>\n",
       "      <td>0.488550</td>\n",
       "    </tr>\n",
       "    <tr>\n",
       "      <th>1</th>\n",
       "      <td>host_identity_verified</td>\n",
       "      <td>0.559313</td>\n",
       "    </tr>\n",
       "    <tr>\n",
       "      <th>3</th>\n",
       "      <td>price_ratio</td>\n",
       "      <td>0.588379</td>\n",
       "    </tr>\n",
       "    <tr>\n",
       "      <th>4</th>\n",
       "      <td>amenities_count</td>\n",
       "      <td>0.729722</td>\n",
       "    </tr>\n",
       "    <tr>\n",
       "      <th>11</th>\n",
       "      <td>cleanliness_delta</td>\n",
       "      <td>1.949561</td>\n",
       "    </tr>\n",
       "  </tbody>\n",
       "</table>\n",
       "</div>"
      ],
      "text/plain": [
       "                         column      coef\n",
       "0              instant_bookable -1.039968\n",
       "10  accommodates_to_rooms_ratio -0.899409\n",
       "12   cancellation_policy_strict -0.522933\n",
       "8           host_listings_count -0.469388\n",
       "13             room_type_Entire -0.333703\n",
       "2             is_location_exact  0.305936\n",
       "5         Freeparkingonpremises  0.341552\n",
       "6                          Wifi  0.367711\n",
       "7                     Breakfast  0.445746\n",
       "9            host_response_rate  0.488550\n",
       "1        host_identity_verified  0.559313\n",
       "3                   price_ratio  0.588379\n",
       "4               amenities_count  0.729722\n",
       "11            cleanliness_delta  1.949561"
      ]
     },
     "execution_count": 688,
     "metadata": {},
     "output_type": "execute_result"
    }
   ],
   "source": [
    "match_coeffs(model2, X_train).sort_values('coef')"
   ]
  },
  {
   "cell_type": "markdown",
   "metadata": {},
   "source": [
    "#### OLS summary"
   ]
  },
  {
   "cell_type": "code",
   "execution_count": 689,
   "metadata": {},
   "outputs": [
    {
     "name": "stdout",
     "output_type": "stream",
     "text": [
      "                             OLS Regression Results                             \n",
      "================================================================================\n",
      "Dep. Variable:     review_scores_rating   R-squared:                       0.193\n",
      "Model:                              OLS   Adj. R-squared:                  0.193\n",
      "Method:                   Least Squares   F-statistic:                     664.1\n",
      "Date:                  Fri, 27 Nov 2020   Prob (F-statistic):               0.00\n",
      "Time:                          16:55:10   Log-Likelihood:            -1.2870e+05\n",
      "No. Observations:                 38811   AIC:                         2.574e+05\n",
      "Df Residuals:                     38796   BIC:                         2.575e+05\n",
      "Df Model:                            14                                         \n",
      "Covariance Type:              nonrobust                                         \n",
      "==============================================================================\n",
      "                 coef    std err          t      P>|t|      [0.025      0.975]\n",
      "------------------------------------------------------------------------------\n",
      "const         92.9604      0.034   2746.825      0.000      92.894      93.027\n",
      "x1            -1.0410      0.035    -29.866      0.000      -1.109      -0.973\n",
      "x2             0.5598      0.034     16.311      0.000       0.493       0.627\n",
      "x3             0.3062      0.034      9.016      0.000       0.240       0.373\n",
      "x4             0.5891      0.036     16.204      0.000       0.518       0.660\n",
      "x5             0.7305      0.039     18.933      0.000       0.655       0.806\n",
      "x6             0.3412      0.038      9.035      0.000       0.267       0.415\n",
      "x7             0.3680      0.034     10.740      0.000       0.301       0.435\n",
      "x8             0.4460      0.035     12.845      0.000       0.378       0.514\n",
      "x9            -0.4699      0.034    -13.637      0.000      -0.537      -0.402\n",
      "x10            0.4891      0.034     14.354      0.000       0.422       0.556\n",
      "x11           -0.9003      0.036    -24.724      0.000      -0.972      -0.829\n",
      "x12            1.9519      0.034     56.941      0.000       1.885       2.019\n",
      "x13           -0.5235      0.035    -14.987      0.000      -0.592      -0.455\n",
      "x14           -0.3342      0.039     -8.493      0.000      -0.411      -0.257\n",
      "==============================================================================\n",
      "Omnibus:                    17673.735   Durbin-Watson:                   1.996\n",
      "Prob(Omnibus):                  0.000   Jarque-Bera (JB):           140940.397\n",
      "Skew:                          -2.022   Prob(JB):                         0.00\n",
      "Kurtosis:                      11.415   Cond. No.                         1.92\n",
      "==============================================================================\n",
      "\n",
      "Notes:\n",
      "[1] Standard Errors assume that the covariance matrix of the errors is correctly specified.\n"
     ]
    }
   ],
   "source": [
    "X2 = sm.add_constant(X_train_s)\n",
    "est = sm.OLS(y_train, X2)\n",
    "est2 = est.fit()\n",
    "print(est2.summary())"
   ]
  },
  {
   "cell_type": "code",
   "execution_count": null,
   "metadata": {},
   "outputs": [],
   "source": []
  },
  {
   "cell_type": "markdown",
   "metadata": {
    "heading_collapsed": true
   },
   "source": [
    "# Pipeline"
   ]
  },
  {
   "cell_type": "code",
   "execution_count": null,
   "metadata": {
    "hidden": true
   },
   "outputs": [],
   "source": [
    "def make_pipeline()\n",
    "    \n",
    "    \n",
    "    \n",
    "    processing = ColumnTransformer()"
   ]
  }
 ],
 "metadata": {
  "kernelspec": {
   "display_name": "Python 3",
   "language": "python",
   "name": "python3"
  },
  "language_info": {
   "codemirror_mode": {
    "name": "ipython",
    "version": 3
   },
   "file_extension": ".py",
   "mimetype": "text/x-python",
   "name": "python",
   "nbconvert_exporter": "python",
   "pygments_lexer": "ipython3",
   "version": "3.7.7"
  },
  "toc": {
   "base_numbering": 1,
   "nav_menu": {},
   "number_sections": true,
   "sideBar": true,
   "skip_h1_title": false,
   "title_cell": "Table of Contents",
   "title_sidebar": "Contents",
   "toc_cell": false,
   "toc_position": {
    "height": "calc(100% - 180px)",
    "left": "10px",
    "top": "150px",
    "width": "349.091px"
   },
   "toc_section_display": true,
   "toc_window_display": true
  }
 },
 "nbformat": 4,
 "nbformat_minor": 4
}
