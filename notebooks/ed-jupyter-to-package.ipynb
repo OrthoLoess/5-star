{
 "cells": [
  {
   "cell_type": "code",
   "execution_count": 1,
   "metadata": {},
   "outputs": [],
   "source": [
    "%load_ext autoreload\n",
    "%autoreload 2"
   ]
  },
  {
   "cell_type": "code",
   "execution_count": null,
   "metadata": {},
   "outputs": [],
   "source": [
    "import fivestar\n",
    "from fivestar.data import get_data\n",
    "from fivestar.encoders import AmenitiesEncoder, AmenitiesCounter, CancellationEncoder, RoomTypeEncoder, PriceRatioEncoder\n",
    "from fivestar.encoders import AccomodatesToRoomsRatioEncoder, HostResponseRateEncoder, CategoricalColumnEncoder\n",
    "from fivestar.encoders import ScoreDeltaEncoder\n",
    "from fivestar.lib import FiveStar\n",
    "\n",
    "import pandas as pd\n",
    "import numpy as np"
   ]
  },
  {
   "cell_type": "markdown",
   "metadata": {
    "heading_collapsed": true
   },
   "source": [
    "# junk"
   ]
  },
  {
   "cell_type": "code",
   "execution_count": null,
   "metadata": {
    "hidden": true
   },
   "outputs": [],
   "source": [
    "listings = get_data()\n",
    "amen = AmenitiesEncoder()\n",
    "amen.transform(listings)"
   ]
  },
  {
   "cell_type": "code",
   "execution_count": null,
   "metadata": {
    "hidden": true
   },
   "outputs": [],
   "source": [
    "listings[['id','amenities']].head()\n"
   ]
  },
  {
   "cell_type": "code",
   "execution_count": null,
   "metadata": {
    "hidden": true
   },
   "outputs": [],
   "source": [
    "amcount = ScoreDeltaEncoder()\n",
    "amcount.transform(listings)"
   ]
  },
  {
   "cell_type": "code",
   "execution_count": null,
   "metadata": {
    "hidden": true
   },
   "outputs": [],
   "source": []
  },
  {
   "cell_type": "code",
   "execution_count": null,
   "metadata": {
    "hidden": true
   },
   "outputs": [],
   "source": []
  },
  {
   "cell_type": "code",
   "execution_count": null,
   "metadata": {
    "code_folding": [],
    "hidden": true
   },
   "outputs": [],
   "source": [
    "def get_df_cluster_listings(borough, property_type, num_bedrooms, price):\n",
    "    \"\"\"\n",
    "    Returns df of listings filters into cluster as defined by input params.\n",
    "    Columns tbc\n",
    "    \"\"\"\n",
    "    pass\n",
    "\n",
    "def cluster_avg_review_score(cluster_df):\n",
    "    \"\"\"Already in df\"\"\"\n",
    "    pass\n",
    "\n",
    "def listing_rank_in_cluster(listing_id, cluster_df):\n",
    "    pass"
   ]
  },
  {
   "cell_type": "code",
   "execution_count": null,
   "metadata": {
    "hidden": true
   },
   "outputs": [],
   "source": [
    "from fivestar.trainer import Trainer"
   ]
  },
  {
   "cell_type": "code",
   "execution_count": null,
   "metadata": {
    "hidden": true
   },
   "outputs": [],
   "source": [
    "X = listings\n",
    "y = listings['review_scores_rating']"
   ]
  },
  {
   "cell_type": "code",
   "execution_count": null,
   "metadata": {
    "hidden": true
   },
   "outputs": [],
   "source": [
    "trainer = Trainer(X,y, split=True)"
   ]
  },
  {
   "cell_type": "code",
   "execution_count": null,
   "metadata": {
    "hidden": true
   },
   "outputs": [],
   "source": [
    "trainer.train()"
   ]
  },
  {
   "cell_type": "code",
   "execution_count": null,
   "metadata": {
    "hidden": true
   },
   "outputs": [],
   "source": [
    "trainer.evaluate()"
   ]
  },
  {
   "cell_type": "code",
   "execution_count": null,
   "metadata": {
    "hidden": true
   },
   "outputs": [],
   "source": [
    "listing_id = 13913"
   ]
  },
  {
   "cell_type": "code",
   "execution_count": null,
   "metadata": {
    "hidden": true
   },
   "outputs": [],
   "source": [
    "fs = FiveStar()"
   ]
  },
  {
   "cell_type": "code",
   "execution_count": null,
   "metadata": {
    "hidden": true
   },
   "outputs": [],
   "source": [
    "from fivestar.trainer import Trainer"
   ]
  },
  {
   "cell_type": "code",
   "execution_count": null,
   "metadata": {
    "hidden": true
   },
   "outputs": [],
   "source": [
    "data = get_data()\n",
    "X = data\n",
    "y = data['review_scores_rating']\n",
    "\n",
    "ts = Trainer(X, y)\n",
    "\n",
    "ts.train()"
   ]
  },
  {
   "cell_type": "code",
   "execution_count": null,
   "metadata": {
    "hidden": true
   },
   "outputs": [],
   "source": [
    "ts.evaluate()"
   ]
  },
  {
   "cell_type": "code",
   "execution_count": null,
   "metadata": {
    "hidden": true
   },
   "outputs": [],
   "source": [
    "\tcolumn\tcoef\n",
    "0\tinstant_bookable\t-1.046988\n",
    "9\taccommodates_to_rooms_ratio\t-0.900798\n",
    "11\tcancellation_policy_strict\t-0.528780\n",
    "7\thost_listings_count\t-0.478411\n",
    "12\troom_type_Entire\t-0.320066\n",
    "4\tFreeparkingonpremises\t0.347073\n",
    "5\tWifi\t0.375161\n",
    "6\tBreakfast\t0.457774\n",
    "8\thost_response_rate\t0.495992\n",
    "1\thost_identity_verified\t0.564064\n",
    "2\tprice_ratio\t0.592768\n",
    "3\tamenities_count\t0.720258\n",
    "10\tcleanliness_delta\t1.949704"
   ]
  },
  {
   "cell_type": "code",
   "execution_count": null,
   "metadata": {
    "hidden": true
   },
   "outputs": [],
   "source": [
    "columns = ['parking', 'wifi', 'breakfast', 'amenity_count', 'instant_bookable', 'host_identity_verified',\n",
    "                            'price_ratio', 'listing_count', 'cancellation',\n",
    "                            'response_rate', 'room_ratio', 'cleanliness_delta',\n",
    "                            'room_type']"
   ]
  },
  {
   "cell_type": "code",
   "execution_count": null,
   "metadata": {
    "hidden": true
   },
   "outputs": [],
   "source": [
    "coefs = ts.pipeline.named_steps['rgs'].coef_\n",
    "coefs"
   ]
  },
  {
   "cell_type": "code",
   "execution_count": null,
   "metadata": {
    "hidden": true
   },
   "outputs": [],
   "source": [
    "coefs_df = pd.DataFrame(coefs, columns).reset_index()\n",
    "coefs_df.columns = ['column', 'coef']"
   ]
  },
  {
   "cell_type": "code",
   "execution_count": null,
   "metadata": {
    "hidden": true
   },
   "outputs": [],
   "source": [
    "coefs_df.sort_values('coef', ascending=False)"
   ]
  },
  {
   "cell_type": "code",
   "execution_count": null,
   "metadata": {
    "hidden": true
   },
   "outputs": [],
   "source": [
    "coefs_dict = {k:v for k,v in zip(columns,coefs)}"
   ]
  },
  {
   "cell_type": "code",
   "execution_count": null,
   "metadata": {
    "hidden": true
   },
   "outputs": [],
   "source": [
    "ts.pipeline.predict(listings.loc[5:5])"
   ]
  },
  {
   "cell_type": "code",
   "execution_count": null,
   "metadata": {
    "hidden": true
   },
   "outputs": [],
   "source": [
    "fs = FiveStar()"
   ]
  },
  {
   "cell_type": "code",
   "execution_count": null,
   "metadata": {
    "hidden": true
   },
   "outputs": [],
   "source": [
    "fs.get_cluster_id(53242)"
   ]
  },
  {
   "cell_type": "code",
   "execution_count": null,
   "metadata": {
    "hidden": true
   },
   "outputs": [],
   "source": [
    "fs.get_cluster_averages('L:Lambeth_P:cheap_S:room')"
   ]
  },
  {
   "cell_type": "code",
   "execution_count": null,
   "metadata": {
    "hidden": true
   },
   "outputs": [],
   "source": [
    "clusters = fs.clusters.set_index('Unnamed: 0')"
   ]
  },
  {
   "cell_type": "code",
   "execution_count": null,
   "metadata": {
    "hidden": true
   },
   "outputs": [],
   "source": [
    "fs.listings.set_index('id')[['price','instant_bookable','cancellation_policy']]\n"
   ]
  },
  {
   "cell_type": "code",
   "execution_count": null,
   "metadata": {
    "hidden": true,
    "scrolled": false
   },
   "outputs": [],
   "source": [
    "clusters = fs.clusters.set_index('listing_id').join(\n",
    "    fs.listings.set_index('id')[['price','review_scores_cleanliness','amenities','instant_bookable','cancellation_policy']])\n"
   ]
  },
  {
   "cell_type": "code",
   "execution_count": null,
   "metadata": {
    "hidden": true
   },
   "outputs": [],
   "source": [
    "from fivestar.utils import str_to_price, has_wifi, has_breakfast, cancel_policy_is_strict, is_instant_bookable\n",
    "\n",
    "clusters['price'] = clusters['price'].map(str_to_price)\n",
    "clusters['Wifi'] = clusters['amenities'].map(has_wifi)\n",
    "clusters['Breakfast'] = clusters['amenities'].map(has_breakfast)\n",
    "clusters['instant_bookable'] = clusters['instant_bookable'].map(is_instant_bookable)\n",
    "clusters['cancellation_policy'] = clusters['cancellation_policy'].map(cancel_policy_is_strict)"
   ]
  },
  {
   "cell_type": "code",
   "execution_count": null,
   "metadata": {
    "hidden": true
   },
   "outputs": [],
   "source": [
    "avgs_per_cluster = clusters.groupby('cluster')[['price','review_scores_cleanliness']].mean()\n",
    "cluster_groups = clusters.groupby('cluster')[['Wifi','Breakfast','instant_bookable','cancellation_policy']]\n",
    "rates_per_cluster = np.round(100 * cluster_groups.sum() / cluster_groups.count())"
   ]
  },
  {
   "cell_type": "code",
   "execution_count": null,
   "metadata": {
    "hidden": true
   },
   "outputs": [],
   "source": [
    "avgs_per_cluster.join(rates_per_cluster)"
   ]
  },
  {
   "cell_type": "markdown",
   "metadata": {},
   "source": [
    "# new"
   ]
  },
  {
   "cell_type": "code",
   "execution_count": 9,
   "metadata": {},
   "outputs": [],
   "source": [
    "from fivestar.data import get_data\n",
    "from fivestar.utils import str_to_price\n",
    "import pandas as pd\n",
    "import numpy as np"
   ]
  },
  {
   "cell_type": "code",
   "execution_count": 10,
   "metadata": {},
   "outputs": [],
   "source": [
    "listings = get_data()\n",
    "listings['price'] = listings['price'].map(str_to_price)"
   ]
  },
  {
   "cell_type": "code",
   "execution_count": 11,
   "metadata": {},
   "outputs": [
    {
     "data": {
      "text/plain": [
       "111.47375160051216"
      ]
     },
     "execution_count": 11,
     "metadata": {},
     "output_type": "execute_result"
    }
   ],
   "source": [
    "listings[listings['review_scores_rating'] == 4.5*20]['price'].mean()"
   ]
  },
  {
   "cell_type": "code",
   "execution_count": 14,
   "metadata": {},
   "outputs": [
    {
     "data": {
      "text/plain": [
       "105.61810865191147"
      ]
     },
     "execution_count": 14,
     "metadata": {},
     "output_type": "execute_result"
    }
   ],
   "source": [
    "listings[listings['review_scores_rating'] == 4.7*20]['price'].mean()"
   ]
  },
  {
   "cell_type": "code",
   "execution_count": null,
   "metadata": {},
   "outputs": [],
   "source": []
  }
 ],
 "metadata": {
  "kernelspec": {
   "display_name": "Python 3",
   "language": "python",
   "name": "python3"
  },
  "language_info": {
   "codemirror_mode": {
    "name": "ipython",
    "version": 3
   },
   "file_extension": ".py",
   "mimetype": "text/x-python",
   "name": "python",
   "nbconvert_exporter": "python",
   "pygments_lexer": "ipython3",
   "version": "3.7.7"
  },
  "toc": {
   "base_numbering": 1,
   "nav_menu": {},
   "number_sections": true,
   "sideBar": true,
   "skip_h1_title": false,
   "title_cell": "Table of Contents",
   "title_sidebar": "Contents",
   "toc_cell": false,
   "toc_position": {},
   "toc_section_display": true,
   "toc_window_display": false
  }
 },
 "nbformat": 4,
 "nbformat_minor": 4
}
