{
 "cells": [
  {
   "cell_type": "code",
   "execution_count": 3,
   "metadata": {},
   "outputs": [],
   "source": [
    "from langdetect import detect\n",
    "import pandas as pd"
   ]
  },
  {
   "cell_type": "code",
   "execution_count": 4,
   "metadata": {},
   "outputs": [
    {
     "data": {
      "text/plain": [
       "'en'"
      ]
     },
     "execution_count": 4,
     "metadata": {},
     "output_type": "execute_result"
    }
   ],
   "source": [
    "detect(\"hello, is it me you're looking for!\")"
   ]
  },
  {
   "cell_type": "code",
   "execution_count": 41,
   "metadata": {},
   "outputs": [],
   "source": [
    "data = pd.read_csv('../data/jan/reviews.csv', nrows=None)"
   ]
  },
  {
   "cell_type": "code",
   "execution_count": 37,
   "metadata": {},
   "outputs": [
    {
     "data": {
      "text/html": [
       "<div>\n",
       "<style scoped>\n",
       "    .dataframe tbody tr th:only-of-type {\n",
       "        vertical-align: middle;\n",
       "    }\n",
       "\n",
       "    .dataframe tbody tr th {\n",
       "        vertical-align: top;\n",
       "    }\n",
       "\n",
       "    .dataframe thead th {\n",
       "        text-align: right;\n",
       "    }\n",
       "</style>\n",
       "<table border=\"1\" class=\"dataframe\">\n",
       "  <thead>\n",
       "    <tr style=\"text-align: right;\">\n",
       "      <th></th>\n",
       "      <th>listing_id</th>\n",
       "      <th>id</th>\n",
       "      <th>date</th>\n",
       "      <th>reviewer_id</th>\n",
       "      <th>reviewer_name</th>\n",
       "      <th>comments</th>\n",
       "    </tr>\n",
       "  </thead>\n",
       "  <tbody>\n",
       "    <tr>\n",
       "      <th>0</th>\n",
       "      <td>11551</td>\n",
       "      <td>30672</td>\n",
       "      <td>2010-03-21</td>\n",
       "      <td>93896</td>\n",
       "      <td>Shar-Lyn</td>\n",
       "      <td>The flat was bright, comfortable and clean and...</td>\n",
       "    </tr>\n",
       "    <tr>\n",
       "      <th>1</th>\n",
       "      <td>11551</td>\n",
       "      <td>32236</td>\n",
       "      <td>2010-03-29</td>\n",
       "      <td>97890</td>\n",
       "      <td>Zane</td>\n",
       "      <td>We stayed with Adriano and Valerio for a week ...</td>\n",
       "    </tr>\n",
       "    <tr>\n",
       "      <th>2</th>\n",
       "      <td>11551</td>\n",
       "      <td>41044</td>\n",
       "      <td>2010-05-09</td>\n",
       "      <td>104133</td>\n",
       "      <td>Chase</td>\n",
       "      <td>Adriano was a fantastic host. We felt very at ...</td>\n",
       "    </tr>\n",
       "    <tr>\n",
       "      <th>3</th>\n",
       "      <td>11551</td>\n",
       "      <td>48926</td>\n",
       "      <td>2010-06-01</td>\n",
       "      <td>122714</td>\n",
       "      <td>John &amp; Sylvia</td>\n",
       "      <td>We had a most wonderful stay with Adriano and ...</td>\n",
       "    </tr>\n",
       "    <tr>\n",
       "      <th>4</th>\n",
       "      <td>11551</td>\n",
       "      <td>58352</td>\n",
       "      <td>2010-06-28</td>\n",
       "      <td>111543</td>\n",
       "      <td>Monique</td>\n",
       "      <td>I'm not sure which of us misunderstood the s...</td>\n",
       "    </tr>\n",
       "    <tr>\n",
       "      <th>...</th>\n",
       "      <td>...</td>\n",
       "      <td>...</td>\n",
       "      <td>...</td>\n",
       "      <td>...</td>\n",
       "      <td>...</td>\n",
       "      <td>...</td>\n",
       "    </tr>\n",
       "    <tr>\n",
       "      <th>1549786</th>\n",
       "      <td>41379948</td>\n",
       "      <td>590480348</td>\n",
       "      <td>2020-01-08</td>\n",
       "      <td>173222569</td>\n",
       "      <td>Badia</td>\n",
       "      <td>The host canceled this reservation 3 days befo...</td>\n",
       "    </tr>\n",
       "    <tr>\n",
       "      <th>1549787</th>\n",
       "      <td>41391134</td>\n",
       "      <td>590456712</td>\n",
       "      <td>2020-01-08</td>\n",
       "      <td>128782912</td>\n",
       "      <td>Kathleen</td>\n",
       "      <td>The host canceled this reservation 64 days bef...</td>\n",
       "    </tr>\n",
       "    <tr>\n",
       "      <th>1549788</th>\n",
       "      <td>41394412</td>\n",
       "      <td>591054200</td>\n",
       "      <td>2020-01-10</td>\n",
       "      <td>216446754</td>\n",
       "      <td>Teresa</td>\n",
       "      <td>You cannot wait for more than Shelley's place ...</td>\n",
       "    </tr>\n",
       "    <tr>\n",
       "      <th>1549789</th>\n",
       "      <td>41405317</td>\n",
       "      <td>590696594</td>\n",
       "      <td>2020-01-09</td>\n",
       "      <td>279985990</td>\n",
       "      <td>Lyndsey</td>\n",
       "      <td>The host canceled this reservation 9 days befo...</td>\n",
       "    </tr>\n",
       "    <tr>\n",
       "      <th>1549790</th>\n",
       "      <td>41405736</td>\n",
       "      <td>590776706</td>\n",
       "      <td>2020-01-09</td>\n",
       "      <td>201856082</td>\n",
       "      <td>Rachel</td>\n",
       "      <td>The host canceled this reservation 24 days bef...</td>\n",
       "    </tr>\n",
       "  </tbody>\n",
       "</table>\n",
       "<p>1549791 rows × 6 columns</p>\n",
       "</div>"
      ],
      "text/plain": [
       "         listing_id         id        date  reviewer_id  reviewer_name  \\\n",
       "0             11551      30672  2010-03-21        93896       Shar-Lyn   \n",
       "1             11551      32236  2010-03-29        97890           Zane   \n",
       "2             11551      41044  2010-05-09       104133          Chase   \n",
       "3             11551      48926  2010-06-01       122714  John & Sylvia   \n",
       "4             11551      58352  2010-06-28       111543        Monique   \n",
       "...             ...        ...         ...          ...            ...   \n",
       "1549786    41379948  590480348  2020-01-08    173222569          Badia   \n",
       "1549787    41391134  590456712  2020-01-08    128782912       Kathleen   \n",
       "1549788    41394412  591054200  2020-01-10    216446754         Teresa   \n",
       "1549789    41405317  590696594  2020-01-09    279985990        Lyndsey   \n",
       "1549790    41405736  590776706  2020-01-09    201856082         Rachel   \n",
       "\n",
       "                                                  comments  \n",
       "0        The flat was bright, comfortable and clean and...  \n",
       "1        We stayed with Adriano and Valerio for a week ...  \n",
       "2        Adriano was a fantastic host. We felt very at ...  \n",
       "3        We had a most wonderful stay with Adriano and ...  \n",
       "4          I'm not sure which of us misunderstood the s...  \n",
       "...                                                    ...  \n",
       "1549786  The host canceled this reservation 3 days befo...  \n",
       "1549787  The host canceled this reservation 64 days bef...  \n",
       "1549788  You cannot wait for more than Shelley's place ...  \n",
       "1549789  The host canceled this reservation 9 days befo...  \n",
       "1549790  The host canceled this reservation 24 days bef...  \n",
       "\n",
       "[1549791 rows x 6 columns]"
      ]
     },
     "execution_count": 37,
     "metadata": {},
     "output_type": "execute_result"
    }
   ],
   "source": [
    "data"
   ]
  },
  {
   "cell_type": "code",
   "execution_count": 42,
   "metadata": {},
   "outputs": [],
   "source": [
    "def comment_lang_is_en(comment):\n",
    "    if type(comment) == str and len(comment) > 1:\n",
    "        try:\n",
    "            lang = detect(comment)\n",
    "            if lang == 'en':\n",
    "                return 1\n",
    "        except:\n",
    "            return 0\n",
    "    return 0"
   ]
  },
  {
   "cell_type": "code",
   "execution_count": 43,
   "metadata": {},
   "outputs": [
    {
     "name": "stdout",
     "output_type": "stream",
     "text": [
      "CPU times: user 1h 18min 41s, sys: 19.7 s, total: 1h 19min\n",
      "Wall time: 1h 19min 3s\n"
     ]
    }
   ],
   "source": [
    "%%time\n",
    "data['lang_en'] = data['comments'].map(comment_lang_is_en)"
   ]
  },
  {
   "cell_type": "code",
   "execution_count": 44,
   "metadata": {
    "scrolled": true
   },
   "outputs": [
    {
     "data": {
      "text/plain": [
       "listing_id       1333125\n",
       "id               1333125\n",
       "date             1333125\n",
       "reviewer_id      1333125\n",
       "reviewer_name    1333125\n",
       "comments         1333125\n",
       "lang_en          1333125\n",
       "dtype: int64"
      ]
     },
     "execution_count": 44,
     "metadata": {},
     "output_type": "execute_result"
    }
   ],
   "source": [
    "data[data['lang_en']==1].count()"
   ]
  },
  {
   "cell_type": "code",
   "execution_count": 45,
   "metadata": {},
   "outputs": [],
   "source": [
    "data_en = data[data['lang_en']==1].copy()"
   ]
  },
  {
   "cell_type": "code",
   "execution_count": 15,
   "metadata": {},
   "outputs": [
    {
     "data": {
      "text/plain": [
       "'\\r\\nIt was a very nice weekend in London.\\r\\nAdriano ist ein sehr guter Gastgeber und wir haben uns  wohl gefühlt.\\r\\nDie U Bahnstation ist ganz in der Nähe und das Stadtzentrum gut zu erreichen. In Brixton pulsiert das Leben. Wir wurden The Bright Londoner Wohnung wieder wählen.\\r\\nMargot und Ursel'"
      ]
     },
     "execution_count": 15,
     "metadata": {},
     "output_type": "execute_result"
    }
   ],
   "source": [
    "data.loc[39].comments"
   ]
  },
  {
   "cell_type": "code",
   "execution_count": 46,
   "metadata": {},
   "outputs": [
    {
     "data": {
      "text/plain": [
       "listing_id       1333125\n",
       "id               1333125\n",
       "date             1333125\n",
       "reviewer_id      1333125\n",
       "reviewer_name    1333125\n",
       "comments         1333125\n",
       "lang_en          1333125\n",
       "dtype: int64"
      ]
     },
     "execution_count": 46,
     "metadata": {},
     "output_type": "execute_result"
    }
   ],
   "source": [
    "data_en.count()"
   ]
  },
  {
   "cell_type": "code",
   "execution_count": 70,
   "metadata": {},
   "outputs": [
    {
     "data": {
      "text/plain": [
       "264651     Great hospitality and great location. Georgia ...\n",
       "1008634    The host canceled this reservation 19 days bef...\n",
       "293480     Nice place. Works perfect! \\nJust a bit far fr...\n",
       "600172     We thoroughly enjoyed our stay.  Property was ...\n",
       "788526     Ashraf was an amazing host. He made sure we fe...\n",
       "99775      Large apartment with comfortable sofa and balc...\n",
       "307994     Sam place was well centered. He is very friend...\n",
       "1110486    It is in a great location! Really nice pubs ve...\n",
       "1300429    I chose this as the most interesting looking A...\n",
       "1452838    All good, convenient location for me, nice ins...\n",
       "126660     Natalia's flat is perfectly located. The flat ...\n",
       "1156941    Perfect host, perfect location, perfect room, ...\n",
       "1231439    Lovely house in great location for events at F...\n",
       "109120     Great location for Tower Bridge, very clean an...\n",
       "1497219    One of the best stays I’ve had in London. What...\n",
       "Name: comments, dtype: object"
      ]
     },
     "execution_count": 70,
     "metadata": {},
     "output_type": "execute_result"
    }
   ],
   "source": [
    "data_en['comments'].sample(15)"
   ]
  },
  {
   "cell_type": "code",
   "execution_count": 52,
   "metadata": {},
   "outputs": [],
   "source": [
    "data_en.drop(columns=['lang_en']).to_csv('../data/jan/reviews_en.csv')"
   ]
  },
  {
   "cell_type": "code",
   "execution_count": 50,
   "metadata": {},
   "outputs": [
    {
     "data": {
      "text/plain": [
       "'en'"
      ]
     },
     "execution_count": 50,
     "metadata": {},
     "output_type": "execute_result"
    }
   ],
   "source": [
    "detect(data.loc[1086350,'comments'])"
   ]
  },
  {
   "cell_type": "code",
   "execution_count": 51,
   "metadata": {},
   "outputs": [
    {
     "data": {
      "text/plain": [
       "'Kann man uneingeschränkt weiterempfehlen, die Lage ist echt super! \\n\\nI can recommend this room to everyone with low budget, who wants to stay near Brick lane. Very clean.'"
      ]
     },
     "execution_count": 51,
     "metadata": {},
     "output_type": "execute_result"
    }
   ],
   "source": [
    "data.loc[1086350,'comments']"
   ]
  },
  {
   "cell_type": "code",
   "execution_count": 71,
   "metadata": {},
   "outputs": [
    {
     "data": {
      "text/plain": [
       "0.8601966329653482"
      ]
     },
     "execution_count": 71,
     "metadata": {},
     "output_type": "execute_result"
    }
   ],
   "source": [
    "1333125/1549791"
   ]
  },
  {
   "cell_type": "code",
   "execution_count": null,
   "metadata": {},
   "outputs": [],
   "source": []
  }
 ],
 "metadata": {
  "kernelspec": {
   "display_name": "Python 3",
   "language": "python",
   "name": "python3"
  },
  "language_info": {
   "codemirror_mode": {
    "name": "ipython",
    "version": 3
   },
   "file_extension": ".py",
   "mimetype": "text/x-python",
   "name": "python",
   "nbconvert_exporter": "python",
   "pygments_lexer": "ipython3",
   "version": "3.7.7"
  },
  "toc": {
   "base_numbering": 1,
   "nav_menu": {},
   "number_sections": true,
   "sideBar": true,
   "skip_h1_title": false,
   "title_cell": "Table of Contents",
   "title_sidebar": "Contents",
   "toc_cell": false,
   "toc_position": {},
   "toc_section_display": true,
   "toc_window_display": false
  }
 },
 "nbformat": 4,
 "nbformat_minor": 4
}
