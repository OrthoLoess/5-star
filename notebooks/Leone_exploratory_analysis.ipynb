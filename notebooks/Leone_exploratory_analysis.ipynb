{
 "cells": [
  {
   "cell_type": "code",
   "execution_count": null,
   "metadata": {},
   "outputs": [],
   "source": []
  },
  {
   "cell_type": "code",
   "execution_count": 44,
   "metadata": {},
   "outputs": [],
   "source": [
    "import pandas as pd\n",
    "pd.set_option('display.max_columns', 500)\n",
    "import seaborn as sns\n",
    "import matplotlib.pyplot as plt"
   ]
  },
  {
   "cell_type": "code",
   "execution_count": 2,
   "metadata": {},
   "outputs": [],
   "source": [
    "revs=pd.read_csv('reviews_april.csv')"
   ]
  },
  {
   "cell_type": "code",
   "execution_count": 3,
   "metadata": {},
   "outputs": [
    {
     "data": {
      "text/plain": [
       "(1270151, 6)"
      ]
     },
     "execution_count": 3,
     "metadata": {},
     "output_type": "execute_result"
    }
   ],
   "source": [
    "revs.shape"
   ]
  },
  {
   "cell_type": "code",
   "execution_count": 4,
   "metadata": {},
   "outputs": [
    {
     "data": {
      "text/html": [
       "<div>\n",
       "<style scoped>\n",
       "    .dataframe tbody tr th:only-of-type {\n",
       "        vertical-align: middle;\n",
       "    }\n",
       "\n",
       "    .dataframe tbody tr th {\n",
       "        vertical-align: top;\n",
       "    }\n",
       "\n",
       "    .dataframe thead th {\n",
       "        text-align: right;\n",
       "    }\n",
       "</style>\n",
       "<table border=\"1\" class=\"dataframe\">\n",
       "  <thead>\n",
       "    <tr style=\"text-align: right;\">\n",
       "      <th></th>\n",
       "      <th>listing_id</th>\n",
       "      <th>id</th>\n",
       "      <th>date</th>\n",
       "      <th>reviewer_id</th>\n",
       "      <th>reviewer_name</th>\n",
       "      <th>comments</th>\n",
       "    </tr>\n",
       "  </thead>\n",
       "  <tbody>\n",
       "    <tr>\n",
       "      <th>0</th>\n",
       "      <td>13913</td>\n",
       "      <td>80770</td>\n",
       "      <td>2010-08-18</td>\n",
       "      <td>177109</td>\n",
       "      <td>Michael</td>\n",
       "      <td>My girlfriend and I hadn't known Alina before ...</td>\n",
       "    </tr>\n",
       "    <tr>\n",
       "      <th>1</th>\n",
       "      <td>13913</td>\n",
       "      <td>367568</td>\n",
       "      <td>2011-07-11</td>\n",
       "      <td>19835707</td>\n",
       "      <td>Mathias</td>\n",
       "      <td>Alina was a really good host. The flat is clea...</td>\n",
       "    </tr>\n",
       "    <tr>\n",
       "      <th>2</th>\n",
       "      <td>13913</td>\n",
       "      <td>529579</td>\n",
       "      <td>2011-09-13</td>\n",
       "      <td>1110304</td>\n",
       "      <td>Kristin</td>\n",
       "      <td>Alina is an amazing host. She made me feel rig...</td>\n",
       "    </tr>\n",
       "    <tr>\n",
       "      <th>3</th>\n",
       "      <td>13913</td>\n",
       "      <td>595481</td>\n",
       "      <td>2011-10-03</td>\n",
       "      <td>1216358</td>\n",
       "      <td>Camilla</td>\n",
       "      <td>Alina's place is so nice, the room is big and ...</td>\n",
       "    </tr>\n",
       "    <tr>\n",
       "      <th>4</th>\n",
       "      <td>13913</td>\n",
       "      <td>612947</td>\n",
       "      <td>2011-10-09</td>\n",
       "      <td>490840</td>\n",
       "      <td>Jorik</td>\n",
       "      <td>Nice location in Islington area, good for shor...</td>\n",
       "    </tr>\n",
       "  </tbody>\n",
       "</table>\n",
       "</div>"
      ],
      "text/plain": [
       "   listing_id      id        date  reviewer_id reviewer_name  \\\n",
       "0       13913   80770  2010-08-18       177109       Michael   \n",
       "1       13913  367568  2011-07-11     19835707       Mathias   \n",
       "2       13913  529579  2011-09-13      1110304       Kristin   \n",
       "3       13913  595481  2011-10-03      1216358       Camilla   \n",
       "4       13913  612947  2011-10-09       490840         Jorik   \n",
       "\n",
       "                                            comments  \n",
       "0  My girlfriend and I hadn't known Alina before ...  \n",
       "1  Alina was a really good host. The flat is clea...  \n",
       "2  Alina is an amazing host. She made me feel rig...  \n",
       "3  Alina's place is so nice, the room is big and ...  \n",
       "4  Nice location in Islington area, good for shor...  "
      ]
     },
     "execution_count": 4,
     "metadata": {},
     "output_type": "execute_result"
    }
   ],
   "source": [
    "revs.head()"
   ]
  },
  {
   "cell_type": "code",
   "execution_count": 5,
   "metadata": {},
   "outputs": [],
   "source": [
    "listn=pd.read_csv('listings_april.csv',low_memory=False)"
   ]
  },
  {
   "cell_type": "code",
   "execution_count": 6,
   "metadata": {},
   "outputs": [
    {
     "data": {
      "text/html": [
       "<div>\n",
       "<style scoped>\n",
       "    .dataframe tbody tr th:only-of-type {\n",
       "        vertical-align: middle;\n",
       "    }\n",
       "\n",
       "    .dataframe tbody tr th {\n",
       "        vertical-align: top;\n",
       "    }\n",
       "\n",
       "    .dataframe thead th {\n",
       "        text-align: right;\n",
       "    }\n",
       "</style>\n",
       "<table border=\"1\" class=\"dataframe\">\n",
       "  <thead>\n",
       "    <tr style=\"text-align: right;\">\n",
       "      <th></th>\n",
       "      <th>id</th>\n",
       "      <th>listing_url</th>\n",
       "      <th>scrape_id</th>\n",
       "      <th>last_scraped</th>\n",
       "      <th>name</th>\n",
       "      <th>summary</th>\n",
       "      <th>space</th>\n",
       "      <th>description</th>\n",
       "      <th>experiences_offered</th>\n",
       "      <th>neighborhood_overview</th>\n",
       "      <th>notes</th>\n",
       "      <th>transit</th>\n",
       "      <th>access</th>\n",
       "      <th>interaction</th>\n",
       "      <th>house_rules</th>\n",
       "      <th>thumbnail_url</th>\n",
       "      <th>medium_url</th>\n",
       "      <th>picture_url</th>\n",
       "      <th>xl_picture_url</th>\n",
       "      <th>host_id</th>\n",
       "      <th>host_url</th>\n",
       "      <th>host_name</th>\n",
       "      <th>host_since</th>\n",
       "      <th>host_location</th>\n",
       "      <th>host_about</th>\n",
       "      <th>host_response_time</th>\n",
       "      <th>host_response_rate</th>\n",
       "      <th>host_acceptance_rate</th>\n",
       "      <th>host_is_superhost</th>\n",
       "      <th>host_thumbnail_url</th>\n",
       "      <th>host_picture_url</th>\n",
       "      <th>host_neighbourhood</th>\n",
       "      <th>host_listings_count</th>\n",
       "      <th>host_total_listings_count</th>\n",
       "      <th>host_verifications</th>\n",
       "      <th>host_has_profile_pic</th>\n",
       "      <th>host_identity_verified</th>\n",
       "      <th>street</th>\n",
       "      <th>neighbourhood</th>\n",
       "      <th>neighbourhood_cleansed</th>\n",
       "      <th>neighbourhood_group_cleansed</th>\n",
       "      <th>city</th>\n",
       "      <th>state</th>\n",
       "      <th>zipcode</th>\n",
       "      <th>market</th>\n",
       "      <th>smart_location</th>\n",
       "      <th>country_code</th>\n",
       "      <th>country</th>\n",
       "      <th>latitude</th>\n",
       "      <th>longitude</th>\n",
       "      <th>is_location_exact</th>\n",
       "      <th>property_type</th>\n",
       "      <th>room_type</th>\n",
       "      <th>accommodates</th>\n",
       "      <th>bathrooms</th>\n",
       "      <th>bedrooms</th>\n",
       "      <th>beds</th>\n",
       "      <th>bed_type</th>\n",
       "      <th>amenities</th>\n",
       "      <th>square_feet</th>\n",
       "      <th>price</th>\n",
       "      <th>weekly_price</th>\n",
       "      <th>monthly_price</th>\n",
       "      <th>security_deposit</th>\n",
       "      <th>cleaning_fee</th>\n",
       "      <th>guests_included</th>\n",
       "      <th>extra_people</th>\n",
       "      <th>minimum_nights</th>\n",
       "      <th>maximum_nights</th>\n",
       "      <th>minimum_minimum_nights</th>\n",
       "      <th>maximum_minimum_nights</th>\n",
       "      <th>minimum_maximum_nights</th>\n",
       "      <th>maximum_maximum_nights</th>\n",
       "      <th>minimum_nights_avg_ntm</th>\n",
       "      <th>maximum_nights_avg_ntm</th>\n",
       "      <th>calendar_updated</th>\n",
       "      <th>has_availability</th>\n",
       "      <th>availability_30</th>\n",
       "      <th>availability_60</th>\n",
       "      <th>availability_90</th>\n",
       "      <th>availability_365</th>\n",
       "      <th>calendar_last_scraped</th>\n",
       "      <th>number_of_reviews</th>\n",
       "      <th>number_of_reviews_ltm</th>\n",
       "      <th>first_review</th>\n",
       "      <th>last_review</th>\n",
       "      <th>review_scores_rating</th>\n",
       "      <th>review_scores_accuracy</th>\n",
       "      <th>review_scores_cleanliness</th>\n",
       "      <th>review_scores_checkin</th>\n",
       "      <th>review_scores_communication</th>\n",
       "      <th>review_scores_location</th>\n",
       "      <th>review_scores_value</th>\n",
       "      <th>requires_license</th>\n",
       "      <th>license</th>\n",
       "      <th>jurisdiction_names</th>\n",
       "      <th>instant_bookable</th>\n",
       "      <th>is_business_travel_ready</th>\n",
       "      <th>cancellation_policy</th>\n",
       "      <th>require_guest_profile_picture</th>\n",
       "      <th>require_guest_phone_verification</th>\n",
       "      <th>calculated_host_listings_count</th>\n",
       "      <th>calculated_host_listings_count_entire_homes</th>\n",
       "      <th>calculated_host_listings_count_private_rooms</th>\n",
       "      <th>calculated_host_listings_count_shared_rooms</th>\n",
       "      <th>reviews_per_month</th>\n",
       "    </tr>\n",
       "  </thead>\n",
       "  <tbody>\n",
       "    <tr>\n",
       "      <th>0</th>\n",
       "      <td>13913</td>\n",
       "      <td>https://www.airbnb.com/rooms/13913</td>\n",
       "      <td>20190409040957</td>\n",
       "      <td>2019-04-11</td>\n",
       "      <td>Holiday London DB Room Let-on going</td>\n",
       "      <td>My bright double bedroom with a large window h...</td>\n",
       "      <td>Hello Everyone, I'm offering my lovely double ...</td>\n",
       "      <td>My bright double bedroom with a large window h...</td>\n",
       "      <td>business</td>\n",
       "      <td>Finsbury Park is a friendly melting pot commun...</td>\n",
       "      <td>For art lovers I can give guest my Tate Member...</td>\n",
       "      <td>The flat only a 10 minute walk to Finsbury Par...</td>\n",
       "      <td>Guest will have access to the self catering ki...</td>\n",
       "      <td>I like to have little chats with my guest over...</td>\n",
       "      <td>I'm an artist and have my artwork up on the wa...</td>\n",
       "      <td>NaN</td>\n",
       "      <td>NaN</td>\n",
       "      <td>https://a0.muscache.com/im/pictures/985879/b06...</td>\n",
       "      <td>NaN</td>\n",
       "      <td>54730</td>\n",
       "      <td>https://www.airbnb.com/users/show/54730</td>\n",
       "      <td>Alina</td>\n",
       "      <td>2009-11-16</td>\n",
       "      <td>London, England, United Kingdom</td>\n",
       "      <td>I am a Multi-Media Visual Artist and Creative ...</td>\n",
       "      <td>within a day</td>\n",
       "      <td>60%</td>\n",
       "      <td>NaN</td>\n",
       "      <td>f</td>\n",
       "      <td>https://a0.muscache.com/im/users/54730/profile...</td>\n",
       "      <td>https://a0.muscache.com/im/users/54730/profile...</td>\n",
       "      <td>LB of Islington</td>\n",
       "      <td>4.0</td>\n",
       "      <td>4.0</td>\n",
       "      <td>['email', 'phone', 'facebook', 'reviews']</td>\n",
       "      <td>t</td>\n",
       "      <td>f</td>\n",
       "      <td>Islington, Greater London, United Kingdom</td>\n",
       "      <td>LB of Islington</td>\n",
       "      <td>Islington</td>\n",
       "      <td>NaN</td>\n",
       "      <td>Islington</td>\n",
       "      <td>Greater London</td>\n",
       "      <td>N4 3</td>\n",
       "      <td>London</td>\n",
       "      <td>Islington, United Kingdom</td>\n",
       "      <td>GB</td>\n",
       "      <td>United Kingdom</td>\n",
       "      <td>51.56802</td>\n",
       "      <td>-0.11121</td>\n",
       "      <td>t</td>\n",
       "      <td>Apartment</td>\n",
       "      <td>Private room</td>\n",
       "      <td>2</td>\n",
       "      <td>1.0</td>\n",
       "      <td>1.0</td>\n",
       "      <td>0.0</td>\n",
       "      <td>Real Bed</td>\n",
       "      <td>{TV,\"Cable TV\",Wifi,Kitchen,\"Paid parking off ...</td>\n",
       "      <td>538.0</td>\n",
       "      <td>$65.00</td>\n",
       "      <td>$333.00</td>\n",
       "      <td>$1,176.00</td>\n",
       "      <td>$100.00</td>\n",
       "      <td>$15.00</td>\n",
       "      <td>1</td>\n",
       "      <td>$15.00</td>\n",
       "      <td>1</td>\n",
       "      <td>29</td>\n",
       "      <td>1</td>\n",
       "      <td>1</td>\n",
       "      <td>29</td>\n",
       "      <td>29</td>\n",
       "      <td>1.0</td>\n",
       "      <td>29.0</td>\n",
       "      <td>4 months ago</td>\n",
       "      <td>t</td>\n",
       "      <td>10</td>\n",
       "      <td>39</td>\n",
       "      <td>68</td>\n",
       "      <td>343</td>\n",
       "      <td>2019-04-11</td>\n",
       "      <td>14</td>\n",
       "      <td>3</td>\n",
       "      <td>2010-08-18</td>\n",
       "      <td>2018-06-17</td>\n",
       "      <td>95.0</td>\n",
       "      <td>9.0</td>\n",
       "      <td>10.0</td>\n",
       "      <td>9.0</td>\n",
       "      <td>10.0</td>\n",
       "      <td>9.0</td>\n",
       "      <td>9.0</td>\n",
       "      <td>f</td>\n",
       "      <td>NaN</td>\n",
       "      <td>NaN</td>\n",
       "      <td>f</td>\n",
       "      <td>f</td>\n",
       "      <td>moderate</td>\n",
       "      <td>f</td>\n",
       "      <td>f</td>\n",
       "      <td>3</td>\n",
       "      <td>1</td>\n",
       "      <td>2</td>\n",
       "      <td>0</td>\n",
       "      <td>0.13</td>\n",
       "    </tr>\n",
       "    <tr>\n",
       "      <th>1</th>\n",
       "      <td>15400</td>\n",
       "      <td>https://www.airbnb.com/rooms/15400</td>\n",
       "      <td>20190409040957</td>\n",
       "      <td>2019-04-11</td>\n",
       "      <td>Bright Chelsea  Apartment. Chelsea!</td>\n",
       "      <td>Lots of windows and light.  St Luke's Gardens ...</td>\n",
       "      <td>Bright Chelsea Apartment  This is a bright one...</td>\n",
       "      <td>Lots of windows and light.  St Luke's Gardens ...</td>\n",
       "      <td>romantic</td>\n",
       "      <td>It is Chelsea.</td>\n",
       "      <td>The building next door is in the process of be...</td>\n",
       "      <td>The underground stations are South Kensington ...</td>\n",
       "      <td>There are two wardrobes for guests exclusive u...</td>\n",
       "      <td>If I am in the country I like to welcome my gu...</td>\n",
       "      <td>NO SMOKING PLEASE.. No unauthorised guests. No...</td>\n",
       "      <td>NaN</td>\n",
       "      <td>NaN</td>\n",
       "      <td>https://a0.muscache.com/im/pictures/428392/462...</td>\n",
       "      <td>NaN</td>\n",
       "      <td>60302</td>\n",
       "      <td>https://www.airbnb.com/users/show/60302</td>\n",
       "      <td>Philippa</td>\n",
       "      <td>2009-12-05</td>\n",
       "      <td>Kensington, England, United Kingdom</td>\n",
       "      <td>English, grandmother,  I have travelled quite ...</td>\n",
       "      <td>within a few hours</td>\n",
       "      <td>100%</td>\n",
       "      <td>NaN</td>\n",
       "      <td>f</td>\n",
       "      <td>https://a0.muscache.com/im/users/60302/profile...</td>\n",
       "      <td>https://a0.muscache.com/im/users/60302/profile...</td>\n",
       "      <td>Chelsea</td>\n",
       "      <td>1.0</td>\n",
       "      <td>1.0</td>\n",
       "      <td>['email', 'phone', 'reviews', 'jumio', 'govern...</td>\n",
       "      <td>t</td>\n",
       "      <td>t</td>\n",
       "      <td>London, United Kingdom</td>\n",
       "      <td>Chelsea</td>\n",
       "      <td>Kensington and Chelsea</td>\n",
       "      <td>NaN</td>\n",
       "      <td>London</td>\n",
       "      <td>NaN</td>\n",
       "      <td>SW3</td>\n",
       "      <td>London</td>\n",
       "      <td>London, United Kingdom</td>\n",
       "      <td>GB</td>\n",
       "      <td>United Kingdom</td>\n",
       "      <td>51.48796</td>\n",
       "      <td>-0.16898</td>\n",
       "      <td>t</td>\n",
       "      <td>Apartment</td>\n",
       "      <td>Entire home/apt</td>\n",
       "      <td>2</td>\n",
       "      <td>1.0</td>\n",
       "      <td>1.0</td>\n",
       "      <td>1.0</td>\n",
       "      <td>Real Bed</td>\n",
       "      <td>{TV,\"Cable TV\",Internet,Wifi,\"Air conditioning...</td>\n",
       "      <td>NaN</td>\n",
       "      <td>$100.00</td>\n",
       "      <td>$600.00</td>\n",
       "      <td>$2,250.00</td>\n",
       "      <td>$150.00</td>\n",
       "      <td>$50.00</td>\n",
       "      <td>2</td>\n",
       "      <td>$0.00</td>\n",
       "      <td>3</td>\n",
       "      <td>50</td>\n",
       "      <td>3</td>\n",
       "      <td>3</td>\n",
       "      <td>50</td>\n",
       "      <td>50</td>\n",
       "      <td>3.0</td>\n",
       "      <td>50.0</td>\n",
       "      <td>5 weeks ago</td>\n",
       "      <td>t</td>\n",
       "      <td>4</td>\n",
       "      <td>4</td>\n",
       "      <td>4</td>\n",
       "      <td>134</td>\n",
       "      <td>2019-04-11</td>\n",
       "      <td>81</td>\n",
       "      <td>0</td>\n",
       "      <td>2009-12-21</td>\n",
       "      <td>2018-03-30</td>\n",
       "      <td>95.0</td>\n",
       "      <td>10.0</td>\n",
       "      <td>10.0</td>\n",
       "      <td>10.0</td>\n",
       "      <td>10.0</td>\n",
       "      <td>10.0</td>\n",
       "      <td>9.0</td>\n",
       "      <td>f</td>\n",
       "      <td>NaN</td>\n",
       "      <td>NaN</td>\n",
       "      <td>f</td>\n",
       "      <td>f</td>\n",
       "      <td>strict_14_with_grace_period</td>\n",
       "      <td>t</td>\n",
       "      <td>t</td>\n",
       "      <td>1</td>\n",
       "      <td>1</td>\n",
       "      <td>0</td>\n",
       "      <td>0</td>\n",
       "      <td>0.71</td>\n",
       "    </tr>\n",
       "    <tr>\n",
       "      <th>2</th>\n",
       "      <td>17402</td>\n",
       "      <td>https://www.airbnb.com/rooms/17402</td>\n",
       "      <td>20190409040957</td>\n",
       "      <td>2019-04-11</td>\n",
       "      <td>Superb 3-Bed/2 Bath &amp; Wifi: Trendy W1</td>\n",
       "      <td>Open from June 2018 after a 3-year break, we a...</td>\n",
       "      <td>Ready again from June 2018 for bookings after ...</td>\n",
       "      <td>Open from June 2018 after a 3-year break, we a...</td>\n",
       "      <td>none</td>\n",
       "      <td>Location, location, location! You won't find b...</td>\n",
       "      <td>This property has new flooring throughout. Gue...</td>\n",
       "      <td>You can walk to tourist London or take numerou...</td>\n",
       "      <td>Full use of whole independent apartment</td>\n",
       "      <td>Always available by email or phone (before, du...</td>\n",
       "      <td>The apartment benefits from new flooring throu...</td>\n",
       "      <td>NaN</td>\n",
       "      <td>NaN</td>\n",
       "      <td>https://a0.muscache.com/im/pictures/5673eb4f-a...</td>\n",
       "      <td>NaN</td>\n",
       "      <td>67564</td>\n",
       "      <td>https://www.airbnb.com/users/show/67564</td>\n",
       "      <td>Liz</td>\n",
       "      <td>2010-01-04</td>\n",
       "      <td>London, England, United Kingdom</td>\n",
       "      <td>We are Liz and Jack.  We manage a number of ho...</td>\n",
       "      <td>within a few hours</td>\n",
       "      <td>62%</td>\n",
       "      <td>NaN</td>\n",
       "      <td>t</td>\n",
       "      <td>https://a0.muscache.com/im/users/67564/profile...</td>\n",
       "      <td>https://a0.muscache.com/im/users/67564/profile...</td>\n",
       "      <td>Fitzrovia</td>\n",
       "      <td>16.0</td>\n",
       "      <td>16.0</td>\n",
       "      <td>['email', 'phone', 'reviews', 'jumio', 'offlin...</td>\n",
       "      <td>t</td>\n",
       "      <td>t</td>\n",
       "      <td>London, Fitzrovia, United Kingdom</td>\n",
       "      <td>Fitzrovia</td>\n",
       "      <td>Westminster</td>\n",
       "      <td>NaN</td>\n",
       "      <td>London</td>\n",
       "      <td>Fitzrovia</td>\n",
       "      <td>W1T4BP</td>\n",
       "      <td>London</td>\n",
       "      <td>London, United Kingdom</td>\n",
       "      <td>GB</td>\n",
       "      <td>United Kingdom</td>\n",
       "      <td>51.52098</td>\n",
       "      <td>-0.14002</td>\n",
       "      <td>t</td>\n",
       "      <td>Apartment</td>\n",
       "      <td>Entire home/apt</td>\n",
       "      <td>6</td>\n",
       "      <td>2.0</td>\n",
       "      <td>3.0</td>\n",
       "      <td>3.0</td>\n",
       "      <td>Real Bed</td>\n",
       "      <td>{TV,Wifi,Kitchen,\"Paid parking off premises\",E...</td>\n",
       "      <td>NaN</td>\n",
       "      <td>$500.00</td>\n",
       "      <td>$1,378.00</td>\n",
       "      <td>NaN</td>\n",
       "      <td>$350.00</td>\n",
       "      <td>$65.00</td>\n",
       "      <td>4</td>\n",
       "      <td>$10.00</td>\n",
       "      <td>3</td>\n",
       "      <td>365</td>\n",
       "      <td>3</td>\n",
       "      <td>3</td>\n",
       "      <td>365</td>\n",
       "      <td>365</td>\n",
       "      <td>3.0</td>\n",
       "      <td>365.0</td>\n",
       "      <td>yesterday</td>\n",
       "      <td>t</td>\n",
       "      <td>30</td>\n",
       "      <td>60</td>\n",
       "      <td>89</td>\n",
       "      <td>364</td>\n",
       "      <td>2019-04-11</td>\n",
       "      <td>39</td>\n",
       "      <td>14</td>\n",
       "      <td>2011-03-21</td>\n",
       "      <td>2018-10-15</td>\n",
       "      <td>93.0</td>\n",
       "      <td>10.0</td>\n",
       "      <td>9.0</td>\n",
       "      <td>9.0</td>\n",
       "      <td>9.0</td>\n",
       "      <td>10.0</td>\n",
       "      <td>9.0</td>\n",
       "      <td>f</td>\n",
       "      <td>NaN</td>\n",
       "      <td>NaN</td>\n",
       "      <td>f</td>\n",
       "      <td>f</td>\n",
       "      <td>strict_14_with_grace_period</td>\n",
       "      <td>f</td>\n",
       "      <td>f</td>\n",
       "      <td>13</td>\n",
       "      <td>13</td>\n",
       "      <td>0</td>\n",
       "      <td>0</td>\n",
       "      <td>0.40</td>\n",
       "    </tr>\n",
       "    <tr>\n",
       "      <th>3</th>\n",
       "      <td>24328</td>\n",
       "      <td>https://www.airbnb.com/rooms/24328</td>\n",
       "      <td>20190409040957</td>\n",
       "      <td>2019-04-11</td>\n",
       "      <td>Battersea 2 bedroom house &amp; parking</td>\n",
       "      <td>Artist house, high ceiling bedrooms, private p...</td>\n",
       "      <td>- End of terrace two bedroom house close to So...</td>\n",
       "      <td>Artist house, high ceiling bedrooms, private p...</td>\n",
       "      <td>family</td>\n",
       "      <td>- Battersea is a quiet family area, easy acces...</td>\n",
       "      <td>- Please have a profile or tell us more about ...</td>\n",
       "      <td>- 5 mins walk to Battersea Park, 15 mins walk ...</td>\n",
       "      <td>- there is a communal garden in our complex - ...</td>\n",
       "      <td>We rent out our house only when we are away. T...</td>\n",
       "      <td>A house manual will be emailed once a booking ...</td>\n",
       "      <td>NaN</td>\n",
       "      <td>NaN</td>\n",
       "      <td>https://a0.muscache.com/im/pictures/428381/d92...</td>\n",
       "      <td>NaN</td>\n",
       "      <td>41759</td>\n",
       "      <td>https://www.airbnb.com/users/show/41759</td>\n",
       "      <td>Joe</td>\n",
       "      <td>2009-09-28</td>\n",
       "      <td>London, England, United Kingdom</td>\n",
       "      <td>I've been using Airbnb for a while now, both a...</td>\n",
       "      <td>within a day</td>\n",
       "      <td>91%</td>\n",
       "      <td>NaN</td>\n",
       "      <td>t</td>\n",
       "      <td>https://a0.muscache.com/im/users/41759/profile...</td>\n",
       "      <td>https://a0.muscache.com/im/users/41759/profile...</td>\n",
       "      <td>Battersea</td>\n",
       "      <td>3.0</td>\n",
       "      <td>3.0</td>\n",
       "      <td>['email', 'phone', 'reviews', 'jumio', 'offlin...</td>\n",
       "      <td>t</td>\n",
       "      <td>t</td>\n",
       "      <td>London, United Kingdom</td>\n",
       "      <td>LB of Wandsworth</td>\n",
       "      <td>Wandsworth</td>\n",
       "      <td>NaN</td>\n",
       "      <td>London</td>\n",
       "      <td>NaN</td>\n",
       "      <td>SW11 5GX</td>\n",
       "      <td>London</td>\n",
       "      <td>London, United Kingdom</td>\n",
       "      <td>GB</td>\n",
       "      <td>United Kingdom</td>\n",
       "      <td>51.47298</td>\n",
       "      <td>-0.16376</td>\n",
       "      <td>t</td>\n",
       "      <td>Townhouse</td>\n",
       "      <td>Entire home/apt</td>\n",
       "      <td>4</td>\n",
       "      <td>1.5</td>\n",
       "      <td>2.0</td>\n",
       "      <td>2.0</td>\n",
       "      <td>Real Bed</td>\n",
       "      <td>{TV,\"Cable TV\",Internet,Wifi,Kitchen,\"Free par...</td>\n",
       "      <td>1001.0</td>\n",
       "      <td>$175.00</td>\n",
       "      <td>$1,050.00</td>\n",
       "      <td>$3,500.00</td>\n",
       "      <td>$250.00</td>\n",
       "      <td>$70.00</td>\n",
       "      <td>2</td>\n",
       "      <td>$0.00</td>\n",
       "      <td>30</td>\n",
       "      <td>1125</td>\n",
       "      <td>30</td>\n",
       "      <td>30</td>\n",
       "      <td>1125</td>\n",
       "      <td>1125</td>\n",
       "      <td>30.0</td>\n",
       "      <td>1125.0</td>\n",
       "      <td>5 weeks ago</td>\n",
       "      <td>t</td>\n",
       "      <td>12</td>\n",
       "      <td>14</td>\n",
       "      <td>44</td>\n",
       "      <td>319</td>\n",
       "      <td>2019-04-11</td>\n",
       "      <td>92</td>\n",
       "      <td>0</td>\n",
       "      <td>2010-11-15</td>\n",
       "      <td>2016-09-07</td>\n",
       "      <td>98.0</td>\n",
       "      <td>10.0</td>\n",
       "      <td>10.0</td>\n",
       "      <td>10.0</td>\n",
       "      <td>10.0</td>\n",
       "      <td>9.0</td>\n",
       "      <td>9.0</td>\n",
       "      <td>f</td>\n",
       "      <td>NaN</td>\n",
       "      <td>NaN</td>\n",
       "      <td>f</td>\n",
       "      <td>f</td>\n",
       "      <td>moderate</td>\n",
       "      <td>t</td>\n",
       "      <td>t</td>\n",
       "      <td>1</td>\n",
       "      <td>1</td>\n",
       "      <td>0</td>\n",
       "      <td>0</td>\n",
       "      <td>0.90</td>\n",
       "    </tr>\n",
       "    <tr>\n",
       "      <th>4</th>\n",
       "      <td>25023</td>\n",
       "      <td>https://www.airbnb.com/rooms/25023</td>\n",
       "      <td>20190409040957</td>\n",
       "      <td>2019-04-11</td>\n",
       "      <td>All-comforts 2-bed flat near Wimbledon tennis</td>\n",
       "      <td>Large, all comforts, 2-bed flat; first floor; ...</td>\n",
       "      <td>10 mins walk to Southfields tube and Wimbledon...</td>\n",
       "      <td>Large, all comforts, 2-bed flat; first floor; ...</td>\n",
       "      <td>none</td>\n",
       "      <td>This is a leafy residential area with excellen...</td>\n",
       "      <td>Non-smokers only. No pets.</td>\n",
       "      <td>Free off-street parking; buses to Richmond/Too...</td>\n",
       "      <td>Entire flat; use of communal gardens.</td>\n",
       "      <td>I'm happy to provide you with any helpful hint...</td>\n",
       "      <td>No smoking. No parties. No loud music after 10...</td>\n",
       "      <td>NaN</td>\n",
       "      <td>NaN</td>\n",
       "      <td>https://a0.muscache.com/im/pictures/d693d930-0...</td>\n",
       "      <td>NaN</td>\n",
       "      <td>102813</td>\n",
       "      <td>https://www.airbnb.com/users/show/102813</td>\n",
       "      <td>Amanda</td>\n",
       "      <td>2010-04-03</td>\n",
       "      <td>Rome, Lazio, Italy</td>\n",
       "      <td>Hi, I'm a sociologist/anthropologist, NLP exec...</td>\n",
       "      <td>within an hour</td>\n",
       "      <td>100%</td>\n",
       "      <td>NaN</td>\n",
       "      <td>t</td>\n",
       "      <td>https://a0.muscache.com/im/pictures/user/2e886...</td>\n",
       "      <td>https://a0.muscache.com/im/pictures/user/2e886...</td>\n",
       "      <td>Wimbledon</td>\n",
       "      <td>1.0</td>\n",
       "      <td>1.0</td>\n",
       "      <td>['email', 'phone', 'reviews']</td>\n",
       "      <td>t</td>\n",
       "      <td>f</td>\n",
       "      <td>Wimbledon, London, United Kingdom</td>\n",
       "      <td>LB of Wandsworth</td>\n",
       "      <td>Wandsworth</td>\n",
       "      <td>NaN</td>\n",
       "      <td>Wimbledon</td>\n",
       "      <td>London</td>\n",
       "      <td>SW19 6QH</td>\n",
       "      <td>London</td>\n",
       "      <td>Wimbledon, United Kingdom</td>\n",
       "      <td>GB</td>\n",
       "      <td>United Kingdom</td>\n",
       "      <td>51.44687</td>\n",
       "      <td>-0.21874</td>\n",
       "      <td>t</td>\n",
       "      <td>Apartment</td>\n",
       "      <td>Entire home/apt</td>\n",
       "      <td>4</td>\n",
       "      <td>1.0</td>\n",
       "      <td>2.0</td>\n",
       "      <td>2.0</td>\n",
       "      <td>Real Bed</td>\n",
       "      <td>{TV,Wifi,Kitchen,\"Free parking on premises\",El...</td>\n",
       "      <td>700.0</td>\n",
       "      <td>$65.00</td>\n",
       "      <td>$630.00</td>\n",
       "      <td>$2,515.00</td>\n",
       "      <td>$250.00</td>\n",
       "      <td>$50.00</td>\n",
       "      <td>2</td>\n",
       "      <td>$11.00</td>\n",
       "      <td>4</td>\n",
       "      <td>100</td>\n",
       "      <td>4</td>\n",
       "      <td>4</td>\n",
       "      <td>100</td>\n",
       "      <td>100</td>\n",
       "      <td>4.0</td>\n",
       "      <td>100.0</td>\n",
       "      <td>5 weeks ago</td>\n",
       "      <td>t</td>\n",
       "      <td>0</td>\n",
       "      <td>0</td>\n",
       "      <td>14</td>\n",
       "      <td>16</td>\n",
       "      <td>2019-04-11</td>\n",
       "      <td>27</td>\n",
       "      <td>5</td>\n",
       "      <td>2016-03-05</td>\n",
       "      <td>2019-03-11</td>\n",
       "      <td>91.0</td>\n",
       "      <td>10.0</td>\n",
       "      <td>9.0</td>\n",
       "      <td>9.0</td>\n",
       "      <td>9.0</td>\n",
       "      <td>9.0</td>\n",
       "      <td>9.0</td>\n",
       "      <td>f</td>\n",
       "      <td>NaN</td>\n",
       "      <td>NaN</td>\n",
       "      <td>f</td>\n",
       "      <td>f</td>\n",
       "      <td>moderate</td>\n",
       "      <td>f</td>\n",
       "      <td>f</td>\n",
       "      <td>1</td>\n",
       "      <td>1</td>\n",
       "      <td>0</td>\n",
       "      <td>0</td>\n",
       "      <td>0.71</td>\n",
       "    </tr>\n",
       "  </tbody>\n",
       "</table>\n",
       "</div>"
      ],
      "text/plain": [
       "      id                         listing_url       scrape_id last_scraped  \\\n",
       "0  13913  https://www.airbnb.com/rooms/13913  20190409040957   2019-04-11   \n",
       "1  15400  https://www.airbnb.com/rooms/15400  20190409040957   2019-04-11   \n",
       "2  17402  https://www.airbnb.com/rooms/17402  20190409040957   2019-04-11   \n",
       "3  24328  https://www.airbnb.com/rooms/24328  20190409040957   2019-04-11   \n",
       "4  25023  https://www.airbnb.com/rooms/25023  20190409040957   2019-04-11   \n",
       "\n",
       "                                            name  \\\n",
       "0            Holiday London DB Room Let-on going   \n",
       "1            Bright Chelsea  Apartment. Chelsea!   \n",
       "2          Superb 3-Bed/2 Bath & Wifi: Trendy W1   \n",
       "3            Battersea 2 bedroom house & parking   \n",
       "4  All-comforts 2-bed flat near Wimbledon tennis   \n",
       "\n",
       "                                             summary  \\\n",
       "0  My bright double bedroom with a large window h...   \n",
       "1  Lots of windows and light.  St Luke's Gardens ...   \n",
       "2  Open from June 2018 after a 3-year break, we a...   \n",
       "3  Artist house, high ceiling bedrooms, private p...   \n",
       "4  Large, all comforts, 2-bed flat; first floor; ...   \n",
       "\n",
       "                                               space  \\\n",
       "0  Hello Everyone, I'm offering my lovely double ...   \n",
       "1  Bright Chelsea Apartment  This is a bright one...   \n",
       "2  Ready again from June 2018 for bookings after ...   \n",
       "3  - End of terrace two bedroom house close to So...   \n",
       "4  10 mins walk to Southfields tube and Wimbledon...   \n",
       "\n",
       "                                         description experiences_offered  \\\n",
       "0  My bright double bedroom with a large window h...            business   \n",
       "1  Lots of windows and light.  St Luke's Gardens ...            romantic   \n",
       "2  Open from June 2018 after a 3-year break, we a...                none   \n",
       "3  Artist house, high ceiling bedrooms, private p...              family   \n",
       "4  Large, all comforts, 2-bed flat; first floor; ...                none   \n",
       "\n",
       "                               neighborhood_overview  \\\n",
       "0  Finsbury Park is a friendly melting pot commun...   \n",
       "1                                     It is Chelsea.   \n",
       "2  Location, location, location! You won't find b...   \n",
       "3  - Battersea is a quiet family area, easy acces...   \n",
       "4  This is a leafy residential area with excellen...   \n",
       "\n",
       "                                               notes  \\\n",
       "0  For art lovers I can give guest my Tate Member...   \n",
       "1  The building next door is in the process of be...   \n",
       "2  This property has new flooring throughout. Gue...   \n",
       "3  - Please have a profile or tell us more about ...   \n",
       "4                         Non-smokers only. No pets.   \n",
       "\n",
       "                                             transit  \\\n",
       "0  The flat only a 10 minute walk to Finsbury Par...   \n",
       "1  The underground stations are South Kensington ...   \n",
       "2  You can walk to tourist London or take numerou...   \n",
       "3  - 5 mins walk to Battersea Park, 15 mins walk ...   \n",
       "4  Free off-street parking; buses to Richmond/Too...   \n",
       "\n",
       "                                              access  \\\n",
       "0  Guest will have access to the self catering ki...   \n",
       "1  There are two wardrobes for guests exclusive u...   \n",
       "2            Full use of whole independent apartment   \n",
       "3  - there is a communal garden in our complex - ...   \n",
       "4              Entire flat; use of communal gardens.   \n",
       "\n",
       "                                         interaction  \\\n",
       "0  I like to have little chats with my guest over...   \n",
       "1  If I am in the country I like to welcome my gu...   \n",
       "2  Always available by email or phone (before, du...   \n",
       "3  We rent out our house only when we are away. T...   \n",
       "4  I'm happy to provide you with any helpful hint...   \n",
       "\n",
       "                                         house_rules  thumbnail_url  \\\n",
       "0  I'm an artist and have my artwork up on the wa...            NaN   \n",
       "1  NO SMOKING PLEASE.. No unauthorised guests. No...            NaN   \n",
       "2  The apartment benefits from new flooring throu...            NaN   \n",
       "3  A house manual will be emailed once a booking ...            NaN   \n",
       "4  No smoking. No parties. No loud music after 10...            NaN   \n",
       "\n",
       "   medium_url                                        picture_url  \\\n",
       "0         NaN  https://a0.muscache.com/im/pictures/985879/b06...   \n",
       "1         NaN  https://a0.muscache.com/im/pictures/428392/462...   \n",
       "2         NaN  https://a0.muscache.com/im/pictures/5673eb4f-a...   \n",
       "3         NaN  https://a0.muscache.com/im/pictures/428381/d92...   \n",
       "4         NaN  https://a0.muscache.com/im/pictures/d693d930-0...   \n",
       "\n",
       "   xl_picture_url  host_id                                  host_url  \\\n",
       "0             NaN    54730   https://www.airbnb.com/users/show/54730   \n",
       "1             NaN    60302   https://www.airbnb.com/users/show/60302   \n",
       "2             NaN    67564   https://www.airbnb.com/users/show/67564   \n",
       "3             NaN    41759   https://www.airbnb.com/users/show/41759   \n",
       "4             NaN   102813  https://www.airbnb.com/users/show/102813   \n",
       "\n",
       "  host_name  host_since                        host_location  \\\n",
       "0     Alina  2009-11-16      London, England, United Kingdom   \n",
       "1  Philippa  2009-12-05  Kensington, England, United Kingdom   \n",
       "2       Liz  2010-01-04      London, England, United Kingdom   \n",
       "3       Joe  2009-09-28      London, England, United Kingdom   \n",
       "4    Amanda  2010-04-03                   Rome, Lazio, Italy   \n",
       "\n",
       "                                          host_about  host_response_time  \\\n",
       "0  I am a Multi-Media Visual Artist and Creative ...        within a day   \n",
       "1  English, grandmother,  I have travelled quite ...  within a few hours   \n",
       "2  We are Liz and Jack.  We manage a number of ho...  within a few hours   \n",
       "3  I've been using Airbnb for a while now, both a...        within a day   \n",
       "4  Hi, I'm a sociologist/anthropologist, NLP exec...      within an hour   \n",
       "\n",
       "  host_response_rate  host_acceptance_rate host_is_superhost  \\\n",
       "0                60%                   NaN                 f   \n",
       "1               100%                   NaN                 f   \n",
       "2                62%                   NaN                 t   \n",
       "3                91%                   NaN                 t   \n",
       "4               100%                   NaN                 t   \n",
       "\n",
       "                                  host_thumbnail_url  \\\n",
       "0  https://a0.muscache.com/im/users/54730/profile...   \n",
       "1  https://a0.muscache.com/im/users/60302/profile...   \n",
       "2  https://a0.muscache.com/im/users/67564/profile...   \n",
       "3  https://a0.muscache.com/im/users/41759/profile...   \n",
       "4  https://a0.muscache.com/im/pictures/user/2e886...   \n",
       "\n",
       "                                    host_picture_url host_neighbourhood  \\\n",
       "0  https://a0.muscache.com/im/users/54730/profile...    LB of Islington   \n",
       "1  https://a0.muscache.com/im/users/60302/profile...            Chelsea   \n",
       "2  https://a0.muscache.com/im/users/67564/profile...          Fitzrovia   \n",
       "3  https://a0.muscache.com/im/users/41759/profile...          Battersea   \n",
       "4  https://a0.muscache.com/im/pictures/user/2e886...          Wimbledon   \n",
       "\n",
       "   host_listings_count  host_total_listings_count  \\\n",
       "0                  4.0                        4.0   \n",
       "1                  1.0                        1.0   \n",
       "2                 16.0                       16.0   \n",
       "3                  3.0                        3.0   \n",
       "4                  1.0                        1.0   \n",
       "\n",
       "                                  host_verifications host_has_profile_pic  \\\n",
       "0          ['email', 'phone', 'facebook', 'reviews']                    t   \n",
       "1  ['email', 'phone', 'reviews', 'jumio', 'govern...                    t   \n",
       "2  ['email', 'phone', 'reviews', 'jumio', 'offlin...                    t   \n",
       "3  ['email', 'phone', 'reviews', 'jumio', 'offlin...                    t   \n",
       "4                      ['email', 'phone', 'reviews']                    t   \n",
       "\n",
       "  host_identity_verified                                     street  \\\n",
       "0                      f  Islington, Greater London, United Kingdom   \n",
       "1                      t                     London, United Kingdom   \n",
       "2                      t          London, Fitzrovia, United Kingdom   \n",
       "3                      t                     London, United Kingdom   \n",
       "4                      f          Wimbledon, London, United Kingdom   \n",
       "\n",
       "      neighbourhood  neighbourhood_cleansed  neighbourhood_group_cleansed  \\\n",
       "0   LB of Islington               Islington                           NaN   \n",
       "1           Chelsea  Kensington and Chelsea                           NaN   \n",
       "2         Fitzrovia             Westminster                           NaN   \n",
       "3  LB of Wandsworth              Wandsworth                           NaN   \n",
       "4  LB of Wandsworth              Wandsworth                           NaN   \n",
       "\n",
       "        city           state   zipcode  market             smart_location  \\\n",
       "0  Islington  Greater London      N4 3  London  Islington, United Kingdom   \n",
       "1     London             NaN       SW3  London     London, United Kingdom   \n",
       "2     London       Fitzrovia    W1T4BP  London     London, United Kingdom   \n",
       "3     London             NaN  SW11 5GX  London     London, United Kingdom   \n",
       "4  Wimbledon          London  SW19 6QH  London  Wimbledon, United Kingdom   \n",
       "\n",
       "  country_code         country  latitude  longitude is_location_exact  \\\n",
       "0           GB  United Kingdom  51.56802   -0.11121                 t   \n",
       "1           GB  United Kingdom  51.48796   -0.16898                 t   \n",
       "2           GB  United Kingdom  51.52098   -0.14002                 t   \n",
       "3           GB  United Kingdom  51.47298   -0.16376                 t   \n",
       "4           GB  United Kingdom  51.44687   -0.21874                 t   \n",
       "\n",
       "  property_type        room_type  accommodates  bathrooms  bedrooms  beds  \\\n",
       "0     Apartment     Private room             2        1.0       1.0   0.0   \n",
       "1     Apartment  Entire home/apt             2        1.0       1.0   1.0   \n",
       "2     Apartment  Entire home/apt             6        2.0       3.0   3.0   \n",
       "3     Townhouse  Entire home/apt             4        1.5       2.0   2.0   \n",
       "4     Apartment  Entire home/apt             4        1.0       2.0   2.0   \n",
       "\n",
       "   bed_type                                          amenities  square_feet  \\\n",
       "0  Real Bed  {TV,\"Cable TV\",Wifi,Kitchen,\"Paid parking off ...        538.0   \n",
       "1  Real Bed  {TV,\"Cable TV\",Internet,Wifi,\"Air conditioning...          NaN   \n",
       "2  Real Bed  {TV,Wifi,Kitchen,\"Paid parking off premises\",E...          NaN   \n",
       "3  Real Bed  {TV,\"Cable TV\",Internet,Wifi,Kitchen,\"Free par...       1001.0   \n",
       "4  Real Bed  {TV,Wifi,Kitchen,\"Free parking on premises\",El...        700.0   \n",
       "\n",
       "     price weekly_price monthly_price security_deposit cleaning_fee  \\\n",
       "0   $65.00      $333.00     $1,176.00          $100.00       $15.00   \n",
       "1  $100.00      $600.00     $2,250.00          $150.00       $50.00   \n",
       "2  $500.00    $1,378.00           NaN          $350.00       $65.00   \n",
       "3  $175.00    $1,050.00     $3,500.00          $250.00       $70.00   \n",
       "4   $65.00      $630.00     $2,515.00          $250.00       $50.00   \n",
       "\n",
       "   guests_included extra_people  minimum_nights  maximum_nights  \\\n",
       "0                1       $15.00               1              29   \n",
       "1                2        $0.00               3              50   \n",
       "2                4       $10.00               3             365   \n",
       "3                2        $0.00              30            1125   \n",
       "4                2       $11.00               4             100   \n",
       "\n",
       "   minimum_minimum_nights  maximum_minimum_nights  minimum_maximum_nights  \\\n",
       "0                       1                       1                      29   \n",
       "1                       3                       3                      50   \n",
       "2                       3                       3                     365   \n",
       "3                      30                      30                    1125   \n",
       "4                       4                       4                     100   \n",
       "\n",
       "   maximum_maximum_nights  minimum_nights_avg_ntm  maximum_nights_avg_ntm  \\\n",
       "0                      29                     1.0                    29.0   \n",
       "1                      50                     3.0                    50.0   \n",
       "2                     365                     3.0                   365.0   \n",
       "3                    1125                    30.0                  1125.0   \n",
       "4                     100                     4.0                   100.0   \n",
       "\n",
       "  calendar_updated has_availability  availability_30  availability_60  \\\n",
       "0     4 months ago                t               10               39   \n",
       "1      5 weeks ago                t                4                4   \n",
       "2        yesterday                t               30               60   \n",
       "3      5 weeks ago                t               12               14   \n",
       "4      5 weeks ago                t                0                0   \n",
       "\n",
       "   availability_90  availability_365 calendar_last_scraped  number_of_reviews  \\\n",
       "0               68               343            2019-04-11                 14   \n",
       "1                4               134            2019-04-11                 81   \n",
       "2               89               364            2019-04-11                 39   \n",
       "3               44               319            2019-04-11                 92   \n",
       "4               14                16            2019-04-11                 27   \n",
       "\n",
       "   number_of_reviews_ltm first_review last_review  review_scores_rating  \\\n",
       "0                      3   2010-08-18  2018-06-17                  95.0   \n",
       "1                      0   2009-12-21  2018-03-30                  95.0   \n",
       "2                     14   2011-03-21  2018-10-15                  93.0   \n",
       "3                      0   2010-11-15  2016-09-07                  98.0   \n",
       "4                      5   2016-03-05  2019-03-11                  91.0   \n",
       "\n",
       "   review_scores_accuracy  review_scores_cleanliness  review_scores_checkin  \\\n",
       "0                     9.0                       10.0                    9.0   \n",
       "1                    10.0                       10.0                   10.0   \n",
       "2                    10.0                        9.0                    9.0   \n",
       "3                    10.0                       10.0                   10.0   \n",
       "4                    10.0                        9.0                    9.0   \n",
       "\n",
       "   review_scores_communication  review_scores_location  review_scores_value  \\\n",
       "0                         10.0                     9.0                  9.0   \n",
       "1                         10.0                    10.0                  9.0   \n",
       "2                          9.0                    10.0                  9.0   \n",
       "3                         10.0                     9.0                  9.0   \n",
       "4                          9.0                     9.0                  9.0   \n",
       "\n",
       "  requires_license license  jurisdiction_names instant_bookable  \\\n",
       "0                f     NaN                 NaN                f   \n",
       "1                f     NaN                 NaN                f   \n",
       "2                f     NaN                 NaN                f   \n",
       "3                f     NaN                 NaN                f   \n",
       "4                f     NaN                 NaN                f   \n",
       "\n",
       "  is_business_travel_ready          cancellation_policy  \\\n",
       "0                        f                     moderate   \n",
       "1                        f  strict_14_with_grace_period   \n",
       "2                        f  strict_14_with_grace_period   \n",
       "3                        f                     moderate   \n",
       "4                        f                     moderate   \n",
       "\n",
       "  require_guest_profile_picture require_guest_phone_verification  \\\n",
       "0                             f                                f   \n",
       "1                             t                                t   \n",
       "2                             f                                f   \n",
       "3                             t                                t   \n",
       "4                             f                                f   \n",
       "\n",
       "   calculated_host_listings_count  \\\n",
       "0                               3   \n",
       "1                               1   \n",
       "2                              13   \n",
       "3                               1   \n",
       "4                               1   \n",
       "\n",
       "   calculated_host_listings_count_entire_homes  \\\n",
       "0                                            1   \n",
       "1                                            1   \n",
       "2                                           13   \n",
       "3                                            1   \n",
       "4                                            1   \n",
       "\n",
       "   calculated_host_listings_count_private_rooms  \\\n",
       "0                                             2   \n",
       "1                                             0   \n",
       "2                                             0   \n",
       "3                                             0   \n",
       "4                                             0   \n",
       "\n",
       "   calculated_host_listings_count_shared_rooms  reviews_per_month  \n",
       "0                                            0               0.13  \n",
       "1                                            0               0.71  \n",
       "2                                            0               0.40  \n",
       "3                                            0               0.90  \n",
       "4                                            0               0.71  "
      ]
     },
     "execution_count": 6,
     "metadata": {},
     "output_type": "execute_result"
    }
   ],
   "source": [
    "listn.head()"
   ]
  },
  {
   "cell_type": "code",
   "execution_count": 7,
   "metadata": {},
   "outputs": [
    {
     "data": {
      "text/plain": [
       "Index(['id', 'listing_url', 'scrape_id', 'last_scraped', 'name', 'summary',\n",
       "       'space', 'description', 'experiences_offered', 'neighborhood_overview',\n",
       "       ...\n",
       "       'instant_bookable', 'is_business_travel_ready', 'cancellation_policy',\n",
       "       'require_guest_profile_picture', 'require_guest_phone_verification',\n",
       "       'calculated_host_listings_count',\n",
       "       'calculated_host_listings_count_entire_homes',\n",
       "       'calculated_host_listings_count_private_rooms',\n",
       "       'calculated_host_listings_count_shared_rooms', 'reviews_per_month'],\n",
       "      dtype='object', length=106)"
      ]
     },
     "execution_count": 7,
     "metadata": {},
     "output_type": "execute_result"
    }
   ],
   "source": [
    "listn.keys()"
   ]
  },
  {
   "cell_type": "code",
   "execution_count": 8,
   "metadata": {},
   "outputs": [],
   "source": [
    "cal=pd.read_csv('calendar_april.csv',low_memory=False)"
   ]
  },
  {
   "cell_type": "code",
   "execution_count": 9,
   "metadata": {},
   "outputs": [
    {
     "data": {
      "text/plain": [
       "(29077103, 7)"
      ]
     },
     "execution_count": 9,
     "metadata": {},
     "output_type": "execute_result"
    }
   ],
   "source": [
    "cal.shape"
   ]
  },
  {
   "cell_type": "code",
   "execution_count": 10,
   "metadata": {},
   "outputs": [
    {
     "data": {
      "text/html": [
       "<div>\n",
       "<style scoped>\n",
       "    .dataframe tbody tr th:only-of-type {\n",
       "        vertical-align: middle;\n",
       "    }\n",
       "\n",
       "    .dataframe tbody tr th {\n",
       "        vertical-align: top;\n",
       "    }\n",
       "\n",
       "    .dataframe thead th {\n",
       "        text-align: right;\n",
       "    }\n",
       "</style>\n",
       "<table border=\"1\" class=\"dataframe\">\n",
       "  <thead>\n",
       "    <tr style=\"text-align: right;\">\n",
       "      <th></th>\n",
       "      <th>listing_id</th>\n",
       "      <th>date</th>\n",
       "      <th>available</th>\n",
       "      <th>price</th>\n",
       "      <th>adjusted_price</th>\n",
       "      <th>minimum_nights</th>\n",
       "      <th>maximum_nights</th>\n",
       "    </tr>\n",
       "  </thead>\n",
       "  <tbody>\n",
       "    <tr>\n",
       "      <th>0</th>\n",
       "      <td>13913</td>\n",
       "      <td>2019-04-11</td>\n",
       "      <td>f</td>\n",
       "      <td>$50.00</td>\n",
       "      <td>$50.00</td>\n",
       "      <td>1.0</td>\n",
       "      <td>29.0</td>\n",
       "    </tr>\n",
       "    <tr>\n",
       "      <th>1</th>\n",
       "      <td>13913</td>\n",
       "      <td>2019-04-12</td>\n",
       "      <td>f</td>\n",
       "      <td>$50.00</td>\n",
       "      <td>$50.00</td>\n",
       "      <td>1.0</td>\n",
       "      <td>29.0</td>\n",
       "    </tr>\n",
       "    <tr>\n",
       "      <th>2</th>\n",
       "      <td>13913</td>\n",
       "      <td>2019-04-13</td>\n",
       "      <td>f</td>\n",
       "      <td>$50.00</td>\n",
       "      <td>$50.00</td>\n",
       "      <td>1.0</td>\n",
       "      <td>29.0</td>\n",
       "    </tr>\n",
       "    <tr>\n",
       "      <th>3</th>\n",
       "      <td>13913</td>\n",
       "      <td>2019-04-14</td>\n",
       "      <td>f</td>\n",
       "      <td>$50.00</td>\n",
       "      <td>$50.00</td>\n",
       "      <td>1.0</td>\n",
       "      <td>29.0</td>\n",
       "    </tr>\n",
       "    <tr>\n",
       "      <th>4</th>\n",
       "      <td>13913</td>\n",
       "      <td>2019-04-15</td>\n",
       "      <td>f</td>\n",
       "      <td>$50.00</td>\n",
       "      <td>$50.00</td>\n",
       "      <td>1.0</td>\n",
       "      <td>29.0</td>\n",
       "    </tr>\n",
       "  </tbody>\n",
       "</table>\n",
       "</div>"
      ],
      "text/plain": [
       "   listing_id        date available   price adjusted_price  minimum_nights  \\\n",
       "0       13913  2019-04-11         f  $50.00         $50.00             1.0   \n",
       "1       13913  2019-04-12         f  $50.00         $50.00             1.0   \n",
       "2       13913  2019-04-13         f  $50.00         $50.00             1.0   \n",
       "3       13913  2019-04-14         f  $50.00         $50.00             1.0   \n",
       "4       13913  2019-04-15         f  $50.00         $50.00             1.0   \n",
       "\n",
       "   maximum_nights  \n",
       "0            29.0  \n",
       "1            29.0  \n",
       "2            29.0  \n",
       "3            29.0  \n",
       "4            29.0  "
      ]
     },
     "execution_count": 10,
     "metadata": {},
     "output_type": "execute_result"
    }
   ],
   "source": [
    "cal.head()"
   ]
  },
  {
   "cell_type": "code",
   "execution_count": 16,
   "metadata": {},
   "outputs": [],
   "source": [
    "neigh=pd.read_csv('neighbourhoods.csv')"
   ]
  },
  {
   "cell_type": "code",
   "execution_count": 17,
   "metadata": {},
   "outputs": [
    {
     "data": {
      "text/html": [
       "<div>\n",
       "<style scoped>\n",
       "    .dataframe tbody tr th:only-of-type {\n",
       "        vertical-align: middle;\n",
       "    }\n",
       "\n",
       "    .dataframe tbody tr th {\n",
       "        vertical-align: top;\n",
       "    }\n",
       "\n",
       "    .dataframe thead th {\n",
       "        text-align: right;\n",
       "    }\n",
       "</style>\n",
       "<table border=\"1\" class=\"dataframe\">\n",
       "  <thead>\n",
       "    <tr style=\"text-align: right;\">\n",
       "      <th></th>\n",
       "      <th>neighbourhood_group</th>\n",
       "      <th>neighbourhood</th>\n",
       "    </tr>\n",
       "  </thead>\n",
       "  <tbody>\n",
       "    <tr>\n",
       "      <th>0</th>\n",
       "      <td>NaN</td>\n",
       "      <td>Barking and Dagenham</td>\n",
       "    </tr>\n",
       "    <tr>\n",
       "      <th>1</th>\n",
       "      <td>NaN</td>\n",
       "      <td>Barnet</td>\n",
       "    </tr>\n",
       "    <tr>\n",
       "      <th>2</th>\n",
       "      <td>NaN</td>\n",
       "      <td>Bexley</td>\n",
       "    </tr>\n",
       "    <tr>\n",
       "      <th>3</th>\n",
       "      <td>NaN</td>\n",
       "      <td>Brent</td>\n",
       "    </tr>\n",
       "    <tr>\n",
       "      <th>4</th>\n",
       "      <td>NaN</td>\n",
       "      <td>Bromley</td>\n",
       "    </tr>\n",
       "  </tbody>\n",
       "</table>\n",
       "</div>"
      ],
      "text/plain": [
       "   neighbourhood_group         neighbourhood\n",
       "0                  NaN  Barking and Dagenham\n",
       "1                  NaN                Barnet\n",
       "2                  NaN                Bexley\n",
       "3                  NaN                 Brent\n",
       "4                  NaN               Bromley"
      ]
     },
     "execution_count": 17,
     "metadata": {},
     "output_type": "execute_result"
    }
   ],
   "source": [
    "neigh.head()"
   ]
  },
  {
   "cell_type": "code",
   "execution_count": 11,
   "metadata": {},
   "outputs": [
    {
     "name": "stderr",
     "output_type": "stream",
     "text": [
      "/Users/lcavicchia/.pyenv/versions/3.7.7/envs/lewagon/lib/python3.7/site-packages/seaborn/distributions.py:2551: FutureWarning: `distplot` is a deprecated function and will be removed in a future version. Please adapt your code to use either `displot` (a figure-level function with similar flexibility) or `histplot` (an axes-level function for histograms).\n",
      "  warnings.warn(msg, FutureWarning)\n"
     ]
    },
    {
     "data": {
      "text/plain": [
       "<AxesSubplot:xlabel='review_scores_rating', ylabel='Density'>"
      ]
     },
     "execution_count": 11,
     "metadata": {},
     "output_type": "execute_result"
    },
    {
     "data": {
      "image/png": "[encoded data removed]",
      "text/plain": [
       "<Figure size 432x288 with 1 Axes>"
      ]
     },
     "metadata": {
      "needs_background": "light"
     },
     "output_type": "display_data"
    }
   ],
   "source": [
    "sns.distplot(listn['review_scores_rating'])"
   ]
  },
  {
   "cell_type": "code",
   "execution_count": 12,
   "metadata": {},
   "outputs": [
    {
     "name": "stderr",
     "output_type": "stream",
     "text": [
      "/Users/lcavicchia/.pyenv/versions/3.7.7/envs/lewagon/lib/python3.7/site-packages/seaborn/distributions.py:2551: FutureWarning: `distplot` is a deprecated function and will be removed in a future version. Please adapt your code to use either `displot` (a figure-level function with similar flexibility) or `histplot` (an axes-level function for histograms).\n",
      "  warnings.warn(msg, FutureWarning)\n"
     ]
    },
    {
     "data": {
      "text/plain": [
       "<AxesSubplot:xlabel='review_scores_cleanliness', ylabel='Density'>"
      ]
     },
     "execution_count": 12,
     "metadata": {},
     "output_type": "execute_result"
    },
    {
     "data": {
      "image/png": "[encoded data removed]",
      "text/plain": [
       "<Figure size 432x288 with 1 Axes>"
      ]
     },
     "metadata": {
      "needs_background": "light"
     },
     "output_type": "display_data"
    }
   ],
   "source": [
    "sns.distplot(listn['review_scores_cleanliness'])"
   ]
  },
  {
   "cell_type": "code",
   "execution_count": 13,
   "metadata": {},
   "outputs": [
    {
     "name": "stderr",
     "output_type": "stream",
     "text": [
      "/Users/lcavicchia/.pyenv/versions/3.7.7/envs/lewagon/lib/python3.7/site-packages/seaborn/distributions.py:2551: FutureWarning: `distplot` is a deprecated function and will be removed in a future version. Please adapt your code to use either `displot` (a figure-level function with similar flexibility) or `histplot` (an axes-level function for histograms).\n",
      "  warnings.warn(msg, FutureWarning)\n"
     ]
    },
    {
     "data": {
      "text/plain": [
       "<AxesSubplot:xlabel='review_scores_location', ylabel='Density'>"
      ]
     },
     "execution_count": 13,
     "metadata": {},
     "output_type": "execute_result"
    },
    {
     "data": {
      "image/png": "[encoded data removed]",
      "text/plain": [
       "<Figure size 432x288 with 1 Axes>"
      ]
     },
     "metadata": {
      "needs_background": "light"
     },
     "output_type": "display_data"
    }
   ],
   "source": [
    "sns.distplot(listn['review_scores_location'])"
   ]
  },
  {
   "cell_type": "code",
   "execution_count": 14,
   "metadata": {},
   "outputs": [
    {
     "name": "stderr",
     "output_type": "stream",
     "text": [
      "/Users/lcavicchia/.pyenv/versions/3.7.7/envs/lewagon/lib/python3.7/site-packages/seaborn/distributions.py:2551: FutureWarning: `distplot` is a deprecated function and will be removed in a future version. Please adapt your code to use either `displot` (a figure-level function with similar flexibility) or `histplot` (an axes-level function for histograms).\n",
      "  warnings.warn(msg, FutureWarning)\n"
     ]
    },
    {
     "data": {
      "text/plain": [
       "<AxesSubplot:xlabel='review_scores_accuracy', ylabel='Density'>"
      ]
     },
     "execution_count": 14,
     "metadata": {},
     "output_type": "execute_result"
    },
    {
     "data": {
      "image/png": "[encoded data removed]",
      "text/plain": [
       "<Figure size 432x288 with 1 Axes>"
      ]
     },
     "metadata": {
      "needs_background": "light"
     },
     "output_type": "display_data"
    }
   ],
   "source": [
    "sns.distplot(listn['review_scores_accuracy'])"
   ]
  },
  {
   "cell_type": "markdown",
   "metadata": {},
   "source": [
    "# Analysis of listings with one review only"
   ]
  },
  {
   "cell_type": "code",
   "execution_count": 48,
   "metadata": {},
   "outputs": [],
   "source": [
    "list_1rev=listn[listn['number_of_reviews']==1]"
   ]
  },
  {
   "cell_type": "code",
   "execution_count": 23,
   "metadata": {},
   "outputs": [
    {
     "data": {
      "text/plain": [
       "(8603, 106)"
      ]
     },
     "execution_count": 23,
     "metadata": {},
     "output_type": "execute_result"
    }
   ],
   "source": [
    "list_1rev.shape"
   ]
  },
  {
   "cell_type": "code",
   "execution_count": 24,
   "metadata": {},
   "outputs": [
    {
     "data": {
      "text/plain": [
       "36       NaN\n",
       "38       NaN\n",
       "102    100.0\n",
       "182    100.0\n",
       "191     89.0\n",
       "Name: review_scores_rating, dtype: float64"
      ]
     },
     "execution_count": 24,
     "metadata": {},
     "output_type": "execute_result"
    }
   ],
   "source": [
    "list_1rev['review_scores_rating'].head()"
   ]
  },
  {
   "cell_type": "code",
   "execution_count": 25,
   "metadata": {},
   "outputs": [
    {
     "data": {
      "text/plain": [
       "100.0    5160\n",
       "80.0     1234\n",
       "60.0      391\n",
       "20.0      204\n",
       "40.0      143\n",
       "97.0        3\n",
       "91.0        2\n",
       "67.0        2\n",
       "89.0        2\n",
       "57.0        1\n",
       "71.0        1\n",
       "77.0        1\n",
       "86.0        1\n",
       "83.0        1\n",
       "90.0        1\n",
       "70.0        1\n",
       "87.0        1\n",
       "Name: review_scores_rating, dtype: int64"
      ]
     },
     "execution_count": 25,
     "metadata": {},
     "output_type": "execute_result"
    }
   ],
   "source": [
    "list_1rev['review_scores_rating'].value_counts()"
   ]
  },
  {
   "cell_type": "code",
   "execution_count": 26,
   "metadata": {},
   "outputs": [
    {
     "name": "stderr",
     "output_type": "stream",
     "text": [
      "/Users/lcavicchia/.pyenv/versions/3.7.7/envs/lewagon/lib/python3.7/site-packages/seaborn/distributions.py:2551: FutureWarning: `distplot` is a deprecated function and will be removed in a future version. Please adapt your code to use either `displot` (a figure-level function with similar flexibility) or `histplot` (an axes-level function for histograms).\n",
      "  warnings.warn(msg, FutureWarning)\n"
     ]
    },
    {
     "data": {
      "text/plain": [
       "<AxesSubplot:xlabel='review_scores_rating', ylabel='Density'>"
      ]
     },
     "execution_count": 26,
     "metadata": {},
     "output_type": "execute_result"
    },
    {
     "data": {
      "image/png": "[encoded data removed]",
      "text/plain": [
       "<Figure size 432x288 with 1 Axes>"
      ]
     },
     "metadata": {
      "needs_background": "light"
     },
     "output_type": "display_data"
    }
   ],
   "source": [
    "sns.distplot(list_1rev['review_scores_rating'])"
   ]
  },
  {
   "cell_type": "code",
   "execution_count": 28,
   "metadata": {},
   "outputs": [
    {
     "name": "stderr",
     "output_type": "stream",
     "text": [
      "/Users/lcavicchia/.pyenv/versions/3.7.7/envs/lewagon/lib/python3.7/site-packages/seaborn/distributions.py:2551: FutureWarning: `distplot` is a deprecated function and will be removed in a future version. Please adapt your code to use either `displot` (a figure-level function with similar flexibility) or `histplot` (an axes-level function for histograms).\n",
      "  warnings.warn(msg, FutureWarning)\n"
     ]
    },
    {
     "data": {
      "text/plain": [
       "<AxesSubplot:xlabel='review_scores_location', ylabel='Density'>"
      ]
     },
     "execution_count": 28,
     "metadata": {},
     "output_type": "execute_result"
    },
    {
     "data": {
      "image/png": "[encoded data removed]",
      "text/plain": [
       "<Figure size 432x288 with 1 Axes>"
      ]
     },
     "metadata": {
      "needs_background": "light"
     },
     "output_type": "display_data"
    }
   ],
   "source": [
    "sns.distplot(list_1rev['review_scores_location'])"
   ]
  },
  {
   "cell_type": "code",
   "execution_count": 29,
   "metadata": {},
   "outputs": [
    {
     "data": {
      "text/plain": [
       "10.0    5402\n",
       "8.0     1171\n",
       "6.0      312\n",
       "2.0       99\n",
       "4.0       76\n",
       "9.0        4\n",
       "Name: review_scores_location, dtype: int64"
      ]
     },
     "execution_count": 29,
     "metadata": {},
     "output_type": "execute_result"
    }
   ],
   "source": [
    "list_1rev['review_scores_location'].value_counts()"
   ]
  },
  {
   "cell_type": "code",
   "execution_count": 30,
   "metadata": {},
   "outputs": [
    {
     "name": "stderr",
     "output_type": "stream",
     "text": [
      "/Users/lcavicchia/.pyenv/versions/3.7.7/envs/lewagon/lib/python3.7/site-packages/seaborn/distributions.py:2551: FutureWarning: `distplot` is a deprecated function and will be removed in a future version. Please adapt your code to use either `displot` (a figure-level function with similar flexibility) or `histplot` (an axes-level function for histograms).\n",
      "  warnings.warn(msg, FutureWarning)\n"
     ]
    },
    {
     "data": {
      "text/plain": [
       "<AxesSubplot:xlabel='review_scores_accuracy', ylabel='Density'>"
      ]
     },
     "execution_count": 30,
     "metadata": {},
     "output_type": "execute_result"
    },
    {
     "data": {
      "image/png": "[encoded data removed]",
      "text/plain": [
       "<Figure size 432x288 with 1 Axes>"
      ]
     },
     "metadata": {
      "needs_background": "light"
     },
     "output_type": "display_data"
    }
   ],
   "source": [
    "sns.distplot(list_1rev['review_scores_accuracy'])"
   ]
  },
  {
   "cell_type": "code",
   "execution_count": 31,
   "metadata": {},
   "outputs": [
    {
     "data": {
      "text/plain": [
       "10.0    5583\n",
       "8.0      873\n",
       "6.0      322\n",
       "2.0      204\n",
       "4.0      114\n",
       "7.0        3\n",
       "9.0        2\n",
       "Name: review_scores_accuracy, dtype: int64"
      ]
     },
     "execution_count": 31,
     "metadata": {},
     "output_type": "execute_result"
    }
   ],
   "source": [
    "list_1rev['review_scores_accuracy'].value_counts()"
   ]
  },
  {
   "cell_type": "code",
   "execution_count": 64,
   "metadata": {},
   "outputs": [
    {
     "name": "stderr",
     "output_type": "stream",
     "text": [
      "/Users/lcavicchia/.pyenv/versions/3.7.7/envs/lewagon/lib/python3.7/site-packages/ipykernel_launcher.py:2: SettingWithCopyWarning: \n",
      "A value is trying to be set on a copy of a slice from a DataFrame.\n",
      "Try using .loc[row_indexer,col_indexer] = value instead\n",
      "\n",
      "See the caveats in the documentation: https://pandas.pydata.org/pandas-docs/stable/user_guide/indexing.html#returning-a-view-versus-a-copy\n",
      "  \n"
     ]
    }
   ],
   "source": [
    "list_1rev['partial_average']=(list_1rev['review_scores_accuracy']+list_1rev['review_scores_checkin']+list_1rev['review_scores_cleanliness'] +\\\n",
    "list_1rev['review_scores_communication'] + list_1rev['review_scores_location'] + list_1rev['review_scores_value'])/6\n",
    "\n",
    "\n",
    "\n",
    "\n"
   ]
  },
  {
   "cell_type": "code",
   "execution_count": 65,
   "metadata": {},
   "outputs": [
    {
     "name": "stderr",
     "output_type": "stream",
     "text": [
      "/Users/lcavicchia/.pyenv/versions/3.7.7/envs/lewagon/lib/python3.7/site-packages/seaborn/distributions.py:2551: FutureWarning: `distplot` is a deprecated function and will be removed in a future version. Please adapt your code to use either `displot` (a figure-level function with similar flexibility) or `histplot` (an axes-level function for histograms).\n",
      "  warnings.warn(msg, FutureWarning)\n"
     ]
    },
    {
     "data": {
      "text/plain": [
       "<AxesSubplot:xlabel='partial_average', ylabel='Density'>"
      ]
     },
     "execution_count": 65,
     "metadata": {},
     "output_type": "execute_result"
    },
    {
     "data": {
      "image/png": "[encoded data removed]",
      "text/plain": [
       "<Figure size 432x288 with 1 Axes>"
      ]
     },
     "metadata": {
      "needs_background": "light"
     },
     "output_type": "display_data"
    }
   ],
   "source": [
    "sns.distplot(list_1rev['partial_average'])"
   ]
  },
  {
   "cell_type": "code",
   "execution_count": 66,
   "metadata": {},
   "outputs": [
    {
     "data": {
      "text/plain": [
       "10.000000    3484\n",
       "9.666667     1071\n",
       "9.333333      695\n",
       "9.000000      438\n",
       "8.666667      247\n",
       "8.333333      204\n",
       "8.000000      168\n",
       "7.666667      124\n",
       "7.333333       99\n",
       "7.000000       68\n",
       "2.000000       62\n",
       "6.666667       58\n",
       "6.333333       52\n",
       "6.000000       42\n",
       "5.666667       36\n",
       "5.000000       31\n",
       "5.333333       29\n",
       "4.000000       23\n",
       "2.666667       18\n",
       "4.333333       18\n",
       "3.000000       17\n",
       "3.666667       16\n",
       "4.666667       15\n",
       "2.333333       11\n",
       "3.333333       10\n",
       "8.166667        1\n",
       "9.500000        1\n",
       "9.166667        1\n",
       "Name: partial_average, dtype: int64"
      ]
     },
     "execution_count": 66,
     "metadata": {},
     "output_type": "execute_result"
    }
   ],
   "source": [
    "list_1rev['partial_average'].value_counts()"
   ]
  },
  {
   "cell_type": "code",
   "execution_count": 67,
   "metadata": {},
   "outputs": [
    {
     "name": "stderr",
     "output_type": "stream",
     "text": [
      "/Users/lcavicchia/.pyenv/versions/3.7.7/envs/lewagon/lib/python3.7/site-packages/ipykernel_launcher.py:1: SettingWithCopyWarning: \n",
      "A value is trying to be set on a copy of a slice from a DataFrame.\n",
      "Try using .loc[row_indexer,col_indexer] = value instead\n",
      "\n",
      "See the caveats in the documentation: https://pandas.pydata.org/pandas-docs/stable/user_guide/indexing.html#returning-a-view-versus-a-copy\n",
      "  \"\"\"Entry point for launching an IPython kernel.\n"
     ]
    }
   ],
   "source": [
    "list_1rev['total_partial_difference']=list_1rev['review_scores_rating']-list_1rev['partial_average']*10"
   ]
  },
  {
   "cell_type": "code",
   "execution_count": 68,
   "metadata": {},
   "outputs": [
    {
     "name": "stderr",
     "output_type": "stream",
     "text": [
      "/Users/lcavicchia/.pyenv/versions/3.7.7/envs/lewagon/lib/python3.7/site-packages/seaborn/distributions.py:2551: FutureWarning: `distplot` is a deprecated function and will be removed in a future version. Please adapt your code to use either `displot` (a figure-level function with similar flexibility) or `histplot` (an axes-level function for histograms).\n",
      "  warnings.warn(msg, FutureWarning)\n"
     ]
    },
    {
     "data": {
      "text/plain": [
       "(-40.0, 40.0)"
      ]
     },
     "execution_count": 68,
     "metadata": {},
     "output_type": "execute_result"
    },
    {
     "data": {
      "image/png": "[encoded data removed]",
      "text/plain": [
       "<Figure size 432x288 with 1 Axes>"
      ]
     },
     "metadata": {
      "needs_background": "light"
     },
     "output_type": "display_data"
    }
   ],
   "source": [
    "sns.distplot(list_1rev['total_partial_difference'])\n",
    "plt.xlim(-40,40)"
   ]
  },
  {
   "cell_type": "code",
   "execution_count": 69,
   "metadata": {},
   "outputs": [
    {
     "data": {
      "text/plain": [
       " 0.000000     3549\n",
       " 3.333333      902\n",
       " 6.666667      462\n",
       "-10.000000     276\n",
       "-13.333333     221\n",
       "              ... \n",
       "-0.333333        1\n",
       "-56.666667       1\n",
       " 2.333333        1\n",
       " 43.333333       1\n",
       "-66.666667       1\n",
       "Name: total_partial_difference, Length: 70, dtype: int64"
      ]
     },
     "execution_count": 69,
     "metadata": {},
     "output_type": "execute_result"
    }
   ],
   "source": [
    "list_1rev['total_partial_difference'].value_counts()"
   ]
  },
  {
   "cell_type": "code",
   "execution_count": 70,
   "metadata": {},
   "outputs": [
    {
     "name": "stderr",
     "output_type": "stream",
     "text": [
      "/Users/lcavicchia/.pyenv/versions/3.7.7/envs/lewagon/lib/python3.7/site-packages/seaborn/_decorators.py:43: FutureWarning: Pass the following variables as keyword args: x, y. From version 0.12, the only valid positional argument will be `data`, and passing other arguments without an explicit keyword will result in an error or misinterpretation.\n",
      "  FutureWarning\n"
     ]
    },
    {
     "data": {
      "text/plain": [
       "<AxesSubplot:xlabel='review_scores_rating', ylabel='partial_average'>"
      ]
     },
     "execution_count": 70,
     "metadata": {},
     "output_type": "execute_result"
    },
    {
     "data": {
      "image/png": "[encoded data removed]",
      "text/plain": [
       "<Figure size 432x288 with 1 Axes>"
      ]
     },
     "metadata": {
      "needs_background": "light"
     },
     "output_type": "display_data"
    }
   ],
   "source": [
    "sns.scatterplot(list_1rev['review_scores_rating'], list_1rev['partial_average']*10)"
   ]
  },
  {
   "cell_type": "markdown",
   "metadata": {},
   "source": [
    "# 2-reviews listings"
   ]
  },
  {
   "cell_type": "code",
   "execution_count": 47,
   "metadata": {},
   "outputs": [],
   "source": [
    "list_2rev=listn[listn['number_of_reviews']==2]"
   ]
  },
  {
   "cell_type": "code",
   "execution_count": 49,
   "metadata": {},
   "outputs": [
    {
     "data": {
      "text/plain": [
       "(5570, 106)"
      ]
     },
     "execution_count": 49,
     "metadata": {},
     "output_type": "execute_result"
    }
   ],
   "source": [
    "list_2rev.shape"
   ]
  },
  {
   "cell_type": "code",
   "execution_count": 50,
   "metadata": {},
   "outputs": [
    {
     "data": {
      "text/plain": [
       "100.0    3221\n",
       "90.0     1025\n",
       "80.0      654\n",
       "70.0      203\n",
       "60.0      176\n",
       "50.0       50\n",
       "20.0       35\n",
       "40.0       33\n",
       "30.0        4\n",
       "87.0        3\n",
       "89.0        2\n",
       "95.0        1\n",
       "81.0        1\n",
       "97.0        1\n",
       "96.0        1\n",
       "Name: review_scores_rating, dtype: int64"
      ]
     },
     "execution_count": 50,
     "metadata": {},
     "output_type": "execute_result"
    }
   ],
   "source": [
    "list_2rev['review_scores_rating'].value_counts()"
   ]
  },
  {
   "cell_type": "code",
   "execution_count": 52,
   "metadata": {},
   "outputs": [
    {
     "name": "stderr",
     "output_type": "stream",
     "text": [
      "/Users/lcavicchia/.pyenv/versions/3.7.7/envs/lewagon/lib/python3.7/site-packages/seaborn/distributions.py:2551: FutureWarning: `distplot` is a deprecated function and will be removed in a future version. Please adapt your code to use either `displot` (a figure-level function with similar flexibility) or `histplot` (an axes-level function for histograms).\n",
      "  warnings.warn(msg, FutureWarning)\n"
     ]
    },
    {
     "data": {
      "text/plain": [
       "<AxesSubplot:xlabel='review_scores_rating', ylabel='Density'>"
      ]
     },
     "execution_count": 52,
     "metadata": {},
     "output_type": "execute_result"
    },
    {
     "data": {
      "image/png": "[encoded data removed]",
      "text/plain": [
       "<Figure size 432x288 with 1 Axes>"
      ]
     },
     "metadata": {
      "needs_background": "light"
     },
     "output_type": "display_data"
    }
   ],
   "source": [
    "sns.distplot(list_2rev['review_scores_rating'])"
   ]
  },
  {
   "cell_type": "code",
   "execution_count": 53,
   "metadata": {},
   "outputs": [
    {
     "name": "stderr",
     "output_type": "stream",
     "text": [
      "/Users/lcavicchia/.pyenv/versions/3.7.7/envs/lewagon/lib/python3.7/site-packages/ipykernel_launcher.py:2: SettingWithCopyWarning: \n",
      "A value is trying to be set on a copy of a slice from a DataFrame.\n",
      "Try using .loc[row_indexer,col_indexer] = value instead\n",
      "\n",
      "See the caveats in the documentation: https://pandas.pydata.org/pandas-docs/stable/user_guide/indexing.html#returning-a-view-versus-a-copy\n",
      "  \n"
     ]
    }
   ],
   "source": [
    "list_2rev['partial_average']=(list_2rev['review_scores_accuracy']+list_2rev['review_scores_checkin']+list_2rev['review_scores_cleanliness'] +\\\n",
    "list_2rev['review_scores_communication'] + list_2rev['review_scores_location'] + list_2rev['review_scores_value'])/6\n",
    "\n"
   ]
  },
  {
   "cell_type": "code",
   "execution_count": 54,
   "metadata": {},
   "outputs": [
    {
     "name": "stderr",
     "output_type": "stream",
     "text": [
      "/Users/lcavicchia/.pyenv/versions/3.7.7/envs/lewagon/lib/python3.7/site-packages/ipykernel_launcher.py:1: SettingWithCopyWarning: \n",
      "A value is trying to be set on a copy of a slice from a DataFrame.\n",
      "Try using .loc[row_indexer,col_indexer] = value instead\n",
      "\n",
      "See the caveats in the documentation: https://pandas.pydata.org/pandas-docs/stable/user_guide/indexing.html#returning-a-view-versus-a-copy\n",
      "  \"\"\"Entry point for launching an IPython kernel.\n"
     ]
    }
   ],
   "source": [
    "list_2rev['total_partial_difference']=list_2rev['review_scores_rating']-list_2rev['partial_average']*10"
   ]
  },
  {
   "cell_type": "code",
   "execution_count": 55,
   "metadata": {},
   "outputs": [
    {
     "name": "stderr",
     "output_type": "stream",
     "text": [
      "/Users/lcavicchia/.pyenv/versions/3.7.7/envs/lewagon/lib/python3.7/site-packages/seaborn/distributions.py:2551: FutureWarning: `distplot` is a deprecated function and will be removed in a future version. Please adapt your code to use either `displot` (a figure-level function with similar flexibility) or `histplot` (an axes-level function for histograms).\n",
      "  warnings.warn(msg, FutureWarning)\n"
     ]
    },
    {
     "data": {
      "text/plain": [
       "(-40.0, 40.0)"
      ]
     },
     "execution_count": 55,
     "metadata": {},
     "output_type": "execute_result"
    },
    {
     "data": {
      "image/png": "[encoded data removed]",
      "text/plain": [
       "<Figure size 432x288 with 1 Axes>"
      ]
     },
     "metadata": {
      "needs_background": "light"
     },
     "output_type": "display_data"
    }
   ],
   "source": [
    "sns.distplot(list_2rev['total_partial_difference'])\n",
    "plt.xlim(-40,40)"
   ]
  },
  {
   "cell_type": "code",
   "execution_count": 56,
   "metadata": {},
   "outputs": [
    {
     "data": {
      "text/plain": [
       " 0.000000     1756\n",
       " 1.666667      665\n",
       " 3.333333      527\n",
       "-5.000000      229\n",
       "-6.666667      218\n",
       "              ... \n",
       "-3.333333        1\n",
       " 2.000000        1\n",
       "-35.000000       1\n",
       " 3.333333        1\n",
       " 0.666667        1\n",
       "Name: total_partial_difference, Length: 74, dtype: int64"
      ]
     },
     "execution_count": 56,
     "metadata": {},
     "output_type": "execute_result"
    }
   ],
   "source": [
    "list_2rev['total_partial_difference'].value_counts()"
   ]
  },
  {
   "cell_type": "code",
   "execution_count": 77,
   "metadata": {},
   "outputs": [
    {
     "name": "stderr",
     "output_type": "stream",
     "text": [
      "/Users/lcavicchia/.pyenv/versions/3.7.7/envs/lewagon/lib/python3.7/site-packages/seaborn/_decorators.py:43: FutureWarning: Pass the following variables as keyword args: x, y. From version 0.12, the only valid positional argument will be `data`, and passing other arguments without an explicit keyword will result in an error or misinterpretation.\n",
      "  FutureWarning\n"
     ]
    },
    {
     "data": {
      "text/plain": [
       "<AxesSubplot:xlabel='review_scores_rating', ylabel='partial_average'>"
      ]
     },
     "execution_count": 77,
     "metadata": {},
     "output_type": "execute_result"
    },
    {
     "data": {
      "image/png": "[encoded data removed]",
      "text/plain": [
       "<Figure size 432x288 with 1 Axes>"
      ]
     },
     "metadata": {
      "needs_background": "light"
     },
     "output_type": "display_data"
    }
   ],
   "source": [
    "sns.scatterplot(list_2rev['review_scores_rating'], list_2rev['partial_average']*10)"
   ]
  },
  {
   "cell_type": "code",
   "execution_count": 79,
   "metadata": {},
   "outputs": [
    {
     "name": "stderr",
     "output_type": "stream",
     "text": [
      "/Users/lcavicchia/.pyenv/versions/3.7.7/envs/lewagon/lib/python3.7/site-packages/seaborn/_decorators.py:43: FutureWarning: Pass the following variables as keyword args: x, y. From version 0.12, the only valid positional argument will be `data`, and passing other arguments without an explicit keyword will result in an error or misinterpretation.\n",
      "  FutureWarning\n"
     ]
    },
    {
     "data": {
      "text/plain": [
       "<AxesSubplot:xlabel='review_scores_rating', ylabel='partial_average'>"
      ]
     },
     "execution_count": 79,
     "metadata": {},
     "output_type": "execute_result"
    },
    {
     "data": {
      "image/png": "[encoded data removed]",
      "text/plain": [
       "<Figure size 432x288 with 1 Axes>"
      ]
     },
     "metadata": {
      "needs_background": "light"
     },
     "output_type": "display_data"
    }
   ],
   "source": [
    "sns.scatterplot(list_2rev['review_scores_rating'], list_2rev['partial_average']*10,hue=list_2rev['review_scores_value'])\n"
   ]
  },
  {
   "cell_type": "code",
   "execution_count": 80,
   "metadata": {},
   "outputs": [
    {
     "name": "stderr",
     "output_type": "stream",
     "text": [
      "/Users/lcavicchia/.pyenv/versions/3.7.7/envs/lewagon/lib/python3.7/site-packages/seaborn/_decorators.py:43: FutureWarning: Pass the following variables as keyword args: x, y. From version 0.12, the only valid positional argument will be `data`, and passing other arguments without an explicit keyword will result in an error or misinterpretation.\n",
      "  FutureWarning\n"
     ]
    },
    {
     "data": {
      "text/plain": [
       "<AxesSubplot:xlabel='review_scores_rating', ylabel='partial_average'>"
      ]
     },
     "execution_count": 80,
     "metadata": {},
     "output_type": "execute_result"
    },
    {
     "data": {
      "image/png": "[encoded data removed]",
      "text/plain": [
       "<Figure size 432x288 with 1 Axes>"
      ]
     },
     "metadata": {
      "needs_background": "light"
     },
     "output_type": "display_data"
    }
   ],
   "source": [
    "sns.scatterplot(list_2rev['review_scores_rating'], list_2rev['partial_average']*10,hue=list_2rev['review_scores_accuracy'])\n"
   ]
  },
  {
   "cell_type": "code",
   "execution_count": null,
   "metadata": {},
   "outputs": [],
   "source": []
  }
 ],
 "metadata": {
  "kernelspec": {
   "display_name": "Python 3",
   "language": "python",
   "name": "python3"
  },
  "language_info": {
   "codemirror_mode": {
    "name": "ipython",
    "version": 3
   },
   "file_extension": ".py",
   "mimetype": "text/x-python",
   "name": "python",
   "nbconvert_exporter": "python",
   "pygments_lexer": "ipython3",
   "version": "3.7.7"
  },
  "toc": {
   "base_numbering": 1,
   "nav_menu": {},
   "number_sections": true,
   "sideBar": true,
   "skip_h1_title": false,
   "title_cell": "Table of Contents",
   "title_sidebar": "Contents",
   "toc_cell": false,
   "toc_position": {},
   "toc_section_display": true,
   "toc_window_display": true
  },
  "varInspector": {
   "cols": {
    "lenName": 16,
    "lenType": 16,
    "lenVar": 40
   },
   "kernels_config": {
    "python": {
     "delete_cmd_postfix": "",
     "delete_cmd_prefix": "del ",
     "library": "var_list.py",
     "varRefreshCmd": "print(var_dic_list())"
    },
    "r": {
     "delete_cmd_postfix": ") ",
     "delete_cmd_prefix": "rm(",
     "library": "var_list.r",
     "varRefreshCmd": "cat(var_dic_list()) "
    }
   },
   "types_to_exclude": [
    "module",
    "function",
    "builtin_function_or_method",
    "instance",
    "_Feature"
   ],
   "window_display": false
  }
 },
 "nbformat": 4,
 "nbformat_minor": 4
}
